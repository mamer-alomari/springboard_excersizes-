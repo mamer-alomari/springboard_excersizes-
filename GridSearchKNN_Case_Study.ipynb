{
 "cells": [
  {
   "cell_type": "markdown",
   "metadata": {},
   "source": [
    "## Grid Search Hyperparameter optimization"
   ]
  },
  {
   "cell_type": "markdown",
   "metadata": {},
   "source": [
    "This case study is all about using grid searches to identify the optimal parameters for a machine learning algorithm. To complere this case study, you'll use the Pima Indian diabetes dataset from Kaggle and KNN. Follow along with the preprocessing steps of this case study."
   ]
  },
  {
   "cell_type": "markdown",
   "metadata": {
    "tags": []
   },
   "source": [
    "Load the necessary packages"
   ]
  },
  {
   "cell_type": "code",
   "execution_count": 36,
   "metadata": {},
   "outputs": [],
   "source": [
    "import numpy as np\n",
    "import pandas as pd\n",
    "import matplotlib.pyplot as plt\n",
    "import seaborn as sns\n",
    "sns.set()\n",
    "from sklearn.model_selection import train_test_split\n",
    "# set random seed to try make this exercise and solutions reproducible (NB: this is just for teaching purpose and not something you would do in real life)\n",
    "random_seed_number = 42\n",
    "np.random.seed(random_seed_number)"
   ]
  },
  {
   "cell_type": "markdown",
   "metadata": {
    "tags": []
   },
   "source": [
    "#### Load the diabetes data"
   ]
  },
  {
   "cell_type": "code",
   "execution_count": 3,
   "metadata": {},
   "outputs": [
    {
     "data": {
      "text/html": [
       "<div>\n",
       "<style scoped>\n",
       "    .dataframe tbody tr th:only-of-type {\n",
       "        vertical-align: middle;\n",
       "    }\n",
       "\n",
       "    .dataframe tbody tr th {\n",
       "        vertical-align: top;\n",
       "    }\n",
       "\n",
       "    .dataframe thead th {\n",
       "        text-align: right;\n",
       "    }\n",
       "</style>\n",
       "<table border=\"1\" class=\"dataframe\">\n",
       "  <thead>\n",
       "    <tr style=\"text-align: right;\">\n",
       "      <th></th>\n",
       "      <th>Pregnancies</th>\n",
       "      <th>Glucose</th>\n",
       "      <th>BloodPressure</th>\n",
       "      <th>SkinThickness</th>\n",
       "      <th>Insulin</th>\n",
       "      <th>BMI</th>\n",
       "      <th>DiabetesPedigreeFunction</th>\n",
       "      <th>Age</th>\n",
       "      <th>Outcome</th>\n",
       "    </tr>\n",
       "  </thead>\n",
       "  <tbody>\n",
       "    <tr>\n",
       "      <th>0</th>\n",
       "      <td>6</td>\n",
       "      <td>148</td>\n",
       "      <td>72</td>\n",
       "      <td>35</td>\n",
       "      <td>0</td>\n",
       "      <td>33.6</td>\n",
       "      <td>0.627</td>\n",
       "      <td>50</td>\n",
       "      <td>1</td>\n",
       "    </tr>\n",
       "    <tr>\n",
       "      <th>1</th>\n",
       "      <td>1</td>\n",
       "      <td>85</td>\n",
       "      <td>66</td>\n",
       "      <td>29</td>\n",
       "      <td>0</td>\n",
       "      <td>26.6</td>\n",
       "      <td>0.351</td>\n",
       "      <td>31</td>\n",
       "      <td>0</td>\n",
       "    </tr>\n",
       "    <tr>\n",
       "      <th>2</th>\n",
       "      <td>8</td>\n",
       "      <td>183</td>\n",
       "      <td>64</td>\n",
       "      <td>0</td>\n",
       "      <td>0</td>\n",
       "      <td>23.3</td>\n",
       "      <td>0.672</td>\n",
       "      <td>32</td>\n",
       "      <td>1</td>\n",
       "    </tr>\n",
       "    <tr>\n",
       "      <th>3</th>\n",
       "      <td>1</td>\n",
       "      <td>89</td>\n",
       "      <td>66</td>\n",
       "      <td>23</td>\n",
       "      <td>94</td>\n",
       "      <td>28.1</td>\n",
       "      <td>0.167</td>\n",
       "      <td>21</td>\n",
       "      <td>0</td>\n",
       "    </tr>\n",
       "    <tr>\n",
       "      <th>4</th>\n",
       "      <td>0</td>\n",
       "      <td>137</td>\n",
       "      <td>40</td>\n",
       "      <td>35</td>\n",
       "      <td>168</td>\n",
       "      <td>43.1</td>\n",
       "      <td>2.288</td>\n",
       "      <td>33</td>\n",
       "      <td>1</td>\n",
       "    </tr>\n",
       "  </tbody>\n",
       "</table>\n",
       "</div>"
      ],
      "text/plain": [
       "   Pregnancies  Glucose  BloodPressure  SkinThickness  Insulin   BMI  \\\n",
       "0            6      148             72             35        0  33.6   \n",
       "1            1       85             66             29        0  26.6   \n",
       "2            8      183             64              0        0  23.3   \n",
       "3            1       89             66             23       94  28.1   \n",
       "4            0      137             40             35      168  43.1   \n",
       "\n",
       "   DiabetesPedigreeFunction  Age  Outcome  \n",
       "0                     0.627   50        1  \n",
       "1                     0.351   31        0  \n",
       "2                     0.672   32        1  \n",
       "3                     0.167   21        0  \n",
       "4                     2.288   33        1  "
      ]
     },
     "execution_count": 3,
     "metadata": {},
     "output_type": "execute_result"
    }
   ],
   "source": [
    "diabetes_data = pd.read_csv('data/diabetes.csv')\n",
    "diabetes_data.head()"
   ]
  },
  {
   "cell_type": "markdown",
   "metadata": {
    "tags": []
   },
   "source": [
    "**<font color='teal'> Start by reviewing the data info.</font>**"
   ]
  },
  {
   "cell_type": "code",
   "execution_count": 4,
   "metadata": {},
   "outputs": [
    {
     "name": "stdout",
     "output_type": "stream",
     "text": [
      "<class 'pandas.core.frame.DataFrame'>\n",
      "RangeIndex: 768 entries, 0 to 767\n",
      "Data columns (total 9 columns):\n",
      " #   Column                    Non-Null Count  Dtype  \n",
      "---  ------                    --------------  -----  \n",
      " 0   Pregnancies               768 non-null    int64  \n",
      " 1   Glucose                   768 non-null    int64  \n",
      " 2   BloodPressure             768 non-null    int64  \n",
      " 3   SkinThickness             768 non-null    int64  \n",
      " 4   Insulin                   768 non-null    int64  \n",
      " 5   BMI                       768 non-null    float64\n",
      " 6   DiabetesPedigreeFunction  768 non-null    float64\n",
      " 7   Age                       768 non-null    int64  \n",
      " 8   Outcome                   768 non-null    int64  \n",
      "dtypes: float64(2), int64(7)\n",
      "memory usage: 54.1 KB\n"
     ]
    }
   ],
   "source": [
    "diabetes_data.info()"
   ]
  },
  {
   "cell_type": "code",
   "execution_count": null,
   "metadata": {},
   "outputs": [],
   "source": []
  },
  {
   "cell_type": "code",
   "execution_count": 4,
   "metadata": {},
   "outputs": [],
   "source": []
  },
  {
   "cell_type": "markdown",
   "metadata": {
    "tags": []
   },
   "source": [
    "**<font color='teal'> Apply the describe function to the data.</font>**"
   ]
  },
  {
   "cell_type": "code",
   "execution_count": 5,
   "metadata": {},
   "outputs": [
    {
     "data": {
      "text/html": [
       "<div>\n",
       "<style scoped>\n",
       "    .dataframe tbody tr th:only-of-type {\n",
       "        vertical-align: middle;\n",
       "    }\n",
       "\n",
       "    .dataframe tbody tr th {\n",
       "        vertical-align: top;\n",
       "    }\n",
       "\n",
       "    .dataframe thead th {\n",
       "        text-align: right;\n",
       "    }\n",
       "</style>\n",
       "<table border=\"1\" class=\"dataframe\">\n",
       "  <thead>\n",
       "    <tr style=\"text-align: right;\">\n",
       "      <th></th>\n",
       "      <th>Pregnancies</th>\n",
       "      <th>Glucose</th>\n",
       "      <th>BloodPressure</th>\n",
       "      <th>SkinThickness</th>\n",
       "      <th>Insulin</th>\n",
       "      <th>BMI</th>\n",
       "      <th>DiabetesPedigreeFunction</th>\n",
       "      <th>Age</th>\n",
       "      <th>Outcome</th>\n",
       "    </tr>\n",
       "  </thead>\n",
       "  <tbody>\n",
       "    <tr>\n",
       "      <th>count</th>\n",
       "      <td>768.000000</td>\n",
       "      <td>768.000000</td>\n",
       "      <td>768.000000</td>\n",
       "      <td>768.000000</td>\n",
       "      <td>768.000000</td>\n",
       "      <td>768.000000</td>\n",
       "      <td>768.000000</td>\n",
       "      <td>768.000000</td>\n",
       "      <td>768.000000</td>\n",
       "    </tr>\n",
       "    <tr>\n",
       "      <th>mean</th>\n",
       "      <td>3.845052</td>\n",
       "      <td>120.894531</td>\n",
       "      <td>69.105469</td>\n",
       "      <td>20.536458</td>\n",
       "      <td>79.799479</td>\n",
       "      <td>31.992578</td>\n",
       "      <td>0.471876</td>\n",
       "      <td>33.240885</td>\n",
       "      <td>0.348958</td>\n",
       "    </tr>\n",
       "    <tr>\n",
       "      <th>std</th>\n",
       "      <td>3.369578</td>\n",
       "      <td>31.972618</td>\n",
       "      <td>19.355807</td>\n",
       "      <td>15.952218</td>\n",
       "      <td>115.244002</td>\n",
       "      <td>7.884160</td>\n",
       "      <td>0.331329</td>\n",
       "      <td>11.760232</td>\n",
       "      <td>0.476951</td>\n",
       "    </tr>\n",
       "    <tr>\n",
       "      <th>min</th>\n",
       "      <td>0.000000</td>\n",
       "      <td>0.000000</td>\n",
       "      <td>0.000000</td>\n",
       "      <td>0.000000</td>\n",
       "      <td>0.000000</td>\n",
       "      <td>0.000000</td>\n",
       "      <td>0.078000</td>\n",
       "      <td>21.000000</td>\n",
       "      <td>0.000000</td>\n",
       "    </tr>\n",
       "    <tr>\n",
       "      <th>25%</th>\n",
       "      <td>1.000000</td>\n",
       "      <td>99.000000</td>\n",
       "      <td>62.000000</td>\n",
       "      <td>0.000000</td>\n",
       "      <td>0.000000</td>\n",
       "      <td>27.300000</td>\n",
       "      <td>0.243750</td>\n",
       "      <td>24.000000</td>\n",
       "      <td>0.000000</td>\n",
       "    </tr>\n",
       "    <tr>\n",
       "      <th>50%</th>\n",
       "      <td>3.000000</td>\n",
       "      <td>117.000000</td>\n",
       "      <td>72.000000</td>\n",
       "      <td>23.000000</td>\n",
       "      <td>30.500000</td>\n",
       "      <td>32.000000</td>\n",
       "      <td>0.372500</td>\n",
       "      <td>29.000000</td>\n",
       "      <td>0.000000</td>\n",
       "    </tr>\n",
       "    <tr>\n",
       "      <th>75%</th>\n",
       "      <td>6.000000</td>\n",
       "      <td>140.250000</td>\n",
       "      <td>80.000000</td>\n",
       "      <td>32.000000</td>\n",
       "      <td>127.250000</td>\n",
       "      <td>36.600000</td>\n",
       "      <td>0.626250</td>\n",
       "      <td>41.000000</td>\n",
       "      <td>1.000000</td>\n",
       "    </tr>\n",
       "    <tr>\n",
       "      <th>max</th>\n",
       "      <td>17.000000</td>\n",
       "      <td>199.000000</td>\n",
       "      <td>122.000000</td>\n",
       "      <td>99.000000</td>\n",
       "      <td>846.000000</td>\n",
       "      <td>67.100000</td>\n",
       "      <td>2.420000</td>\n",
       "      <td>81.000000</td>\n",
       "      <td>1.000000</td>\n",
       "    </tr>\n",
       "  </tbody>\n",
       "</table>\n",
       "</div>"
      ],
      "text/plain": [
       "       Pregnancies     Glucose  BloodPressure  SkinThickness     Insulin  \\\n",
       "count   768.000000  768.000000     768.000000     768.000000  768.000000   \n",
       "mean      3.845052  120.894531      69.105469      20.536458   79.799479   \n",
       "std       3.369578   31.972618      19.355807      15.952218  115.244002   \n",
       "min       0.000000    0.000000       0.000000       0.000000    0.000000   \n",
       "25%       1.000000   99.000000      62.000000       0.000000    0.000000   \n",
       "50%       3.000000  117.000000      72.000000      23.000000   30.500000   \n",
       "75%       6.000000  140.250000      80.000000      32.000000  127.250000   \n",
       "max      17.000000  199.000000     122.000000      99.000000  846.000000   \n",
       "\n",
       "              BMI  DiabetesPedigreeFunction         Age     Outcome  \n",
       "count  768.000000                768.000000  768.000000  768.000000  \n",
       "mean    31.992578                  0.471876   33.240885    0.348958  \n",
       "std      7.884160                  0.331329   11.760232    0.476951  \n",
       "min      0.000000                  0.078000   21.000000    0.000000  \n",
       "25%     27.300000                  0.243750   24.000000    0.000000  \n",
       "50%     32.000000                  0.372500   29.000000    0.000000  \n",
       "75%     36.600000                  0.626250   41.000000    1.000000  \n",
       "max     67.100000                  2.420000   81.000000    1.000000  "
      ]
     },
     "execution_count": 5,
     "metadata": {},
     "output_type": "execute_result"
    }
   ],
   "source": [
    "diabetes_data.describe()"
   ]
  },
  {
   "cell_type": "markdown",
   "metadata": {
    "tags": []
   },
   "source": [
    "**<font color='teal'> Currently, the missing values in the dataset are represented as zeros. Replace the zero values in the following columns ['Glucose','BloodPressure','SkinThickness','Insulin','BMI'] with nan .</font>**"
   ]
  },
  {
   "cell_type": "code",
   "execution_count": 19,
   "metadata": {},
   "outputs": [],
   "source": [
    "diabetes_data.Glucose.replace(0,np.nan,inplace=True)\n",
    "diabetes_data.BloodPressure.replace(0,np.nan,inplace=True)\n",
    "diabetes_data.SkinThickness.replace(0,np.nan,inplace=True)\n",
    "diabetes_data.Insulin.replace(0,np.nan,inplace=True)\n",
    "diabetes_data.BMI.replace(0,np.nan,inplace=True)"
   ]
  },
  {
   "cell_type": "code",
   "execution_count": 20,
   "metadata": {},
   "outputs": [
    {
     "data": {
      "text/plain": [
       "False    763\n",
       "True       5\n",
       "Name: Glucose, dtype: int64"
      ]
     },
     "execution_count": 20,
     "metadata": {},
     "output_type": "execute_result"
    }
   ],
   "source": [
    "diabetes_data.Glucose.isna().value_counts()"
   ]
  },
  {
   "cell_type": "markdown",
   "metadata": {
    "tags": []
   },
   "source": [
    "**<font color='teal'> Plot histograms of each column. </font>**"
   ]
  },
  {
   "cell_type": "code",
   "execution_count": 21,
   "metadata": {},
   "outputs": [
    {
     "data": {
      "text/plain": [
       "(array([  4.,  19.,  87., 149., 161., 125.,  88.,  54.,  44.,  32.]),\n",
       " array([ 44. ,  59.5,  75. ,  90.5, 106. , 121.5, 137. , 152.5, 168. ,\n",
       "        183.5, 199. ]),\n",
       " <BarContainer object of 10 artists>)"
      ]
     },
     "execution_count": 21,
     "metadata": {},
     "output_type": "execute_result"
    },
    {
     "data": {
      "image/png": "[encoded data removed]",
      "text/plain": [
       "<Figure size 432x288 with 1 Axes>"
      ]
     },
     "metadata": {},
     "output_type": "display_data"
    }
   ],
   "source": [
    "plt.hist(diabetes_data.Glucose)\n"
   ]
  },
  {
   "cell_type": "code",
   "execution_count": 22,
   "metadata": {},
   "outputs": [
    {
     "data": {
      "text/plain": [
       "(array([  3.,   2.,  35., 118., 226., 214., 105.,  18.,  10.,   2.]),\n",
       " array([ 24. ,  33.8,  43.6,  53.4,  63.2,  73. ,  82.8,  92.6, 102.4,\n",
       "        112.2, 122. ]),\n",
       " <BarContainer object of 10 artists>)"
      ]
     },
     "execution_count": 22,
     "metadata": {},
     "output_type": "execute_result"
    },
    {
     "data": {
      "image/png": "[encoded data removed]",
      "text/plain": [
       "<Figure size 432x288 with 1 Axes>"
      ]
     },
     "metadata": {},
     "output_type": "display_data"
    }
   ],
   "source": [
    "plt.hist(diabetes_data.BloodPressure)\n"
   ]
  },
  {
   "cell_type": "code",
   "execution_count": 23,
   "metadata": {},
   "outputs": [
    {
     "data": {
      "text/plain": [
       "(array([ 59., 141., 181., 118.,  36.,   4.,   1.,   0.,   0.,   1.]),\n",
       " array([ 7. , 16.2, 25.4, 34.6, 43.8, 53. , 62.2, 71.4, 80.6, 89.8, 99. ]),\n",
       " <BarContainer object of 10 artists>)"
      ]
     },
     "execution_count": 23,
     "metadata": {},
     "output_type": "execute_result"
    },
    {
     "data": {
      "image/png": "[encoded data removed]",
      "text/plain": [
       "<Figure size 432x288 with 1 Axes>"
      ]
     },
     "metadata": {},
     "output_type": "display_data"
    }
   ],
   "source": [
    "plt.hist(diabetes_data.SkinThickness)\n"
   ]
  },
  {
   "cell_type": "code",
   "execution_count": 24,
   "metadata": {},
   "outputs": [
    {
     "data": {
      "text/plain": [
       "(array([142., 143.,  55.,  29.,   7.,  10.,   4.,   1.,   2.,   1.]),\n",
       " array([ 14. ,  97.2, 180.4, 263.6, 346.8, 430. , 513.2, 596.4, 679.6,\n",
       "        762.8, 846. ]),\n",
       " <BarContainer object of 10 artists>)"
      ]
     },
     "execution_count": 24,
     "metadata": {},
     "output_type": "execute_result"
    },
    {
     "data": {
      "image/png": "[encoded data removed]",
      "text/plain": [
       "<Figure size 432x288 with 1 Axes>"
      ]
     },
     "metadata": {},
     "output_type": "display_data"
    }
   ],
   "source": [
    "plt.hist(diabetes_data.Insulin)\n"
   ]
  },
  {
   "cell_type": "code",
   "execution_count": 25,
   "metadata": {},
   "outputs": [
    {
     "data": {
      "text/plain": [
       "(array([ 52., 161., 196., 193.,  91.,  48.,  10.,   4.,   1.,   1.]),\n",
       " array([18.2 , 23.09, 27.98, 32.87, 37.76, 42.65, 47.54, 52.43, 57.32,\n",
       "        62.21, 67.1 ]),\n",
       " <BarContainer object of 10 artists>)"
      ]
     },
     "execution_count": 25,
     "metadata": {},
     "output_type": "execute_result"
    },
    {
     "data": {
      "image/png": "[encoded data removed]",
      "text/plain": [
       "<Figure size 432x288 with 1 Axes>"
      ]
     },
     "metadata": {},
     "output_type": "display_data"
    }
   ],
   "source": [
    "plt.hist(diabetes_data.BMI)"
   ]
  },
  {
   "cell_type": "markdown",
   "metadata": {
    "tags": []
   },
   "source": [
    "#### Replace the zeros with mean and median values."
   ]
  },
  {
   "cell_type": "code",
   "execution_count": 26,
   "metadata": {},
   "outputs": [],
   "source": [
    "diabetes_data['Glucose'].fillna(diabetes_data['Glucose'].mean(), inplace = True)\n",
    "diabetes_data['BloodPressure'].fillna(diabetes_data['BloodPressure'].mean(), inplace = True)\n",
    "diabetes_data['SkinThickness'].fillna(diabetes_data['SkinThickness'].median(), inplace = True)\n",
    "diabetes_data['Insulin'].fillna(diabetes_data['Insulin'].median(), inplace = True)\n",
    "diabetes_data['BMI'].fillna(diabetes_data['BMI'].median(), inplace = True)"
   ]
  },
  {
   "cell_type": "markdown",
   "metadata": {
    "tags": []
   },
   "source": [
    "**<font color='teal'> Plot histograms of each column after replacing nan. </font>**"
   ]
  },
  {
   "cell_type": "code",
   "execution_count": 27,
   "metadata": {},
   "outputs": [
    {
     "data": {
      "text/plain": [
       "(array([  4.,  19.,  87., 149., 161., 130.,  88.,  54.,  44.,  32.]),\n",
       " array([ 44. ,  59.5,  75. ,  90.5, 106. , 121.5, 137. , 152.5, 168. ,\n",
       "        183.5, 199. ]),\n",
       " <BarContainer object of 10 artists>)"
      ]
     },
     "execution_count": 27,
     "metadata": {},
     "output_type": "execute_result"
    },
    {
     "data": {
      "image/png": "[encoded data removed]",
      "text/plain": [
       "<Figure size 432x288 with 1 Axes>"
      ]
     },
     "metadata": {},
     "output_type": "display_data"
    }
   ],
   "source": [
    "plt.hist(diabetes_data.Glucose)\n"
   ]
  },
  {
   "cell_type": "code",
   "execution_count": 28,
   "metadata": {},
   "outputs": [
    {
     "data": {
      "text/plain": [
       "(array([  3.,   2.,  35., 118., 261., 214., 105.,  18.,  10.,   2.]),\n",
       " array([ 24. ,  33.8,  43.6,  53.4,  63.2,  73. ,  82.8,  92.6, 102.4,\n",
       "        112.2, 122. ]),\n",
       " <BarContainer object of 10 artists>)"
      ]
     },
     "execution_count": 28,
     "metadata": {},
     "output_type": "execute_result"
    },
    {
     "data": {
      "image/png": "[encoded data removed]",
      "text/plain": [
       "<Figure size 432x288 with 1 Axes>"
      ]
     },
     "metadata": {},
     "output_type": "display_data"
    }
   ],
   "source": [
    "plt.hist(diabetes_data.BloodPressure)"
   ]
  },
  {
   "cell_type": "code",
   "execution_count": 29,
   "metadata": {},
   "outputs": [
    {
     "data": {
      "text/plain": [
       "(array([ 59., 141., 408., 118.,  36.,   4.,   1.,   0.,   0.,   1.]),\n",
       " array([ 7. , 16.2, 25.4, 34.6, 43.8, 53. , 62.2, 71.4, 80.6, 89.8, 99. ]),\n",
       " <BarContainer object of 10 artists>)"
      ]
     },
     "execution_count": 29,
     "metadata": {},
     "output_type": "execute_result"
    },
    {
     "data": {
      "image/png": "[encoded data removed]",
      "text/plain": [
       "<Figure size 432x288 with 1 Axes>"
      ]
     },
     "metadata": {},
     "output_type": "display_data"
    }
   ],
   "source": [
    "plt.hist(diabetes_data.SkinThickness)"
   ]
  },
  {
   "cell_type": "code",
   "execution_count": 30,
   "metadata": {},
   "outputs": [
    {
     "data": {
      "text/plain": [
       "(array([142., 517.,  55.,  29.,   7.,  10.,   4.,   1.,   2.,   1.]),\n",
       " array([ 14. ,  97.2, 180.4, 263.6, 346.8, 430. , 513.2, 596.4, 679.6,\n",
       "        762.8, 846. ]),\n",
       " <BarContainer object of 10 artists>)"
      ]
     },
     "execution_count": 30,
     "metadata": {},
     "output_type": "execute_result"
    },
    {
     "data": {
      "image/png": "[encoded data removed]",
      "text/plain": [
       "<Figure size 432x288 with 1 Axes>"
      ]
     },
     "metadata": {},
     "output_type": "display_data"
    }
   ],
   "source": [
    "plt.hist(diabetes_data.Insulin)"
   ]
  },
  {
   "cell_type": "code",
   "execution_count": 31,
   "metadata": {},
   "outputs": [
    {
     "data": {
      "text/plain": [
       "(array([ 52., 161., 207., 193.,  91.,  48.,  10.,   4.,   1.,   1.]),\n",
       " array([18.2 , 23.09, 27.98, 32.87, 37.76, 42.65, 47.54, 52.43, 57.32,\n",
       "        62.21, 67.1 ]),\n",
       " <BarContainer object of 10 artists>)"
      ]
     },
     "execution_count": 31,
     "metadata": {},
     "output_type": "execute_result"
    },
    {
     "data": {
      "image/png": "[encoded data removed]",
      "text/plain": [
       "<Figure size 432x288 with 1 Axes>"
      ]
     },
     "metadata": {},
     "output_type": "display_data"
    }
   ],
   "source": [
    "plt.hist(diabetes_data.BMI)"
   ]
  },
  {
   "cell_type": "markdown",
   "metadata": {
    "tags": []
   },
   "source": [
    "#### Plot the correlation matrix heatmap"
   ]
  },
  {
   "cell_type": "code",
   "execution_count": 32,
   "metadata": {},
   "outputs": [
    {
     "name": "stdout",
     "output_type": "stream",
     "text": [
      "Correlation between various features\n"
     ]
    },
    {
     "data": {
      "image/png": "[encoded data removed]",
      "text/plain": [
       "<Figure size 864x720 with 2 Axes>"
      ]
     },
     "metadata": {},
     "output_type": "display_data"
    }
   ],
   "source": [
    "plt.figure(figsize=(12,10))\n",
    "print('Correlation between various features')\n",
    "p=sns.heatmap(diabetes_data.corr(), annot=True,cmap ='Blues')"
   ]
  },
  {
   "cell_type": "markdown",
   "metadata": {
    "tags": []
   },
   "source": [
    "**<font color='teal'> Define the `y` variable as the `Outcome` column.</font>**"
   ]
  },
  {
   "cell_type": "code",
   "execution_count": 34,
   "metadata": {},
   "outputs": [],
   "source": [
    "X=diabetes_data.drop('Outcome',axis=1)\n",
    "y=diabetes_data['Outcome']"
   ]
  },
  {
   "cell_type": "markdown",
   "metadata": {
    "tags": []
   },
   "source": [
    "**<font color='teal'> Create a 70/30 train and test split. </font>**"
   ]
  },
  {
   "cell_type": "code",
   "execution_count": 37,
   "metadata": {},
   "outputs": [],
   "source": [
    "X_train,X_test,y_train,y_test=train_test_split(X,y,test_size=0.3)"
   ]
  },
  {
   "cell_type": "markdown",
   "metadata": {
    "tags": []
   },
   "source": [
    "**<font color='teal'> Using Sklearn, standarize the magnitude of the features by scaling the values. </font>**"
   ]
  },
  {
   "cell_type": "markdown",
   "metadata": {},
   "source": [
    "Note: Don't forget to fit() your scaler on X_train and then use that fitted scaler to transform() X_test. This is to avoid data leakage while you standardize your data."
   ]
  },
  {
   "cell_type": "code",
   "execution_count": 68,
   "metadata": {},
   "outputs": [],
   "source": [
    "from sklearn.preprocessing import StandardScaler\n",
    "Scaler=StandardScaler()\n",
    "Scaler.fit(X,y)\n",
    "Scaled=Scaler.transform(X)"
   ]
  },
  {
   "cell_type": "code",
   "execution_count": 70,
   "metadata": {},
   "outputs": [],
   "source": [
    "X_train,X_test,y_train,y_test=train_test_split(Scaled,y,test_size=0.3)"
   ]
  },
  {
   "cell_type": "markdown",
   "metadata": {
    "tags": []
   },
   "source": [
    "#### Using a range of neighbor values of 1-10, apply the KNearestNeighbor classifier to classify the the data."
   ]
  },
  {
   "cell_type": "code",
   "execution_count": 71,
   "metadata": {},
   "outputs": [],
   "source": [
    "from sklearn.neighbors import KNeighborsClassifier\n",
    "\n",
    "\n",
    "test_scores = []\n",
    "train_scores = []\n",
    "\n",
    "for i in range(1,10):\n",
    "\n",
    "    knn = KNeighborsClassifier(i)\n",
    "    knn.fit(X_train,y_train)\n",
    "    \n",
    "    train_scores.append(knn.score(X_train,y_train))\n",
    "    test_scores.append(knn.score(X_test,y_test))"
   ]
  },
  {
   "cell_type": "markdown",
   "metadata": {
    "tags": []
   },
   "source": [
    "**<font color='teal'> Print the train and test scores for each iteration.</font>**"
   ]
  },
  {
   "cell_type": "code",
   "execution_count": 72,
   "metadata": {},
   "outputs": [
    {
     "data": {
      "text/plain": [
       "[1.0,\n",
       " 0.839851024208566,\n",
       " 0.8435754189944135,\n",
       " 0.813780260707635,\n",
       " 0.8081936685288641,\n",
       " 0.8044692737430168,\n",
       " 0.813780260707635,\n",
       " 0.8063314711359404,\n",
       " 0.7970204841713222]"
      ]
     },
     "execution_count": 72,
     "metadata": {},
     "output_type": "execute_result"
    }
   ],
   "source": [
    "train_scores"
   ]
  },
  {
   "cell_type": "code",
   "execution_count": 74,
   "metadata": {},
   "outputs": [
    {
     "data": {
      "text/plain": [
       "[0.6796536796536796,\n",
       " 0.7359307359307359,\n",
       " 0.7272727272727273,\n",
       " 0.7619047619047619,\n",
       " 0.7619047619047619,\n",
       " 0.7792207792207793,\n",
       " 0.7748917748917749,\n",
       " 0.7662337662337663,\n",
       " 0.7575757575757576]"
      ]
     },
     "execution_count": 74,
     "metadata": {},
     "output_type": "execute_result"
    }
   ],
   "source": [
    "test_scores"
   ]
  },
  {
   "cell_type": "markdown",
   "metadata": {
    "tags": []
   },
   "source": [
    "**<font color='teal'> Identify the number of neighbors that resulted in the max score in the training dataset. </font>**"
   ]
  },
  {
   "cell_type": "code",
   "execution_count": 76,
   "metadata": {},
   "outputs": [
    {
     "data": {
      "text/plain": [
       "[<matplotlib.lines.Line2D at 0x167e3d39880>]"
      ]
     },
     "execution_count": 76,
     "metadata": {},
     "output_type": "execute_result"
    },
    {
     "data": {
      "image/png": "[encoded data removed]",
      "text/plain": [
       "<Figure size 432x288 with 1 Axes>"
      ]
     },
     "metadata": {},
     "output_type": "display_data"
    }
   ],
   "source": [
    "plt.plot(train_scores)"
   ]
  },
  {
   "cell_type": "markdown",
   "metadata": {},
   "source": [
    "2"
   ]
  },
  {
   "cell_type": "markdown",
   "metadata": {},
   "source": [
    "**<font color='teal'> Identify the number of neighbors that resulted in the max score in the testing dataset. </font>**"
   ]
  },
  {
   "cell_type": "code",
   "execution_count": 77,
   "metadata": {},
   "outputs": [
    {
     "data": {
      "text/plain": [
       "[<matplotlib.lines.Line2D at 0x167e3d93b80>]"
      ]
     },
     "execution_count": 77,
     "metadata": {},
     "output_type": "execute_result"
    },
    {
     "data": {
      "image/png": "[encoded data removed]",
      "text/plain": [
       "<Figure size 432x288 with 1 Axes>"
      ]
     },
     "metadata": {},
     "output_type": "display_data"
    }
   ],
   "source": [
    "plt.plot(test_scores)"
   ]
  },
  {
   "cell_type": "markdown",
   "metadata": {},
   "source": [
    "5"
   ]
  },
  {
   "cell_type": "markdown",
   "metadata": {
    "tags": []
   },
   "source": []
  },
  {
   "cell_type": "code",
   "execution_count": 31,
   "metadata": {},
   "outputs": [],
   "source": []
  },
  {
   "cell_type": "markdown",
   "metadata": {
    "tags": []
   },
   "source": [
    "Plot the train and test model performance by number of neighbors."
   ]
  },
  {
   "cell_type": "code",
   "execution_count": 79,
   "metadata": {},
   "outputs": [
    {
     "name": "stderr",
     "output_type": "stream",
     "text": [
      "C:\\Users\\Mamer Jammer\\anaconda3\\lib\\site-packages\\seaborn\\_decorators.py:36: FutureWarning: Pass the following variables as keyword args: x, y. From version 0.12, the only valid positional argument will be `data`, and passing other arguments without an explicit keyword will result in an error or misinterpretation.\n",
      "  warnings.warn(\n",
      "C:\\Users\\Mamer Jammer\\anaconda3\\lib\\site-packages\\seaborn\\_decorators.py:36: FutureWarning: Pass the following variables as keyword args: x, y. From version 0.12, the only valid positional argument will be `data`, and passing other arguments without an explicit keyword will result in an error or misinterpretation.\n",
      "  warnings.warn(\n"
     ]
    },
    {
     "data": {
      "image/png": "[encoded data removed]",
      "text/plain": [
       "<Figure size 864x360 with 1 Axes>"
      ]
     },
     "metadata": {},
     "output_type": "display_data"
    }
   ],
   "source": [
    "plt.figure(figsize=(12,5))\n",
    "p = sns.lineplot(range(1,10),train_scores,marker='*',label='Train Score')\n",
    "p = sns.lineplot(range(1,10),test_scores,marker='o',label='Test Score')"
   ]
  },
  {
   "cell_type": "markdown",
   "metadata": {
    "tags": []
   },
   "source": [
    "**<font color='teal'> Fit and score the best number of neighbors based on the plot. </font>**"
   ]
  },
  {
   "cell_type": "code",
   "execution_count": 80,
   "metadata": {},
   "outputs": [
    {
     "data": {
      "text/plain": [
       "KNeighborsClassifier()"
      ]
     },
     "execution_count": 80,
     "metadata": {},
     "output_type": "execute_result"
    }
   ],
   "source": [
    "knn = KNeighborsClassifier(5)\n",
    "knn.fit(X_train,y_train)"
   ]
  },
  {
   "cell_type": "code",
   "execution_count": 81,
   "metadata": {},
   "outputs": [],
   "source": [
    "from sklearn.metrics import confusion_matrix\n",
    "y_pred = knn.predict(X_test)\n",
    "pl = confusion_matrix(y_test,y_pred)"
   ]
  },
  {
   "cell_type": "markdown",
   "metadata": {
    "tags": []
   },
   "source": [
    "**<font color='teal'> Plot the confusion matrix for the model fit above. </font>**"
   ]
  },
  {
   "cell_type": "code",
   "execution_count": 83,
   "metadata": {},
   "outputs": [
    {
     "data": {
      "text/plain": [
       "[<matplotlib.lines.Line2D at 0x167e3ed2280>,\n",
       " <matplotlib.lines.Line2D at 0x167e3ed2340>]"
      ]
     },
     "execution_count": 83,
     "metadata": {},
     "output_type": "execute_result"
    },
    {
     "data": {
      "image/png": "[encoded data removed]",
      "text/plain": [
       "<Figure size 432x288 with 1 Axes>"
      ]
     },
     "metadata": {},
     "output_type": "display_data"
    }
   ],
   "source": [
    "plt.plot(pl)"
   ]
  },
  {
   "cell_type": "markdown",
   "metadata": {
    "tags": []
   },
   "source": [
    "**<font color='teal'> Print the classification report </font>**"
   ]
  },
  {
   "cell_type": "code",
   "execution_count": 84,
   "metadata": {},
   "outputs": [
    {
     "data": {
      "text/plain": [
       "array([[132,  28],\n",
       "       [ 27,  44]], dtype=int64)"
      ]
     },
     "execution_count": 84,
     "metadata": {},
     "output_type": "execute_result"
    }
   ],
   "source": [
    "pl"
   ]
  },
  {
   "cell_type": "markdown",
   "metadata": {
    "tags": []
   },
   "source": [
    "#### In the case of the K nearest neighbors algorithm, the K parameter is one of the most important parameters affecting the model performance.  The model performance isn't horrible, but what if we didn't consider a wide enough range of values in our neighbors for the KNN? An alternative to fitting a loop of models is to use a grid search to identify the proper number. It is common practice to use a grid search method for all adjustable parameters in any type of machine learning algorithm. First, you define the grid — aka the range of values — to test in the parameter being optimized, and then compare the model outcome performance based on the different values in the grid."
   ]
  },
  {
   "cell_type": "markdown",
   "metadata": {
    "tags": []
   },
   "source": [
    "#### Run the code in the next cell to see how to implement the grid search method for identifying the best parameter value for the n_neighbors parameter. Notice the param_grid is the range value to test and we apply cross validation with five folds to score each possible value of n_neighbors."
   ]
  },
  {
   "cell_type": "code",
   "execution_count": 87,
   "metadata": {},
   "outputs": [
    {
     "data": {
      "text/plain": [
       "GridSearchCV(cv=5, estimator=KNeighborsClassifier(),\n",
       "             param_grid={'n_neighbors': array([ 1,  2,  3,  4,  5,  6,  7,  8,  9, 10, 11, 12, 13, 14, 15, 16, 17,\n",
       "       18, 19, 20, 21, 22, 23, 24, 25, 26, 27, 28, 29])})"
      ]
     },
     "execution_count": 87,
     "metadata": {},
     "output_type": "execute_result"
    }
   ],
   "source": [
    "from sklearn.model_selection import GridSearchCV\n",
    "param_grid = {'n_neighbors':np.arange(1,30)}\n",
    "knn = KNeighborsClassifier()\n",
    "knn_cv= GridSearchCV(knn,param_grid,cv=5)\n",
    "knn_cv.fit(X,y)"
   ]
  },
  {
   "cell_type": "markdown",
   "metadata": {
    "tags": []
   },
   "source": [
    "#### Print the best score and best parameter for n_neighbors."
   ]
  },
  {
   "cell_type": "code",
   "execution_count": 88,
   "metadata": {},
   "outputs": [
    {
     "name": "stdout",
     "output_type": "stream",
     "text": [
      "Best Score:0.7514048043459808\n",
      "Best Parameters: {'n_neighbors': 13}\n"
     ]
    }
   ],
   "source": [
    "print(\"Best Score:\" + str(knn_cv.best_score_))\n",
    "print(\"Best Parameters: \" + str(knn_cv.best_params_))"
   ]
  },
  {
   "cell_type": "markdown",
   "metadata": {},
   "source": [
    "Here you can see that the ideal number of n_neighbors for this model is 14 based on the grid search performed. "
   ]
  },
  {
   "cell_type": "markdown",
   "metadata": {
    "tags": []
   },
   "source": [
    "**<font color='teal'> Now, following the KNN example, apply this grid search method to find the optimal number of estimators in a Randon Forest model.\n",
    "</font>**"
   ]
  },
  {
   "cell_type": "code",
   "execution_count": 101,
   "metadata": {},
   "outputs": [
    {
     "name": "stderr",
     "output_type": "stream",
     "text": [
      "C:\\Users\\Mamer Jammer\\anaconda3\\lib\\site-packages\\sklearn\\model_selection\\_validation.py:548: FitFailedWarning: Estimator fit failed. The score on this train-test partition for these parameters will be set to nan. Details: \n",
      "Traceback (most recent call last):\n",
      "  File \"C:\\Users\\Mamer Jammer\\anaconda3\\lib\\site-packages\\sklearn\\model_selection\\_validation.py\", line 531, in _fit_and_score\n",
      "    estimator.fit(X_train, y_train, **fit_params)\n",
      "  File \"C:\\Users\\Mamer Jammer\\anaconda3\\lib\\site-packages\\sklearn\\ensemble\\_forest.py\", line 348, in fit\n",
      "    self._validate_estimator()\n",
      "  File \"C:\\Users\\Mamer Jammer\\anaconda3\\lib\\site-packages\\sklearn\\ensemble\\_base.py\", line 134, in _validate_estimator\n",
      "    raise ValueError(\"n_estimators must be greater than zero, \"\n",
      "ValueError: n_estimators must be greater than zero, got 0.\n",
      "\n",
      "  warnings.warn(\"Estimator fit failed. The score on this train-test\"\n",
      "C:\\Users\\Mamer Jammer\\anaconda3\\lib\\site-packages\\sklearn\\model_selection\\_validation.py:548: FitFailedWarning: Estimator fit failed. The score on this train-test partition for these parameters will be set to nan. Details: \n",
      "Traceback (most recent call last):\n",
      "  File \"C:\\Users\\Mamer Jammer\\anaconda3\\lib\\site-packages\\sklearn\\model_selection\\_validation.py\", line 531, in _fit_and_score\n",
      "    estimator.fit(X_train, y_train, **fit_params)\n",
      "  File \"C:\\Users\\Mamer Jammer\\anaconda3\\lib\\site-packages\\sklearn\\ensemble\\_forest.py\", line 348, in fit\n",
      "    self._validate_estimator()\n",
      "  File \"C:\\Users\\Mamer Jammer\\anaconda3\\lib\\site-packages\\sklearn\\ensemble\\_base.py\", line 134, in _validate_estimator\n",
      "    raise ValueError(\"n_estimators must be greater than zero, \"\n",
      "ValueError: n_estimators must be greater than zero, got 0.\n",
      "\n",
      "  warnings.warn(\"Estimator fit failed. The score on this train-test\"\n",
      "C:\\Users\\Mamer Jammer\\anaconda3\\lib\\site-packages\\sklearn\\model_selection\\_validation.py:548: FitFailedWarning: Estimator fit failed. The score on this train-test partition for these parameters will be set to nan. Details: \n",
      "Traceback (most recent call last):\n",
      "  File \"C:\\Users\\Mamer Jammer\\anaconda3\\lib\\site-packages\\sklearn\\model_selection\\_validation.py\", line 531, in _fit_and_score\n",
      "    estimator.fit(X_train, y_train, **fit_params)\n",
      "  File \"C:\\Users\\Mamer Jammer\\anaconda3\\lib\\site-packages\\sklearn\\ensemble\\_forest.py\", line 348, in fit\n",
      "    self._validate_estimator()\n",
      "  File \"C:\\Users\\Mamer Jammer\\anaconda3\\lib\\site-packages\\sklearn\\ensemble\\_base.py\", line 134, in _validate_estimator\n",
      "    raise ValueError(\"n_estimators must be greater than zero, \"\n",
      "ValueError: n_estimators must be greater than zero, got 0.\n",
      "\n",
      "  warnings.warn(\"Estimator fit failed. The score on this train-test\"\n",
      "C:\\Users\\Mamer Jammer\\anaconda3\\lib\\site-packages\\sklearn\\model_selection\\_validation.py:548: FitFailedWarning: Estimator fit failed. The score on this train-test partition for these parameters will be set to nan. Details: \n",
      "Traceback (most recent call last):\n",
      "  File \"C:\\Users\\Mamer Jammer\\anaconda3\\lib\\site-packages\\sklearn\\model_selection\\_validation.py\", line 531, in _fit_and_score\n",
      "    estimator.fit(X_train, y_train, **fit_params)\n",
      "  File \"C:\\Users\\Mamer Jammer\\anaconda3\\lib\\site-packages\\sklearn\\ensemble\\_forest.py\", line 348, in fit\n",
      "    self._validate_estimator()\n",
      "  File \"C:\\Users\\Mamer Jammer\\anaconda3\\lib\\site-packages\\sklearn\\ensemble\\_base.py\", line 134, in _validate_estimator\n",
      "    raise ValueError(\"n_estimators must be greater than zero, \"\n",
      "ValueError: n_estimators must be greater than zero, got 0.\n",
      "\n",
      "  warnings.warn(\"Estimator fit failed. The score on this train-test\"\n",
      "C:\\Users\\Mamer Jammer\\anaconda3\\lib\\site-packages\\sklearn\\model_selection\\_validation.py:548: FitFailedWarning: Estimator fit failed. The score on this train-test partition for these parameters will be set to nan. Details: \n",
      "Traceback (most recent call last):\n",
      "  File \"C:\\Users\\Mamer Jammer\\anaconda3\\lib\\site-packages\\sklearn\\model_selection\\_validation.py\", line 531, in _fit_and_score\n",
      "    estimator.fit(X_train, y_train, **fit_params)\n",
      "  File \"C:\\Users\\Mamer Jammer\\anaconda3\\lib\\site-packages\\sklearn\\ensemble\\_forest.py\", line 348, in fit\n",
      "    self._validate_estimator()\n",
      "  File \"C:\\Users\\Mamer Jammer\\anaconda3\\lib\\site-packages\\sklearn\\ensemble\\_base.py\", line 134, in _validate_estimator\n",
      "    raise ValueError(\"n_estimators must be greater than zero, \"\n",
      "ValueError: n_estimators must be greater than zero, got 0.\n",
      "\n",
      "  warnings.warn(\"Estimator fit failed. The score on this train-test\"\n",
      "C:\\Users\\Mamer Jammer\\anaconda3\\lib\\site-packages\\sklearn\\model_selection\\_validation.py:548: FitFailedWarning: Estimator fit failed. The score on this train-test partition for these parameters will be set to nan. Details: \n",
      "Traceback (most recent call last):\n",
      "  File \"C:\\Users\\Mamer Jammer\\anaconda3\\lib\\site-packages\\sklearn\\model_selection\\_validation.py\", line 531, in _fit_and_score\n",
      "    estimator.fit(X_train, y_train, **fit_params)\n",
      "  File \"C:\\Users\\Mamer Jammer\\anaconda3\\lib\\site-packages\\sklearn\\ensemble\\_forest.py\", line 348, in fit\n",
      "    self._validate_estimator()\n",
      "  File \"C:\\Users\\Mamer Jammer\\anaconda3\\lib\\site-packages\\sklearn\\ensemble\\_base.py\", line 134, in _validate_estimator\n",
      "    raise ValueError(\"n_estimators must be greater than zero, \"\n",
      "ValueError: n_estimators must be greater than zero, got 0.\n",
      "\n",
      "  warnings.warn(\"Estimator fit failed. The score on this train-test\"\n",
      "C:\\Users\\Mamer Jammer\\anaconda3\\lib\\site-packages\\sklearn\\model_selection\\_validation.py:548: FitFailedWarning: Estimator fit failed. The score on this train-test partition for these parameters will be set to nan. Details: \n",
      "Traceback (most recent call last):\n",
      "  File \"C:\\Users\\Mamer Jammer\\anaconda3\\lib\\site-packages\\sklearn\\model_selection\\_validation.py\", line 531, in _fit_and_score\n",
      "    estimator.fit(X_train, y_train, **fit_params)\n",
      "  File \"C:\\Users\\Mamer Jammer\\anaconda3\\lib\\site-packages\\sklearn\\ensemble\\_forest.py\", line 348, in fit\n",
      "    self._validate_estimator()\n",
      "  File \"C:\\Users\\Mamer Jammer\\anaconda3\\lib\\site-packages\\sklearn\\ensemble\\_base.py\", line 134, in _validate_estimator\n",
      "    raise ValueError(\"n_estimators must be greater than zero, \"\n",
      "ValueError: n_estimators must be greater than zero, got 0.\n",
      "\n",
      "  warnings.warn(\"Estimator fit failed. The score on this train-test\"\n",
      "C:\\Users\\Mamer Jammer\\anaconda3\\lib\\site-packages\\sklearn\\model_selection\\_validation.py:548: FitFailedWarning: Estimator fit failed. The score on this train-test partition for these parameters will be set to nan. Details: \n",
      "Traceback (most recent call last):\n",
      "  File \"C:\\Users\\Mamer Jammer\\anaconda3\\lib\\site-packages\\sklearn\\model_selection\\_validation.py\", line 531, in _fit_and_score\n",
      "    estimator.fit(X_train, y_train, **fit_params)\n",
      "  File \"C:\\Users\\Mamer Jammer\\anaconda3\\lib\\site-packages\\sklearn\\ensemble\\_forest.py\", line 348, in fit\n",
      "    self._validate_estimator()\n",
      "  File \"C:\\Users\\Mamer Jammer\\anaconda3\\lib\\site-packages\\sklearn\\ensemble\\_base.py\", line 134, in _validate_estimator\n",
      "    raise ValueError(\"n_estimators must be greater than zero, \"\n",
      "ValueError: n_estimators must be greater than zero, got 0.\n",
      "\n",
      "  warnings.warn(\"Estimator fit failed. The score on this train-test\"\n",
      "C:\\Users\\Mamer Jammer\\anaconda3\\lib\\site-packages\\sklearn\\model_selection\\_validation.py:548: FitFailedWarning: Estimator fit failed. The score on this train-test partition for these parameters will be set to nan. Details: \n",
      "Traceback (most recent call last):\n",
      "  File \"C:\\Users\\Mamer Jammer\\anaconda3\\lib\\site-packages\\sklearn\\model_selection\\_validation.py\", line 531, in _fit_and_score\n",
      "    estimator.fit(X_train, y_train, **fit_params)\n",
      "  File \"C:\\Users\\Mamer Jammer\\anaconda3\\lib\\site-packages\\sklearn\\ensemble\\_forest.py\", line 348, in fit\n",
      "    self._validate_estimator()\n",
      "  File \"C:\\Users\\Mamer Jammer\\anaconda3\\lib\\site-packages\\sklearn\\ensemble\\_base.py\", line 134, in _validate_estimator\n",
      "    raise ValueError(\"n_estimators must be greater than zero, \"\n",
      "ValueError: n_estimators must be greater than zero, got 0.\n",
      "\n",
      "  warnings.warn(\"Estimator fit failed. The score on this train-test\"\n",
      "C:\\Users\\Mamer Jammer\\anaconda3\\lib\\site-packages\\sklearn\\model_selection\\_validation.py:548: FitFailedWarning: Estimator fit failed. The score on this train-test partition for these parameters will be set to nan. Details: \n",
      "Traceback (most recent call last):\n",
      "  File \"C:\\Users\\Mamer Jammer\\anaconda3\\lib\\site-packages\\sklearn\\model_selection\\_validation.py\", line 531, in _fit_and_score\n",
      "    estimator.fit(X_train, y_train, **fit_params)\n",
      "  File \"C:\\Users\\Mamer Jammer\\anaconda3\\lib\\site-packages\\sklearn\\ensemble\\_forest.py\", line 348, in fit\n",
      "    self._validate_estimator()\n",
      "  File \"C:\\Users\\Mamer Jammer\\anaconda3\\lib\\site-packages\\sklearn\\ensemble\\_base.py\", line 134, in _validate_estimator\n",
      "    raise ValueError(\"n_estimators must be greater than zero, \"\n",
      "ValueError: n_estimators must be greater than zero, got 0.\n",
      "\n",
      "  warnings.warn(\"Estimator fit failed. The score on this train-test\"\n"
     ]
    },
    {
     "name": "stderr",
     "output_type": "stream",
     "text": [
      "C:\\Users\\Mamer Jammer\\anaconda3\\lib\\site-packages\\sklearn\\model_selection\\_validation.py:548: FitFailedWarning: Estimator fit failed. The score on this train-test partition for these parameters will be set to nan. Details: \n",
      "Traceback (most recent call last):\n",
      "  File \"C:\\Users\\Mamer Jammer\\anaconda3\\lib\\site-packages\\sklearn\\model_selection\\_validation.py\", line 531, in _fit_and_score\n",
      "    estimator.fit(X_train, y_train, **fit_params)\n",
      "  File \"C:\\Users\\Mamer Jammer\\anaconda3\\lib\\site-packages\\sklearn\\ensemble\\_forest.py\", line 348, in fit\n",
      "    self._validate_estimator()\n",
      "  File \"C:\\Users\\Mamer Jammer\\anaconda3\\lib\\site-packages\\sklearn\\ensemble\\_base.py\", line 134, in _validate_estimator\n",
      "    raise ValueError(\"n_estimators must be greater than zero, \"\n",
      "ValueError: n_estimators must be greater than zero, got 0.\n",
      "\n",
      "  warnings.warn(\"Estimator fit failed. The score on this train-test\"\n",
      "C:\\Users\\Mamer Jammer\\anaconda3\\lib\\site-packages\\sklearn\\model_selection\\_validation.py:548: FitFailedWarning: Estimator fit failed. The score on this train-test partition for these parameters will be set to nan. Details: \n",
      "Traceback (most recent call last):\n",
      "  File \"C:\\Users\\Mamer Jammer\\anaconda3\\lib\\site-packages\\sklearn\\model_selection\\_validation.py\", line 531, in _fit_and_score\n",
      "    estimator.fit(X_train, y_train, **fit_params)\n",
      "  File \"C:\\Users\\Mamer Jammer\\anaconda3\\lib\\site-packages\\sklearn\\ensemble\\_forest.py\", line 348, in fit\n",
      "    self._validate_estimator()\n",
      "  File \"C:\\Users\\Mamer Jammer\\anaconda3\\lib\\site-packages\\sklearn\\ensemble\\_base.py\", line 134, in _validate_estimator\n",
      "    raise ValueError(\"n_estimators must be greater than zero, \"\n",
      "ValueError: n_estimators must be greater than zero, got 0.\n",
      "\n",
      "  warnings.warn(\"Estimator fit failed. The score on this train-test\"\n",
      "C:\\Users\\Mamer Jammer\\anaconda3\\lib\\site-packages\\sklearn\\model_selection\\_validation.py:548: FitFailedWarning: Estimator fit failed. The score on this train-test partition for these parameters will be set to nan. Details: \n",
      "Traceback (most recent call last):\n",
      "  File \"C:\\Users\\Mamer Jammer\\anaconda3\\lib\\site-packages\\sklearn\\model_selection\\_validation.py\", line 531, in _fit_and_score\n",
      "    estimator.fit(X_train, y_train, **fit_params)\n",
      "  File \"C:\\Users\\Mamer Jammer\\anaconda3\\lib\\site-packages\\sklearn\\ensemble\\_forest.py\", line 348, in fit\n",
      "    self._validate_estimator()\n",
      "  File \"C:\\Users\\Mamer Jammer\\anaconda3\\lib\\site-packages\\sklearn\\ensemble\\_base.py\", line 134, in _validate_estimator\n",
      "    raise ValueError(\"n_estimators must be greater than zero, \"\n",
      "ValueError: n_estimators must be greater than zero, got 0.\n",
      "\n",
      "  warnings.warn(\"Estimator fit failed. The score on this train-test\"\n",
      "C:\\Users\\Mamer Jammer\\anaconda3\\lib\\site-packages\\sklearn\\model_selection\\_validation.py:548: FitFailedWarning: Estimator fit failed. The score on this train-test partition for these parameters will be set to nan. Details: \n",
      "Traceback (most recent call last):\n",
      "  File \"C:\\Users\\Mamer Jammer\\anaconda3\\lib\\site-packages\\sklearn\\model_selection\\_validation.py\", line 531, in _fit_and_score\n",
      "    estimator.fit(X_train, y_train, **fit_params)\n",
      "  File \"C:\\Users\\Mamer Jammer\\anaconda3\\lib\\site-packages\\sklearn\\ensemble\\_forest.py\", line 348, in fit\n",
      "    self._validate_estimator()\n",
      "  File \"C:\\Users\\Mamer Jammer\\anaconda3\\lib\\site-packages\\sklearn\\ensemble\\_base.py\", line 134, in _validate_estimator\n",
      "    raise ValueError(\"n_estimators must be greater than zero, \"\n",
      "ValueError: n_estimators must be greater than zero, got 0.\n",
      "\n",
      "  warnings.warn(\"Estimator fit failed. The score on this train-test\"\n",
      "C:\\Users\\Mamer Jammer\\anaconda3\\lib\\site-packages\\sklearn\\model_selection\\_validation.py:548: FitFailedWarning: Estimator fit failed. The score on this train-test partition for these parameters will be set to nan. Details: \n",
      "Traceback (most recent call last):\n",
      "  File \"C:\\Users\\Mamer Jammer\\anaconda3\\lib\\site-packages\\sklearn\\model_selection\\_validation.py\", line 531, in _fit_and_score\n",
      "    estimator.fit(X_train, y_train, **fit_params)\n",
      "  File \"C:\\Users\\Mamer Jammer\\anaconda3\\lib\\site-packages\\sklearn\\ensemble\\_forest.py\", line 348, in fit\n",
      "    self._validate_estimator()\n",
      "  File \"C:\\Users\\Mamer Jammer\\anaconda3\\lib\\site-packages\\sklearn\\ensemble\\_base.py\", line 134, in _validate_estimator\n",
      "    raise ValueError(\"n_estimators must be greater than zero, \"\n",
      "ValueError: n_estimators must be greater than zero, got 0.\n",
      "\n",
      "  warnings.warn(\"Estimator fit failed. The score on this train-test\"\n",
      "C:\\Users\\Mamer Jammer\\anaconda3\\lib\\site-packages\\sklearn\\model_selection\\_validation.py:548: FitFailedWarning: Estimator fit failed. The score on this train-test partition for these parameters will be set to nan. Details: \n",
      "Traceback (most recent call last):\n",
      "  File \"C:\\Users\\Mamer Jammer\\anaconda3\\lib\\site-packages\\sklearn\\model_selection\\_validation.py\", line 531, in _fit_and_score\n",
      "    estimator.fit(X_train, y_train, **fit_params)\n",
      "  File \"C:\\Users\\Mamer Jammer\\anaconda3\\lib\\site-packages\\sklearn\\ensemble\\_forest.py\", line 348, in fit\n",
      "    self._validate_estimator()\n",
      "  File \"C:\\Users\\Mamer Jammer\\anaconda3\\lib\\site-packages\\sklearn\\ensemble\\_base.py\", line 134, in _validate_estimator\n",
      "    raise ValueError(\"n_estimators must be greater than zero, \"\n",
      "ValueError: n_estimators must be greater than zero, got 0.\n",
      "\n",
      "  warnings.warn(\"Estimator fit failed. The score on this train-test\"\n",
      "C:\\Users\\Mamer Jammer\\anaconda3\\lib\\site-packages\\sklearn\\model_selection\\_validation.py:548: FitFailedWarning: Estimator fit failed. The score on this train-test partition for these parameters will be set to nan. Details: \n",
      "Traceback (most recent call last):\n",
      "  File \"C:\\Users\\Mamer Jammer\\anaconda3\\lib\\site-packages\\sklearn\\model_selection\\_validation.py\", line 531, in _fit_and_score\n",
      "    estimator.fit(X_train, y_train, **fit_params)\n",
      "  File \"C:\\Users\\Mamer Jammer\\anaconda3\\lib\\site-packages\\sklearn\\ensemble\\_forest.py\", line 348, in fit\n",
      "    self._validate_estimator()\n",
      "  File \"C:\\Users\\Mamer Jammer\\anaconda3\\lib\\site-packages\\sklearn\\ensemble\\_base.py\", line 134, in _validate_estimator\n",
      "    raise ValueError(\"n_estimators must be greater than zero, \"\n",
      "ValueError: n_estimators must be greater than zero, got 0.\n",
      "\n",
      "  warnings.warn(\"Estimator fit failed. The score on this train-test\"\n",
      "C:\\Users\\Mamer Jammer\\anaconda3\\lib\\site-packages\\sklearn\\model_selection\\_validation.py:548: FitFailedWarning: Estimator fit failed. The score on this train-test partition for these parameters will be set to nan. Details: \n",
      "Traceback (most recent call last):\n",
      "  File \"C:\\Users\\Mamer Jammer\\anaconda3\\lib\\site-packages\\sklearn\\model_selection\\_validation.py\", line 531, in _fit_and_score\n",
      "    estimator.fit(X_train, y_train, **fit_params)\n",
      "  File \"C:\\Users\\Mamer Jammer\\anaconda3\\lib\\site-packages\\sklearn\\ensemble\\_forest.py\", line 348, in fit\n",
      "    self._validate_estimator()\n",
      "  File \"C:\\Users\\Mamer Jammer\\anaconda3\\lib\\site-packages\\sklearn\\ensemble\\_base.py\", line 134, in _validate_estimator\n",
      "    raise ValueError(\"n_estimators must be greater than zero, \"\n",
      "ValueError: n_estimators must be greater than zero, got 0.\n",
      "\n",
      "  warnings.warn(\"Estimator fit failed. The score on this train-test\"\n",
      "C:\\Users\\Mamer Jammer\\anaconda3\\lib\\site-packages\\sklearn\\model_selection\\_validation.py:548: FitFailedWarning: Estimator fit failed. The score on this train-test partition for these parameters will be set to nan. Details: \n",
      "Traceback (most recent call last):\n",
      "  File \"C:\\Users\\Mamer Jammer\\anaconda3\\lib\\site-packages\\sklearn\\model_selection\\_validation.py\", line 531, in _fit_and_score\n",
      "    estimator.fit(X_train, y_train, **fit_params)\n",
      "  File \"C:\\Users\\Mamer Jammer\\anaconda3\\lib\\site-packages\\sklearn\\ensemble\\_forest.py\", line 348, in fit\n",
      "    self._validate_estimator()\n",
      "  File \"C:\\Users\\Mamer Jammer\\anaconda3\\lib\\site-packages\\sklearn\\ensemble\\_base.py\", line 134, in _validate_estimator\n",
      "    raise ValueError(\"n_estimators must be greater than zero, \"\n",
      "ValueError: n_estimators must be greater than zero, got 0.\n",
      "\n",
      "  warnings.warn(\"Estimator fit failed. The score on this train-test\"\n",
      "C:\\Users\\Mamer Jammer\\anaconda3\\lib\\site-packages\\sklearn\\model_selection\\_validation.py:548: FitFailedWarning: Estimator fit failed. The score on this train-test partition for these parameters will be set to nan. Details: \n",
      "Traceback (most recent call last):\n",
      "  File \"C:\\Users\\Mamer Jammer\\anaconda3\\lib\\site-packages\\sklearn\\model_selection\\_validation.py\", line 531, in _fit_and_score\n",
      "    estimator.fit(X_train, y_train, **fit_params)\n",
      "  File \"C:\\Users\\Mamer Jammer\\anaconda3\\lib\\site-packages\\sklearn\\ensemble\\_forest.py\", line 348, in fit\n",
      "    self._validate_estimator()\n",
      "  File \"C:\\Users\\Mamer Jammer\\anaconda3\\lib\\site-packages\\sklearn\\ensemble\\_base.py\", line 134, in _validate_estimator\n",
      "    raise ValueError(\"n_estimators must be greater than zero, \"\n",
      "ValueError: n_estimators must be greater than zero, got 0.\n",
      "\n",
      "  warnings.warn(\"Estimator fit failed. The score on this train-test\"\n"
     ]
    },
    {
     "name": "stderr",
     "output_type": "stream",
     "text": [
      "C:\\Users\\Mamer Jammer\\anaconda3\\lib\\site-packages\\sklearn\\model_selection\\_validation.py:548: FitFailedWarning: Estimator fit failed. The score on this train-test partition for these parameters will be set to nan. Details: \n",
      "Traceback (most recent call last):\n",
      "  File \"C:\\Users\\Mamer Jammer\\anaconda3\\lib\\site-packages\\sklearn\\model_selection\\_validation.py\", line 531, in _fit_and_score\n",
      "    estimator.fit(X_train, y_train, **fit_params)\n",
      "  File \"C:\\Users\\Mamer Jammer\\anaconda3\\lib\\site-packages\\sklearn\\ensemble\\_forest.py\", line 348, in fit\n",
      "    self._validate_estimator()\n",
      "  File \"C:\\Users\\Mamer Jammer\\anaconda3\\lib\\site-packages\\sklearn\\ensemble\\_base.py\", line 134, in _validate_estimator\n",
      "    raise ValueError(\"n_estimators must be greater than zero, \"\n",
      "ValueError: n_estimators must be greater than zero, got 0.\n",
      "\n",
      "  warnings.warn(\"Estimator fit failed. The score on this train-test\"\n",
      "C:\\Users\\Mamer Jammer\\anaconda3\\lib\\site-packages\\sklearn\\model_selection\\_validation.py:548: FitFailedWarning: Estimator fit failed. The score on this train-test partition for these parameters will be set to nan. Details: \n",
      "Traceback (most recent call last):\n",
      "  File \"C:\\Users\\Mamer Jammer\\anaconda3\\lib\\site-packages\\sklearn\\model_selection\\_validation.py\", line 531, in _fit_and_score\n",
      "    estimator.fit(X_train, y_train, **fit_params)\n",
      "  File \"C:\\Users\\Mamer Jammer\\anaconda3\\lib\\site-packages\\sklearn\\ensemble\\_forest.py\", line 348, in fit\n",
      "    self._validate_estimator()\n",
      "  File \"C:\\Users\\Mamer Jammer\\anaconda3\\lib\\site-packages\\sklearn\\ensemble\\_base.py\", line 134, in _validate_estimator\n",
      "    raise ValueError(\"n_estimators must be greater than zero, \"\n",
      "ValueError: n_estimators must be greater than zero, got 0.\n",
      "\n",
      "  warnings.warn(\"Estimator fit failed. The score on this train-test\"\n",
      "C:\\Users\\Mamer Jammer\\anaconda3\\lib\\site-packages\\sklearn\\model_selection\\_validation.py:548: FitFailedWarning: Estimator fit failed. The score on this train-test partition for these parameters will be set to nan. Details: \n",
      "Traceback (most recent call last):\n",
      "  File \"C:\\Users\\Mamer Jammer\\anaconda3\\lib\\site-packages\\sklearn\\model_selection\\_validation.py\", line 531, in _fit_and_score\n",
      "    estimator.fit(X_train, y_train, **fit_params)\n",
      "  File \"C:\\Users\\Mamer Jammer\\anaconda3\\lib\\site-packages\\sklearn\\ensemble\\_forest.py\", line 348, in fit\n",
      "    self._validate_estimator()\n",
      "  File \"C:\\Users\\Mamer Jammer\\anaconda3\\lib\\site-packages\\sklearn\\ensemble\\_base.py\", line 134, in _validate_estimator\n",
      "    raise ValueError(\"n_estimators must be greater than zero, \"\n",
      "ValueError: n_estimators must be greater than zero, got 0.\n",
      "\n",
      "  warnings.warn(\"Estimator fit failed. The score on this train-test\"\n",
      "C:\\Users\\Mamer Jammer\\anaconda3\\lib\\site-packages\\sklearn\\model_selection\\_validation.py:548: FitFailedWarning: Estimator fit failed. The score on this train-test partition for these parameters will be set to nan. Details: \n",
      "Traceback (most recent call last):\n",
      "  File \"C:\\Users\\Mamer Jammer\\anaconda3\\lib\\site-packages\\sklearn\\model_selection\\_validation.py\", line 531, in _fit_and_score\n",
      "    estimator.fit(X_train, y_train, **fit_params)\n",
      "  File \"C:\\Users\\Mamer Jammer\\anaconda3\\lib\\site-packages\\sklearn\\ensemble\\_forest.py\", line 348, in fit\n",
      "    self._validate_estimator()\n",
      "  File \"C:\\Users\\Mamer Jammer\\anaconda3\\lib\\site-packages\\sklearn\\ensemble\\_base.py\", line 134, in _validate_estimator\n",
      "    raise ValueError(\"n_estimators must be greater than zero, \"\n",
      "ValueError: n_estimators must be greater than zero, got 0.\n",
      "\n",
      "  warnings.warn(\"Estimator fit failed. The score on this train-test\"\n",
      "C:\\Users\\Mamer Jammer\\anaconda3\\lib\\site-packages\\sklearn\\model_selection\\_validation.py:548: FitFailedWarning: Estimator fit failed. The score on this train-test partition for these parameters will be set to nan. Details: \n",
      "Traceback (most recent call last):\n",
      "  File \"C:\\Users\\Mamer Jammer\\anaconda3\\lib\\site-packages\\sklearn\\model_selection\\_validation.py\", line 531, in _fit_and_score\n",
      "    estimator.fit(X_train, y_train, **fit_params)\n",
      "  File \"C:\\Users\\Mamer Jammer\\anaconda3\\lib\\site-packages\\sklearn\\ensemble\\_forest.py\", line 348, in fit\n",
      "    self._validate_estimator()\n",
      "  File \"C:\\Users\\Mamer Jammer\\anaconda3\\lib\\site-packages\\sklearn\\ensemble\\_base.py\", line 134, in _validate_estimator\n",
      "    raise ValueError(\"n_estimators must be greater than zero, \"\n",
      "ValueError: n_estimators must be greater than zero, got 0.\n",
      "\n",
      "  warnings.warn(\"Estimator fit failed. The score on this train-test\"\n",
      "C:\\Users\\Mamer Jammer\\anaconda3\\lib\\site-packages\\sklearn\\model_selection\\_validation.py:548: FitFailedWarning: Estimator fit failed. The score on this train-test partition for these parameters will be set to nan. Details: \n",
      "Traceback (most recent call last):\n",
      "  File \"C:\\Users\\Mamer Jammer\\anaconda3\\lib\\site-packages\\sklearn\\model_selection\\_validation.py\", line 531, in _fit_and_score\n",
      "    estimator.fit(X_train, y_train, **fit_params)\n",
      "  File \"C:\\Users\\Mamer Jammer\\anaconda3\\lib\\site-packages\\sklearn\\ensemble\\_forest.py\", line 348, in fit\n",
      "    self._validate_estimator()\n",
      "  File \"C:\\Users\\Mamer Jammer\\anaconda3\\lib\\site-packages\\sklearn\\ensemble\\_base.py\", line 134, in _validate_estimator\n",
      "    raise ValueError(\"n_estimators must be greater than zero, \"\n",
      "ValueError: n_estimators must be greater than zero, got 0.\n",
      "\n",
      "  warnings.warn(\"Estimator fit failed. The score on this train-test\"\n",
      "C:\\Users\\Mamer Jammer\\anaconda3\\lib\\site-packages\\sklearn\\model_selection\\_validation.py:548: FitFailedWarning: Estimator fit failed. The score on this train-test partition for these parameters will be set to nan. Details: \n",
      "Traceback (most recent call last):\n",
      "  File \"C:\\Users\\Mamer Jammer\\anaconda3\\lib\\site-packages\\sklearn\\model_selection\\_validation.py\", line 531, in _fit_and_score\n",
      "    estimator.fit(X_train, y_train, **fit_params)\n",
      "  File \"C:\\Users\\Mamer Jammer\\anaconda3\\lib\\site-packages\\sklearn\\ensemble\\_forest.py\", line 348, in fit\n",
      "    self._validate_estimator()\n",
      "  File \"C:\\Users\\Mamer Jammer\\anaconda3\\lib\\site-packages\\sklearn\\ensemble\\_base.py\", line 134, in _validate_estimator\n",
      "    raise ValueError(\"n_estimators must be greater than zero, \"\n",
      "ValueError: n_estimators must be greater than zero, got 0.\n",
      "\n",
      "  warnings.warn(\"Estimator fit failed. The score on this train-test\"\n",
      "C:\\Users\\Mamer Jammer\\anaconda3\\lib\\site-packages\\sklearn\\model_selection\\_validation.py:548: FitFailedWarning: Estimator fit failed. The score on this train-test partition for these parameters will be set to nan. Details: \n",
      "Traceback (most recent call last):\n",
      "  File \"C:\\Users\\Mamer Jammer\\anaconda3\\lib\\site-packages\\sklearn\\model_selection\\_validation.py\", line 531, in _fit_and_score\n",
      "    estimator.fit(X_train, y_train, **fit_params)\n",
      "  File \"C:\\Users\\Mamer Jammer\\anaconda3\\lib\\site-packages\\sklearn\\ensemble\\_forest.py\", line 348, in fit\n",
      "    self._validate_estimator()\n",
      "  File \"C:\\Users\\Mamer Jammer\\anaconda3\\lib\\site-packages\\sklearn\\ensemble\\_base.py\", line 134, in _validate_estimator\n",
      "    raise ValueError(\"n_estimators must be greater than zero, \"\n",
      "ValueError: n_estimators must be greater than zero, got 0.\n",
      "\n",
      "  warnings.warn(\"Estimator fit failed. The score on this train-test\"\n",
      "C:\\Users\\Mamer Jammer\\anaconda3\\lib\\site-packages\\sklearn\\model_selection\\_validation.py:548: FitFailedWarning: Estimator fit failed. The score on this train-test partition for these parameters will be set to nan. Details: \n",
      "Traceback (most recent call last):\n",
      "  File \"C:\\Users\\Mamer Jammer\\anaconda3\\lib\\site-packages\\sklearn\\model_selection\\_validation.py\", line 531, in _fit_and_score\n",
      "    estimator.fit(X_train, y_train, **fit_params)\n",
      "  File \"C:\\Users\\Mamer Jammer\\anaconda3\\lib\\site-packages\\sklearn\\ensemble\\_forest.py\", line 348, in fit\n",
      "    self._validate_estimator()\n",
      "  File \"C:\\Users\\Mamer Jammer\\anaconda3\\lib\\site-packages\\sklearn\\ensemble\\_base.py\", line 134, in _validate_estimator\n",
      "    raise ValueError(\"n_estimators must be greater than zero, \"\n",
      "ValueError: n_estimators must be greater than zero, got 0.\n",
      "\n",
      "  warnings.warn(\"Estimator fit failed. The score on this train-test\"\n",
      "C:\\Users\\Mamer Jammer\\anaconda3\\lib\\site-packages\\sklearn\\model_selection\\_validation.py:548: FitFailedWarning: Estimator fit failed. The score on this train-test partition for these parameters will be set to nan. Details: \n",
      "Traceback (most recent call last):\n",
      "  File \"C:\\Users\\Mamer Jammer\\anaconda3\\lib\\site-packages\\sklearn\\model_selection\\_validation.py\", line 531, in _fit_and_score\n",
      "    estimator.fit(X_train, y_train, **fit_params)\n",
      "  File \"C:\\Users\\Mamer Jammer\\anaconda3\\lib\\site-packages\\sklearn\\ensemble\\_forest.py\", line 348, in fit\n",
      "    self._validate_estimator()\n",
      "  File \"C:\\Users\\Mamer Jammer\\anaconda3\\lib\\site-packages\\sklearn\\ensemble\\_base.py\", line 134, in _validate_estimator\n",
      "    raise ValueError(\"n_estimators must be greater than zero, \"\n",
      "ValueError: n_estimators must be greater than zero, got 0.\n",
      "\n",
      "  warnings.warn(\"Estimator fit failed. The score on this train-test\"\n"
     ]
    },
    {
     "name": "stderr",
     "output_type": "stream",
     "text": [
      "C:\\Users\\Mamer Jammer\\anaconda3\\lib\\site-packages\\sklearn\\model_selection\\_validation.py:548: FitFailedWarning: Estimator fit failed. The score on this train-test partition for these parameters will be set to nan. Details: \n",
      "Traceback (most recent call last):\n",
      "  File \"C:\\Users\\Mamer Jammer\\anaconda3\\lib\\site-packages\\sklearn\\model_selection\\_validation.py\", line 531, in _fit_and_score\n",
      "    estimator.fit(X_train, y_train, **fit_params)\n",
      "  File \"C:\\Users\\Mamer Jammer\\anaconda3\\lib\\site-packages\\sklearn\\ensemble\\_forest.py\", line 348, in fit\n",
      "    self._validate_estimator()\n",
      "  File \"C:\\Users\\Mamer Jammer\\anaconda3\\lib\\site-packages\\sklearn\\ensemble\\_base.py\", line 134, in _validate_estimator\n",
      "    raise ValueError(\"n_estimators must be greater than zero, \"\n",
      "ValueError: n_estimators must be greater than zero, got 0.\n",
      "\n",
      "  warnings.warn(\"Estimator fit failed. The score on this train-test\"\n",
      "C:\\Users\\Mamer Jammer\\anaconda3\\lib\\site-packages\\sklearn\\model_selection\\_validation.py:548: FitFailedWarning: Estimator fit failed. The score on this train-test partition for these parameters will be set to nan. Details: \n",
      "Traceback (most recent call last):\n",
      "  File \"C:\\Users\\Mamer Jammer\\anaconda3\\lib\\site-packages\\sklearn\\model_selection\\_validation.py\", line 531, in _fit_and_score\n",
      "    estimator.fit(X_train, y_train, **fit_params)\n",
      "  File \"C:\\Users\\Mamer Jammer\\anaconda3\\lib\\site-packages\\sklearn\\ensemble\\_forest.py\", line 348, in fit\n",
      "    self._validate_estimator()\n",
      "  File \"C:\\Users\\Mamer Jammer\\anaconda3\\lib\\site-packages\\sklearn\\ensemble\\_base.py\", line 134, in _validate_estimator\n",
      "    raise ValueError(\"n_estimators must be greater than zero, \"\n",
      "ValueError: n_estimators must be greater than zero, got 0.\n",
      "\n",
      "  warnings.warn(\"Estimator fit failed. The score on this train-test\"\n",
      "C:\\Users\\Mamer Jammer\\anaconda3\\lib\\site-packages\\sklearn\\model_selection\\_validation.py:548: FitFailedWarning: Estimator fit failed. The score on this train-test partition for these parameters will be set to nan. Details: \n",
      "Traceback (most recent call last):\n",
      "  File \"C:\\Users\\Mamer Jammer\\anaconda3\\lib\\site-packages\\sklearn\\model_selection\\_validation.py\", line 531, in _fit_and_score\n",
      "    estimator.fit(X_train, y_train, **fit_params)\n",
      "  File \"C:\\Users\\Mamer Jammer\\anaconda3\\lib\\site-packages\\sklearn\\ensemble\\_forest.py\", line 348, in fit\n",
      "    self._validate_estimator()\n",
      "  File \"C:\\Users\\Mamer Jammer\\anaconda3\\lib\\site-packages\\sklearn\\ensemble\\_base.py\", line 134, in _validate_estimator\n",
      "    raise ValueError(\"n_estimators must be greater than zero, \"\n",
      "ValueError: n_estimators must be greater than zero, got 0.\n",
      "\n",
      "  warnings.warn(\"Estimator fit failed. The score on this train-test\"\n",
      "C:\\Users\\Mamer Jammer\\anaconda3\\lib\\site-packages\\sklearn\\model_selection\\_validation.py:548: FitFailedWarning: Estimator fit failed. The score on this train-test partition for these parameters will be set to nan. Details: \n",
      "Traceback (most recent call last):\n",
      "  File \"C:\\Users\\Mamer Jammer\\anaconda3\\lib\\site-packages\\sklearn\\model_selection\\_validation.py\", line 531, in _fit_and_score\n",
      "    estimator.fit(X_train, y_train, **fit_params)\n",
      "  File \"C:\\Users\\Mamer Jammer\\anaconda3\\lib\\site-packages\\sklearn\\ensemble\\_forest.py\", line 348, in fit\n",
      "    self._validate_estimator()\n",
      "  File \"C:\\Users\\Mamer Jammer\\anaconda3\\lib\\site-packages\\sklearn\\ensemble\\_base.py\", line 134, in _validate_estimator\n",
      "    raise ValueError(\"n_estimators must be greater than zero, \"\n",
      "ValueError: n_estimators must be greater than zero, got 0.\n",
      "\n",
      "  warnings.warn(\"Estimator fit failed. The score on this train-test\"\n",
      "C:\\Users\\Mamer Jammer\\anaconda3\\lib\\site-packages\\sklearn\\model_selection\\_validation.py:548: FitFailedWarning: Estimator fit failed. The score on this train-test partition for these parameters will be set to nan. Details: \n",
      "Traceback (most recent call last):\n",
      "  File \"C:\\Users\\Mamer Jammer\\anaconda3\\lib\\site-packages\\sklearn\\model_selection\\_validation.py\", line 531, in _fit_and_score\n",
      "    estimator.fit(X_train, y_train, **fit_params)\n",
      "  File \"C:\\Users\\Mamer Jammer\\anaconda3\\lib\\site-packages\\sklearn\\ensemble\\_forest.py\", line 348, in fit\n",
      "    self._validate_estimator()\n",
      "  File \"C:\\Users\\Mamer Jammer\\anaconda3\\lib\\site-packages\\sklearn\\ensemble\\_base.py\", line 134, in _validate_estimator\n",
      "    raise ValueError(\"n_estimators must be greater than zero, \"\n",
      "ValueError: n_estimators must be greater than zero, got 0.\n",
      "\n",
      "  warnings.warn(\"Estimator fit failed. The score on this train-test\"\n",
      "C:\\Users\\Mamer Jammer\\anaconda3\\lib\\site-packages\\sklearn\\model_selection\\_validation.py:548: FitFailedWarning: Estimator fit failed. The score on this train-test partition for these parameters will be set to nan. Details: \n",
      "Traceback (most recent call last):\n",
      "  File \"C:\\Users\\Mamer Jammer\\anaconda3\\lib\\site-packages\\sklearn\\model_selection\\_validation.py\", line 531, in _fit_and_score\n",
      "    estimator.fit(X_train, y_train, **fit_params)\n",
      "  File \"C:\\Users\\Mamer Jammer\\anaconda3\\lib\\site-packages\\sklearn\\ensemble\\_forest.py\", line 348, in fit\n",
      "    self._validate_estimator()\n",
      "  File \"C:\\Users\\Mamer Jammer\\anaconda3\\lib\\site-packages\\sklearn\\ensemble\\_base.py\", line 134, in _validate_estimator\n",
      "    raise ValueError(\"n_estimators must be greater than zero, \"\n",
      "ValueError: n_estimators must be greater than zero, got 0.\n",
      "\n",
      "  warnings.warn(\"Estimator fit failed. The score on this train-test\"\n",
      "C:\\Users\\Mamer Jammer\\anaconda3\\lib\\site-packages\\sklearn\\model_selection\\_validation.py:548: FitFailedWarning: Estimator fit failed. The score on this train-test partition for these parameters will be set to nan. Details: \n",
      "Traceback (most recent call last):\n",
      "  File \"C:\\Users\\Mamer Jammer\\anaconda3\\lib\\site-packages\\sklearn\\model_selection\\_validation.py\", line 531, in _fit_and_score\n",
      "    estimator.fit(X_train, y_train, **fit_params)\n",
      "  File \"C:\\Users\\Mamer Jammer\\anaconda3\\lib\\site-packages\\sklearn\\ensemble\\_forest.py\", line 348, in fit\n",
      "    self._validate_estimator()\n",
      "  File \"C:\\Users\\Mamer Jammer\\anaconda3\\lib\\site-packages\\sklearn\\ensemble\\_base.py\", line 134, in _validate_estimator\n",
      "    raise ValueError(\"n_estimators must be greater than zero, \"\n",
      "ValueError: n_estimators must be greater than zero, got 0.\n",
      "\n",
      "  warnings.warn(\"Estimator fit failed. The score on this train-test\"\n",
      "C:\\Users\\Mamer Jammer\\anaconda3\\lib\\site-packages\\sklearn\\model_selection\\_validation.py:548: FitFailedWarning: Estimator fit failed. The score on this train-test partition for these parameters will be set to nan. Details: \n",
      "Traceback (most recent call last):\n",
      "  File \"C:\\Users\\Mamer Jammer\\anaconda3\\lib\\site-packages\\sklearn\\model_selection\\_validation.py\", line 531, in _fit_and_score\n",
      "    estimator.fit(X_train, y_train, **fit_params)\n",
      "  File \"C:\\Users\\Mamer Jammer\\anaconda3\\lib\\site-packages\\sklearn\\ensemble\\_forest.py\", line 348, in fit\n",
      "    self._validate_estimator()\n",
      "  File \"C:\\Users\\Mamer Jammer\\anaconda3\\lib\\site-packages\\sklearn\\ensemble\\_base.py\", line 134, in _validate_estimator\n",
      "    raise ValueError(\"n_estimators must be greater than zero, \"\n",
      "ValueError: n_estimators must be greater than zero, got 0.\n",
      "\n",
      "  warnings.warn(\"Estimator fit failed. The score on this train-test\"\n",
      "C:\\Users\\Mamer Jammer\\anaconda3\\lib\\site-packages\\sklearn\\model_selection\\_validation.py:548: FitFailedWarning: Estimator fit failed. The score on this train-test partition for these parameters will be set to nan. Details: \n",
      "Traceback (most recent call last):\n",
      "  File \"C:\\Users\\Mamer Jammer\\anaconda3\\lib\\site-packages\\sklearn\\model_selection\\_validation.py\", line 531, in _fit_and_score\n",
      "    estimator.fit(X_train, y_train, **fit_params)\n",
      "  File \"C:\\Users\\Mamer Jammer\\anaconda3\\lib\\site-packages\\sklearn\\ensemble\\_forest.py\", line 348, in fit\n",
      "    self._validate_estimator()\n",
      "  File \"C:\\Users\\Mamer Jammer\\anaconda3\\lib\\site-packages\\sklearn\\ensemble\\_base.py\", line 134, in _validate_estimator\n",
      "    raise ValueError(\"n_estimators must be greater than zero, \"\n",
      "ValueError: n_estimators must be greater than zero, got 0.\n",
      "\n",
      "  warnings.warn(\"Estimator fit failed. The score on this train-test\"\n",
      "C:\\Users\\Mamer Jammer\\anaconda3\\lib\\site-packages\\sklearn\\model_selection\\_validation.py:548: FitFailedWarning: Estimator fit failed. The score on this train-test partition for these parameters will be set to nan. Details: \n",
      "Traceback (most recent call last):\n",
      "  File \"C:\\Users\\Mamer Jammer\\anaconda3\\lib\\site-packages\\sklearn\\model_selection\\_validation.py\", line 531, in _fit_and_score\n",
      "    estimator.fit(X_train, y_train, **fit_params)\n",
      "  File \"C:\\Users\\Mamer Jammer\\anaconda3\\lib\\site-packages\\sklearn\\ensemble\\_forest.py\", line 348, in fit\n",
      "    self._validate_estimator()\n",
      "  File \"C:\\Users\\Mamer Jammer\\anaconda3\\lib\\site-packages\\sklearn\\ensemble\\_base.py\", line 134, in _validate_estimator\n",
      "    raise ValueError(\"n_estimators must be greater than zero, \"\n",
      "ValueError: n_estimators must be greater than zero, got 0.\n",
      "\n",
      "  warnings.warn(\"Estimator fit failed. The score on this train-test\"\n"
     ]
    },
    {
     "name": "stderr",
     "output_type": "stream",
     "text": [
      "C:\\Users\\Mamer Jammer\\anaconda3\\lib\\site-packages\\sklearn\\model_selection\\_validation.py:548: FitFailedWarning: Estimator fit failed. The score on this train-test partition for these parameters will be set to nan. Details: \n",
      "Traceback (most recent call last):\n",
      "  File \"C:\\Users\\Mamer Jammer\\anaconda3\\lib\\site-packages\\sklearn\\model_selection\\_validation.py\", line 531, in _fit_and_score\n",
      "    estimator.fit(X_train, y_train, **fit_params)\n",
      "  File \"C:\\Users\\Mamer Jammer\\anaconda3\\lib\\site-packages\\sklearn\\ensemble\\_forest.py\", line 348, in fit\n",
      "    self._validate_estimator()\n",
      "  File \"C:\\Users\\Mamer Jammer\\anaconda3\\lib\\site-packages\\sklearn\\ensemble\\_base.py\", line 134, in _validate_estimator\n",
      "    raise ValueError(\"n_estimators must be greater than zero, \"\n",
      "ValueError: n_estimators must be greater than zero, got 0.\n",
      "\n",
      "  warnings.warn(\"Estimator fit failed. The score on this train-test\"\n",
      "C:\\Users\\Mamer Jammer\\anaconda3\\lib\\site-packages\\sklearn\\model_selection\\_validation.py:548: FitFailedWarning: Estimator fit failed. The score on this train-test partition for these parameters will be set to nan. Details: \n",
      "Traceback (most recent call last):\n",
      "  File \"C:\\Users\\Mamer Jammer\\anaconda3\\lib\\site-packages\\sklearn\\model_selection\\_validation.py\", line 531, in _fit_and_score\n",
      "    estimator.fit(X_train, y_train, **fit_params)\n",
      "  File \"C:\\Users\\Mamer Jammer\\anaconda3\\lib\\site-packages\\sklearn\\ensemble\\_forest.py\", line 348, in fit\n",
      "    self._validate_estimator()\n",
      "  File \"C:\\Users\\Mamer Jammer\\anaconda3\\lib\\site-packages\\sklearn\\ensemble\\_base.py\", line 134, in _validate_estimator\n",
      "    raise ValueError(\"n_estimators must be greater than zero, \"\n",
      "ValueError: n_estimators must be greater than zero, got 0.\n",
      "\n",
      "  warnings.warn(\"Estimator fit failed. The score on this train-test\"\n",
      "C:\\Users\\Mamer Jammer\\anaconda3\\lib\\site-packages\\sklearn\\model_selection\\_validation.py:548: FitFailedWarning: Estimator fit failed. The score on this train-test partition for these parameters will be set to nan. Details: \n",
      "Traceback (most recent call last):\n",
      "  File \"C:\\Users\\Mamer Jammer\\anaconda3\\lib\\site-packages\\sklearn\\model_selection\\_validation.py\", line 531, in _fit_and_score\n",
      "    estimator.fit(X_train, y_train, **fit_params)\n",
      "  File \"C:\\Users\\Mamer Jammer\\anaconda3\\lib\\site-packages\\sklearn\\ensemble\\_forest.py\", line 348, in fit\n",
      "    self._validate_estimator()\n",
      "  File \"C:\\Users\\Mamer Jammer\\anaconda3\\lib\\site-packages\\sklearn\\ensemble\\_base.py\", line 134, in _validate_estimator\n",
      "    raise ValueError(\"n_estimators must be greater than zero, \"\n",
      "ValueError: n_estimators must be greater than zero, got 0.\n",
      "\n",
      "  warnings.warn(\"Estimator fit failed. The score on this train-test\"\n",
      "C:\\Users\\Mamer Jammer\\anaconda3\\lib\\site-packages\\sklearn\\model_selection\\_validation.py:548: FitFailedWarning: Estimator fit failed. The score on this train-test partition for these parameters will be set to nan. Details: \n",
      "Traceback (most recent call last):\n",
      "  File \"C:\\Users\\Mamer Jammer\\anaconda3\\lib\\site-packages\\sklearn\\model_selection\\_validation.py\", line 531, in _fit_and_score\n",
      "    estimator.fit(X_train, y_train, **fit_params)\n",
      "  File \"C:\\Users\\Mamer Jammer\\anaconda3\\lib\\site-packages\\sklearn\\ensemble\\_forest.py\", line 348, in fit\n",
      "    self._validate_estimator()\n",
      "  File \"C:\\Users\\Mamer Jammer\\anaconda3\\lib\\site-packages\\sklearn\\ensemble\\_base.py\", line 134, in _validate_estimator\n",
      "    raise ValueError(\"n_estimators must be greater than zero, \"\n",
      "ValueError: n_estimators must be greater than zero, got 0.\n",
      "\n",
      "  warnings.warn(\"Estimator fit failed. The score on this train-test\"\n",
      "C:\\Users\\Mamer Jammer\\anaconda3\\lib\\site-packages\\sklearn\\model_selection\\_validation.py:548: FitFailedWarning: Estimator fit failed. The score on this train-test partition for these parameters will be set to nan. Details: \n",
      "Traceback (most recent call last):\n",
      "  File \"C:\\Users\\Mamer Jammer\\anaconda3\\lib\\site-packages\\sklearn\\model_selection\\_validation.py\", line 531, in _fit_and_score\n",
      "    estimator.fit(X_train, y_train, **fit_params)\n",
      "  File \"C:\\Users\\Mamer Jammer\\anaconda3\\lib\\site-packages\\sklearn\\ensemble\\_forest.py\", line 348, in fit\n",
      "    self._validate_estimator()\n",
      "  File \"C:\\Users\\Mamer Jammer\\anaconda3\\lib\\site-packages\\sklearn\\ensemble\\_base.py\", line 134, in _validate_estimator\n",
      "    raise ValueError(\"n_estimators must be greater than zero, \"\n",
      "ValueError: n_estimators must be greater than zero, got 0.\n",
      "\n",
      "  warnings.warn(\"Estimator fit failed. The score on this train-test\"\n",
      "C:\\Users\\Mamer Jammer\\anaconda3\\lib\\site-packages\\sklearn\\model_selection\\_validation.py:548: FitFailedWarning: Estimator fit failed. The score on this train-test partition for these parameters will be set to nan. Details: \n",
      "Traceback (most recent call last):\n",
      "  File \"C:\\Users\\Mamer Jammer\\anaconda3\\lib\\site-packages\\sklearn\\model_selection\\_validation.py\", line 531, in _fit_and_score\n",
      "    estimator.fit(X_train, y_train, **fit_params)\n",
      "  File \"C:\\Users\\Mamer Jammer\\anaconda3\\lib\\site-packages\\sklearn\\ensemble\\_forest.py\", line 348, in fit\n",
      "    self._validate_estimator()\n",
      "  File \"C:\\Users\\Mamer Jammer\\anaconda3\\lib\\site-packages\\sklearn\\ensemble\\_base.py\", line 134, in _validate_estimator\n",
      "    raise ValueError(\"n_estimators must be greater than zero, \"\n",
      "ValueError: n_estimators must be greater than zero, got 0.\n",
      "\n",
      "  warnings.warn(\"Estimator fit failed. The score on this train-test\"\n",
      "C:\\Users\\Mamer Jammer\\anaconda3\\lib\\site-packages\\sklearn\\model_selection\\_validation.py:548: FitFailedWarning: Estimator fit failed. The score on this train-test partition for these parameters will be set to nan. Details: \n",
      "Traceback (most recent call last):\n",
      "  File \"C:\\Users\\Mamer Jammer\\anaconda3\\lib\\site-packages\\sklearn\\model_selection\\_validation.py\", line 531, in _fit_and_score\n",
      "    estimator.fit(X_train, y_train, **fit_params)\n",
      "  File \"C:\\Users\\Mamer Jammer\\anaconda3\\lib\\site-packages\\sklearn\\ensemble\\_forest.py\", line 348, in fit\n",
      "    self._validate_estimator()\n",
      "  File \"C:\\Users\\Mamer Jammer\\anaconda3\\lib\\site-packages\\sklearn\\ensemble\\_base.py\", line 134, in _validate_estimator\n",
      "    raise ValueError(\"n_estimators must be greater than zero, \"\n",
      "ValueError: n_estimators must be greater than zero, got 0.\n",
      "\n",
      "  warnings.warn(\"Estimator fit failed. The score on this train-test\"\n",
      "C:\\Users\\Mamer Jammer\\anaconda3\\lib\\site-packages\\sklearn\\model_selection\\_validation.py:548: FitFailedWarning: Estimator fit failed. The score on this train-test partition for these parameters will be set to nan. Details: \n",
      "Traceback (most recent call last):\n",
      "  File \"C:\\Users\\Mamer Jammer\\anaconda3\\lib\\site-packages\\sklearn\\model_selection\\_validation.py\", line 531, in _fit_and_score\n",
      "    estimator.fit(X_train, y_train, **fit_params)\n",
      "  File \"C:\\Users\\Mamer Jammer\\anaconda3\\lib\\site-packages\\sklearn\\ensemble\\_forest.py\", line 348, in fit\n",
      "    self._validate_estimator()\n",
      "  File \"C:\\Users\\Mamer Jammer\\anaconda3\\lib\\site-packages\\sklearn\\ensemble\\_base.py\", line 134, in _validate_estimator\n",
      "    raise ValueError(\"n_estimators must be greater than zero, \"\n",
      "ValueError: n_estimators must be greater than zero, got 0.\n",
      "\n",
      "  warnings.warn(\"Estimator fit failed. The score on this train-test\"\n",
      "C:\\Users\\Mamer Jammer\\anaconda3\\lib\\site-packages\\sklearn\\model_selection\\_validation.py:548: FitFailedWarning: Estimator fit failed. The score on this train-test partition for these parameters will be set to nan. Details: \n",
      "Traceback (most recent call last):\n",
      "  File \"C:\\Users\\Mamer Jammer\\anaconda3\\lib\\site-packages\\sklearn\\model_selection\\_validation.py\", line 531, in _fit_and_score\n",
      "    estimator.fit(X_train, y_train, **fit_params)\n",
      "  File \"C:\\Users\\Mamer Jammer\\anaconda3\\lib\\site-packages\\sklearn\\ensemble\\_forest.py\", line 348, in fit\n",
      "    self._validate_estimator()\n",
      "  File \"C:\\Users\\Mamer Jammer\\anaconda3\\lib\\site-packages\\sklearn\\ensemble\\_base.py\", line 134, in _validate_estimator\n",
      "    raise ValueError(\"n_estimators must be greater than zero, \"\n",
      "ValueError: n_estimators must be greater than zero, got 0.\n",
      "\n",
      "  warnings.warn(\"Estimator fit failed. The score on this train-test\"\n",
      "C:\\Users\\Mamer Jammer\\anaconda3\\lib\\site-packages\\sklearn\\model_selection\\_validation.py:548: FitFailedWarning: Estimator fit failed. The score on this train-test partition for these parameters will be set to nan. Details: \n",
      "Traceback (most recent call last):\n",
      "  File \"C:\\Users\\Mamer Jammer\\anaconda3\\lib\\site-packages\\sklearn\\model_selection\\_validation.py\", line 531, in _fit_and_score\n",
      "    estimator.fit(X_train, y_train, **fit_params)\n",
      "  File \"C:\\Users\\Mamer Jammer\\anaconda3\\lib\\site-packages\\sklearn\\ensemble\\_forest.py\", line 348, in fit\n",
      "    self._validate_estimator()\n",
      "  File \"C:\\Users\\Mamer Jammer\\anaconda3\\lib\\site-packages\\sklearn\\ensemble\\_base.py\", line 134, in _validate_estimator\n",
      "    raise ValueError(\"n_estimators must be greater than zero, \"\n",
      "ValueError: n_estimators must be greater than zero, got 0.\n",
      "\n",
      "  warnings.warn(\"Estimator fit failed. The score on this train-test\"\n"
     ]
    },
    {
     "name": "stderr",
     "output_type": "stream",
     "text": [
      "C:\\Users\\Mamer Jammer\\anaconda3\\lib\\site-packages\\sklearn\\model_selection\\_validation.py:548: FitFailedWarning: Estimator fit failed. The score on this train-test partition for these parameters will be set to nan. Details: \n",
      "Traceback (most recent call last):\n",
      "  File \"C:\\Users\\Mamer Jammer\\anaconda3\\lib\\site-packages\\sklearn\\model_selection\\_validation.py\", line 531, in _fit_and_score\n",
      "    estimator.fit(X_train, y_train, **fit_params)\n",
      "  File \"C:\\Users\\Mamer Jammer\\anaconda3\\lib\\site-packages\\sklearn\\ensemble\\_forest.py\", line 348, in fit\n",
      "    self._validate_estimator()\n",
      "  File \"C:\\Users\\Mamer Jammer\\anaconda3\\lib\\site-packages\\sklearn\\ensemble\\_base.py\", line 134, in _validate_estimator\n",
      "    raise ValueError(\"n_estimators must be greater than zero, \"\n",
      "ValueError: n_estimators must be greater than zero, got 0.\n",
      "\n",
      "  warnings.warn(\"Estimator fit failed. The score on this train-test\"\n",
      "C:\\Users\\Mamer Jammer\\anaconda3\\lib\\site-packages\\sklearn\\model_selection\\_validation.py:548: FitFailedWarning: Estimator fit failed. The score on this train-test partition for these parameters will be set to nan. Details: \n",
      "Traceback (most recent call last):\n",
      "  File \"C:\\Users\\Mamer Jammer\\anaconda3\\lib\\site-packages\\sklearn\\model_selection\\_validation.py\", line 531, in _fit_and_score\n",
      "    estimator.fit(X_train, y_train, **fit_params)\n",
      "  File \"C:\\Users\\Mamer Jammer\\anaconda3\\lib\\site-packages\\sklearn\\ensemble\\_forest.py\", line 348, in fit\n",
      "    self._validate_estimator()\n",
      "  File \"C:\\Users\\Mamer Jammer\\anaconda3\\lib\\site-packages\\sklearn\\ensemble\\_base.py\", line 134, in _validate_estimator\n",
      "    raise ValueError(\"n_estimators must be greater than zero, \"\n",
      "ValueError: n_estimators must be greater than zero, got 0.\n",
      "\n",
      "  warnings.warn(\"Estimator fit failed. The score on this train-test\"\n",
      "C:\\Users\\Mamer Jammer\\anaconda3\\lib\\site-packages\\sklearn\\model_selection\\_validation.py:548: FitFailedWarning: Estimator fit failed. The score on this train-test partition for these parameters will be set to nan. Details: \n",
      "Traceback (most recent call last):\n",
      "  File \"C:\\Users\\Mamer Jammer\\anaconda3\\lib\\site-packages\\sklearn\\model_selection\\_validation.py\", line 531, in _fit_and_score\n",
      "    estimator.fit(X_train, y_train, **fit_params)\n",
      "  File \"C:\\Users\\Mamer Jammer\\anaconda3\\lib\\site-packages\\sklearn\\ensemble\\_forest.py\", line 348, in fit\n",
      "    self._validate_estimator()\n",
      "  File \"C:\\Users\\Mamer Jammer\\anaconda3\\lib\\site-packages\\sklearn\\ensemble\\_base.py\", line 134, in _validate_estimator\n",
      "    raise ValueError(\"n_estimators must be greater than zero, \"\n",
      "ValueError: n_estimators must be greater than zero, got 0.\n",
      "\n",
      "  warnings.warn(\"Estimator fit failed. The score on this train-test\"\n",
      "C:\\Users\\Mamer Jammer\\anaconda3\\lib\\site-packages\\sklearn\\model_selection\\_validation.py:548: FitFailedWarning: Estimator fit failed. The score on this train-test partition for these parameters will be set to nan. Details: \n",
      "Traceback (most recent call last):\n",
      "  File \"C:\\Users\\Mamer Jammer\\anaconda3\\lib\\site-packages\\sklearn\\model_selection\\_validation.py\", line 531, in _fit_and_score\n",
      "    estimator.fit(X_train, y_train, **fit_params)\n",
      "  File \"C:\\Users\\Mamer Jammer\\anaconda3\\lib\\site-packages\\sklearn\\ensemble\\_forest.py\", line 348, in fit\n",
      "    self._validate_estimator()\n",
      "  File \"C:\\Users\\Mamer Jammer\\anaconda3\\lib\\site-packages\\sklearn\\ensemble\\_base.py\", line 134, in _validate_estimator\n",
      "    raise ValueError(\"n_estimators must be greater than zero, \"\n",
      "ValueError: n_estimators must be greater than zero, got 0.\n",
      "\n",
      "  warnings.warn(\"Estimator fit failed. The score on this train-test\"\n",
      "C:\\Users\\Mamer Jammer\\anaconda3\\lib\\site-packages\\sklearn\\model_selection\\_validation.py:548: FitFailedWarning: Estimator fit failed. The score on this train-test partition for these parameters will be set to nan. Details: \n",
      "Traceback (most recent call last):\n",
      "  File \"C:\\Users\\Mamer Jammer\\anaconda3\\lib\\site-packages\\sklearn\\model_selection\\_validation.py\", line 531, in _fit_and_score\n",
      "    estimator.fit(X_train, y_train, **fit_params)\n",
      "  File \"C:\\Users\\Mamer Jammer\\anaconda3\\lib\\site-packages\\sklearn\\ensemble\\_forest.py\", line 348, in fit\n",
      "    self._validate_estimator()\n",
      "  File \"C:\\Users\\Mamer Jammer\\anaconda3\\lib\\site-packages\\sklearn\\ensemble\\_base.py\", line 134, in _validate_estimator\n",
      "    raise ValueError(\"n_estimators must be greater than zero, \"\n",
      "ValueError: n_estimators must be greater than zero, got 0.\n",
      "\n",
      "  warnings.warn(\"Estimator fit failed. The score on this train-test\"\n",
      "C:\\Users\\Mamer Jammer\\anaconda3\\lib\\site-packages\\sklearn\\model_selection\\_validation.py:548: FitFailedWarning: Estimator fit failed. The score on this train-test partition for these parameters will be set to nan. Details: \n",
      "Traceback (most recent call last):\n",
      "  File \"C:\\Users\\Mamer Jammer\\anaconda3\\lib\\site-packages\\sklearn\\model_selection\\_validation.py\", line 531, in _fit_and_score\n",
      "    estimator.fit(X_train, y_train, **fit_params)\n",
      "  File \"C:\\Users\\Mamer Jammer\\anaconda3\\lib\\site-packages\\sklearn\\ensemble\\_forest.py\", line 348, in fit\n",
      "    self._validate_estimator()\n",
      "  File \"C:\\Users\\Mamer Jammer\\anaconda3\\lib\\site-packages\\sklearn\\ensemble\\_base.py\", line 134, in _validate_estimator\n",
      "    raise ValueError(\"n_estimators must be greater than zero, \"\n",
      "ValueError: n_estimators must be greater than zero, got 0.\n",
      "\n",
      "  warnings.warn(\"Estimator fit failed. The score on this train-test\"\n",
      "C:\\Users\\Mamer Jammer\\anaconda3\\lib\\site-packages\\sklearn\\model_selection\\_validation.py:548: FitFailedWarning: Estimator fit failed. The score on this train-test partition for these parameters will be set to nan. Details: \n",
      "Traceback (most recent call last):\n",
      "  File \"C:\\Users\\Mamer Jammer\\anaconda3\\lib\\site-packages\\sklearn\\model_selection\\_validation.py\", line 531, in _fit_and_score\n",
      "    estimator.fit(X_train, y_train, **fit_params)\n",
      "  File \"C:\\Users\\Mamer Jammer\\anaconda3\\lib\\site-packages\\sklearn\\ensemble\\_forest.py\", line 348, in fit\n",
      "    self._validate_estimator()\n",
      "  File \"C:\\Users\\Mamer Jammer\\anaconda3\\lib\\site-packages\\sklearn\\ensemble\\_base.py\", line 134, in _validate_estimator\n",
      "    raise ValueError(\"n_estimators must be greater than zero, \"\n",
      "ValueError: n_estimators must be greater than zero, got 0.\n",
      "\n",
      "  warnings.warn(\"Estimator fit failed. The score on this train-test\"\n",
      "C:\\Users\\Mamer Jammer\\anaconda3\\lib\\site-packages\\sklearn\\model_selection\\_validation.py:548: FitFailedWarning: Estimator fit failed. The score on this train-test partition for these parameters will be set to nan. Details: \n",
      "Traceback (most recent call last):\n",
      "  File \"C:\\Users\\Mamer Jammer\\anaconda3\\lib\\site-packages\\sklearn\\model_selection\\_validation.py\", line 531, in _fit_and_score\n",
      "    estimator.fit(X_train, y_train, **fit_params)\n",
      "  File \"C:\\Users\\Mamer Jammer\\anaconda3\\lib\\site-packages\\sklearn\\ensemble\\_forest.py\", line 348, in fit\n",
      "    self._validate_estimator()\n",
      "  File \"C:\\Users\\Mamer Jammer\\anaconda3\\lib\\site-packages\\sklearn\\ensemble\\_base.py\", line 134, in _validate_estimator\n",
      "    raise ValueError(\"n_estimators must be greater than zero, \"\n",
      "ValueError: n_estimators must be greater than zero, got 0.\n",
      "\n",
      "  warnings.warn(\"Estimator fit failed. The score on this train-test\"\n",
      "C:\\Users\\Mamer Jammer\\anaconda3\\lib\\site-packages\\sklearn\\model_selection\\_validation.py:548: FitFailedWarning: Estimator fit failed. The score on this train-test partition for these parameters will be set to nan. Details: \n",
      "Traceback (most recent call last):\n",
      "  File \"C:\\Users\\Mamer Jammer\\anaconda3\\lib\\site-packages\\sklearn\\model_selection\\_validation.py\", line 531, in _fit_and_score\n",
      "    estimator.fit(X_train, y_train, **fit_params)\n",
      "  File \"C:\\Users\\Mamer Jammer\\anaconda3\\lib\\site-packages\\sklearn\\ensemble\\_forest.py\", line 348, in fit\n",
      "    self._validate_estimator()\n",
      "  File \"C:\\Users\\Mamer Jammer\\anaconda3\\lib\\site-packages\\sklearn\\ensemble\\_base.py\", line 134, in _validate_estimator\n",
      "    raise ValueError(\"n_estimators must be greater than zero, \"\n",
      "ValueError: n_estimators must be greater than zero, got 0.\n",
      "\n",
      "  warnings.warn(\"Estimator fit failed. The score on this train-test\"\n",
      "C:\\Users\\Mamer Jammer\\anaconda3\\lib\\site-packages\\sklearn\\model_selection\\_validation.py:548: FitFailedWarning: Estimator fit failed. The score on this train-test partition for these parameters will be set to nan. Details: \n",
      "Traceback (most recent call last):\n",
      "  File \"C:\\Users\\Mamer Jammer\\anaconda3\\lib\\site-packages\\sklearn\\model_selection\\_validation.py\", line 531, in _fit_and_score\n",
      "    estimator.fit(X_train, y_train, **fit_params)\n",
      "  File \"C:\\Users\\Mamer Jammer\\anaconda3\\lib\\site-packages\\sklearn\\ensemble\\_forest.py\", line 348, in fit\n",
      "    self._validate_estimator()\n",
      "  File \"C:\\Users\\Mamer Jammer\\anaconda3\\lib\\site-packages\\sklearn\\ensemble\\_base.py\", line 134, in _validate_estimator\n",
      "    raise ValueError(\"n_estimators must be greater than zero, \"\n",
      "ValueError: n_estimators must be greater than zero, got 0.\n",
      "\n",
      "  warnings.warn(\"Estimator fit failed. The score on this train-test\"\n"
     ]
    },
    {
     "name": "stderr",
     "output_type": "stream",
     "text": [
      "C:\\Users\\Mamer Jammer\\anaconda3\\lib\\site-packages\\sklearn\\model_selection\\_validation.py:548: FitFailedWarning: Estimator fit failed. The score on this train-test partition for these parameters will be set to nan. Details: \n",
      "Traceback (most recent call last):\n",
      "  File \"C:\\Users\\Mamer Jammer\\anaconda3\\lib\\site-packages\\sklearn\\model_selection\\_validation.py\", line 531, in _fit_and_score\n",
      "    estimator.fit(X_train, y_train, **fit_params)\n",
      "  File \"C:\\Users\\Mamer Jammer\\anaconda3\\lib\\site-packages\\sklearn\\ensemble\\_forest.py\", line 348, in fit\n",
      "    self._validate_estimator()\n",
      "  File \"C:\\Users\\Mamer Jammer\\anaconda3\\lib\\site-packages\\sklearn\\ensemble\\_base.py\", line 134, in _validate_estimator\n",
      "    raise ValueError(\"n_estimators must be greater than zero, \"\n",
      "ValueError: n_estimators must be greater than zero, got 0.\n",
      "\n",
      "  warnings.warn(\"Estimator fit failed. The score on this train-test\"\n",
      "C:\\Users\\Mamer Jammer\\anaconda3\\lib\\site-packages\\sklearn\\model_selection\\_validation.py:548: FitFailedWarning: Estimator fit failed. The score on this train-test partition for these parameters will be set to nan. Details: \n",
      "Traceback (most recent call last):\n",
      "  File \"C:\\Users\\Mamer Jammer\\anaconda3\\lib\\site-packages\\sklearn\\model_selection\\_validation.py\", line 531, in _fit_and_score\n",
      "    estimator.fit(X_train, y_train, **fit_params)\n",
      "  File \"C:\\Users\\Mamer Jammer\\anaconda3\\lib\\site-packages\\sklearn\\ensemble\\_forest.py\", line 348, in fit\n",
      "    self._validate_estimator()\n",
      "  File \"C:\\Users\\Mamer Jammer\\anaconda3\\lib\\site-packages\\sklearn\\ensemble\\_base.py\", line 134, in _validate_estimator\n",
      "    raise ValueError(\"n_estimators must be greater than zero, \"\n",
      "ValueError: n_estimators must be greater than zero, got 0.\n",
      "\n",
      "  warnings.warn(\"Estimator fit failed. The score on this train-test\"\n",
      "C:\\Users\\Mamer Jammer\\anaconda3\\lib\\site-packages\\sklearn\\model_selection\\_validation.py:548: FitFailedWarning: Estimator fit failed. The score on this train-test partition for these parameters will be set to nan. Details: \n",
      "Traceback (most recent call last):\n",
      "  File \"C:\\Users\\Mamer Jammer\\anaconda3\\lib\\site-packages\\sklearn\\model_selection\\_validation.py\", line 531, in _fit_and_score\n",
      "    estimator.fit(X_train, y_train, **fit_params)\n",
      "  File \"C:\\Users\\Mamer Jammer\\anaconda3\\lib\\site-packages\\sklearn\\ensemble\\_forest.py\", line 348, in fit\n",
      "    self._validate_estimator()\n",
      "  File \"C:\\Users\\Mamer Jammer\\anaconda3\\lib\\site-packages\\sklearn\\ensemble\\_base.py\", line 134, in _validate_estimator\n",
      "    raise ValueError(\"n_estimators must be greater than zero, \"\n",
      "ValueError: n_estimators must be greater than zero, got 0.\n",
      "\n",
      "  warnings.warn(\"Estimator fit failed. The score on this train-test\"\n",
      "C:\\Users\\Mamer Jammer\\anaconda3\\lib\\site-packages\\sklearn\\model_selection\\_validation.py:548: FitFailedWarning: Estimator fit failed. The score on this train-test partition for these parameters will be set to nan. Details: \n",
      "Traceback (most recent call last):\n",
      "  File \"C:\\Users\\Mamer Jammer\\anaconda3\\lib\\site-packages\\sklearn\\model_selection\\_validation.py\", line 531, in _fit_and_score\n",
      "    estimator.fit(X_train, y_train, **fit_params)\n",
      "  File \"C:\\Users\\Mamer Jammer\\anaconda3\\lib\\site-packages\\sklearn\\ensemble\\_forest.py\", line 348, in fit\n",
      "    self._validate_estimator()\n",
      "  File \"C:\\Users\\Mamer Jammer\\anaconda3\\lib\\site-packages\\sklearn\\ensemble\\_base.py\", line 134, in _validate_estimator\n",
      "    raise ValueError(\"n_estimators must be greater than zero, \"\n",
      "ValueError: n_estimators must be greater than zero, got 0.\n",
      "\n",
      "  warnings.warn(\"Estimator fit failed. The score on this train-test\"\n",
      "C:\\Users\\Mamer Jammer\\anaconda3\\lib\\site-packages\\sklearn\\model_selection\\_validation.py:548: FitFailedWarning: Estimator fit failed. The score on this train-test partition for these parameters will be set to nan. Details: \n",
      "Traceback (most recent call last):\n",
      "  File \"C:\\Users\\Mamer Jammer\\anaconda3\\lib\\site-packages\\sklearn\\model_selection\\_validation.py\", line 531, in _fit_and_score\n",
      "    estimator.fit(X_train, y_train, **fit_params)\n",
      "  File \"C:\\Users\\Mamer Jammer\\anaconda3\\lib\\site-packages\\sklearn\\ensemble\\_forest.py\", line 348, in fit\n",
      "    self._validate_estimator()\n",
      "  File \"C:\\Users\\Mamer Jammer\\anaconda3\\lib\\site-packages\\sklearn\\ensemble\\_base.py\", line 134, in _validate_estimator\n",
      "    raise ValueError(\"n_estimators must be greater than zero, \"\n",
      "ValueError: n_estimators must be greater than zero, got 0.\n",
      "\n",
      "  warnings.warn(\"Estimator fit failed. The score on this train-test\"\n",
      "C:\\Users\\Mamer Jammer\\anaconda3\\lib\\site-packages\\sklearn\\model_selection\\_validation.py:548: FitFailedWarning: Estimator fit failed. The score on this train-test partition for these parameters will be set to nan. Details: \n",
      "Traceback (most recent call last):\n",
      "  File \"C:\\Users\\Mamer Jammer\\anaconda3\\lib\\site-packages\\sklearn\\model_selection\\_validation.py\", line 531, in _fit_and_score\n",
      "    estimator.fit(X_train, y_train, **fit_params)\n",
      "  File \"C:\\Users\\Mamer Jammer\\anaconda3\\lib\\site-packages\\sklearn\\ensemble\\_forest.py\", line 348, in fit\n",
      "    self._validate_estimator()\n",
      "  File \"C:\\Users\\Mamer Jammer\\anaconda3\\lib\\site-packages\\sklearn\\ensemble\\_base.py\", line 134, in _validate_estimator\n",
      "    raise ValueError(\"n_estimators must be greater than zero, \"\n",
      "ValueError: n_estimators must be greater than zero, got 0.\n",
      "\n",
      "  warnings.warn(\"Estimator fit failed. The score on this train-test\"\n",
      "C:\\Users\\Mamer Jammer\\anaconda3\\lib\\site-packages\\sklearn\\model_selection\\_validation.py:548: FitFailedWarning: Estimator fit failed. The score on this train-test partition for these parameters will be set to nan. Details: \n",
      "Traceback (most recent call last):\n",
      "  File \"C:\\Users\\Mamer Jammer\\anaconda3\\lib\\site-packages\\sklearn\\model_selection\\_validation.py\", line 531, in _fit_and_score\n",
      "    estimator.fit(X_train, y_train, **fit_params)\n",
      "  File \"C:\\Users\\Mamer Jammer\\anaconda3\\lib\\site-packages\\sklearn\\ensemble\\_forest.py\", line 348, in fit\n",
      "    self._validate_estimator()\n",
      "  File \"C:\\Users\\Mamer Jammer\\anaconda3\\lib\\site-packages\\sklearn\\ensemble\\_base.py\", line 134, in _validate_estimator\n",
      "    raise ValueError(\"n_estimators must be greater than zero, \"\n",
      "ValueError: n_estimators must be greater than zero, got 0.\n",
      "\n",
      "  warnings.warn(\"Estimator fit failed. The score on this train-test\"\n",
      "C:\\Users\\Mamer Jammer\\anaconda3\\lib\\site-packages\\sklearn\\model_selection\\_validation.py:548: FitFailedWarning: Estimator fit failed. The score on this train-test partition for these parameters will be set to nan. Details: \n",
      "Traceback (most recent call last):\n",
      "  File \"C:\\Users\\Mamer Jammer\\anaconda3\\lib\\site-packages\\sklearn\\model_selection\\_validation.py\", line 531, in _fit_and_score\n",
      "    estimator.fit(X_train, y_train, **fit_params)\n",
      "  File \"C:\\Users\\Mamer Jammer\\anaconda3\\lib\\site-packages\\sklearn\\ensemble\\_forest.py\", line 348, in fit\n",
      "    self._validate_estimator()\n",
      "  File \"C:\\Users\\Mamer Jammer\\anaconda3\\lib\\site-packages\\sklearn\\ensemble\\_base.py\", line 134, in _validate_estimator\n",
      "    raise ValueError(\"n_estimators must be greater than zero, \"\n",
      "ValueError: n_estimators must be greater than zero, got 0.\n",
      "\n",
      "  warnings.warn(\"Estimator fit failed. The score on this train-test\"\n",
      "C:\\Users\\Mamer Jammer\\anaconda3\\lib\\site-packages\\sklearn\\model_selection\\_validation.py:548: FitFailedWarning: Estimator fit failed. The score on this train-test partition for these parameters will be set to nan. Details: \n",
      "Traceback (most recent call last):\n",
      "  File \"C:\\Users\\Mamer Jammer\\anaconda3\\lib\\site-packages\\sklearn\\model_selection\\_validation.py\", line 531, in _fit_and_score\n",
      "    estimator.fit(X_train, y_train, **fit_params)\n",
      "  File \"C:\\Users\\Mamer Jammer\\anaconda3\\lib\\site-packages\\sklearn\\ensemble\\_forest.py\", line 348, in fit\n",
      "    self._validate_estimator()\n",
      "  File \"C:\\Users\\Mamer Jammer\\anaconda3\\lib\\site-packages\\sklearn\\ensemble\\_base.py\", line 134, in _validate_estimator\n",
      "    raise ValueError(\"n_estimators must be greater than zero, \"\n",
      "ValueError: n_estimators must be greater than zero, got 0.\n",
      "\n",
      "  warnings.warn(\"Estimator fit failed. The score on this train-test\"\n",
      "C:\\Users\\Mamer Jammer\\anaconda3\\lib\\site-packages\\sklearn\\model_selection\\_validation.py:548: FitFailedWarning: Estimator fit failed. The score on this train-test partition for these parameters will be set to nan. Details: \n",
      "Traceback (most recent call last):\n",
      "  File \"C:\\Users\\Mamer Jammer\\anaconda3\\lib\\site-packages\\sklearn\\model_selection\\_validation.py\", line 531, in _fit_and_score\n",
      "    estimator.fit(X_train, y_train, **fit_params)\n",
      "  File \"C:\\Users\\Mamer Jammer\\anaconda3\\lib\\site-packages\\sklearn\\ensemble\\_forest.py\", line 348, in fit\n",
      "    self._validate_estimator()\n",
      "  File \"C:\\Users\\Mamer Jammer\\anaconda3\\lib\\site-packages\\sklearn\\ensemble\\_base.py\", line 134, in _validate_estimator\n",
      "    raise ValueError(\"n_estimators must be greater than zero, \"\n",
      "ValueError: n_estimators must be greater than zero, got 0.\n",
      "\n",
      "  warnings.warn(\"Estimator fit failed. The score on this train-test\"\n"
     ]
    },
    {
     "name": "stderr",
     "output_type": "stream",
     "text": [
      "C:\\Users\\Mamer Jammer\\anaconda3\\lib\\site-packages\\sklearn\\model_selection\\_validation.py:548: FitFailedWarning: Estimator fit failed. The score on this train-test partition for these parameters will be set to nan. Details: \n",
      "Traceback (most recent call last):\n",
      "  File \"C:\\Users\\Mamer Jammer\\anaconda3\\lib\\site-packages\\sklearn\\model_selection\\_validation.py\", line 531, in _fit_and_score\n",
      "    estimator.fit(X_train, y_train, **fit_params)\n",
      "  File \"C:\\Users\\Mamer Jammer\\anaconda3\\lib\\site-packages\\sklearn\\ensemble\\_forest.py\", line 348, in fit\n",
      "    self._validate_estimator()\n",
      "  File \"C:\\Users\\Mamer Jammer\\anaconda3\\lib\\site-packages\\sklearn\\ensemble\\_base.py\", line 134, in _validate_estimator\n",
      "    raise ValueError(\"n_estimators must be greater than zero, \"\n",
      "ValueError: n_estimators must be greater than zero, got 0.\n",
      "\n",
      "  warnings.warn(\"Estimator fit failed. The score on this train-test\"\n",
      "C:\\Users\\Mamer Jammer\\anaconda3\\lib\\site-packages\\sklearn\\model_selection\\_validation.py:548: FitFailedWarning: Estimator fit failed. The score on this train-test partition for these parameters will be set to nan. Details: \n",
      "Traceback (most recent call last):\n",
      "  File \"C:\\Users\\Mamer Jammer\\anaconda3\\lib\\site-packages\\sklearn\\model_selection\\_validation.py\", line 531, in _fit_and_score\n",
      "    estimator.fit(X_train, y_train, **fit_params)\n",
      "  File \"C:\\Users\\Mamer Jammer\\anaconda3\\lib\\site-packages\\sklearn\\ensemble\\_forest.py\", line 348, in fit\n",
      "    self._validate_estimator()\n",
      "  File \"C:\\Users\\Mamer Jammer\\anaconda3\\lib\\site-packages\\sklearn\\ensemble\\_base.py\", line 134, in _validate_estimator\n",
      "    raise ValueError(\"n_estimators must be greater than zero, \"\n",
      "ValueError: n_estimators must be greater than zero, got 0.\n",
      "\n",
      "  warnings.warn(\"Estimator fit failed. The score on this train-test\"\n",
      "C:\\Users\\Mamer Jammer\\anaconda3\\lib\\site-packages\\sklearn\\model_selection\\_validation.py:548: FitFailedWarning: Estimator fit failed. The score on this train-test partition for these parameters will be set to nan. Details: \n",
      "Traceback (most recent call last):\n",
      "  File \"C:\\Users\\Mamer Jammer\\anaconda3\\lib\\site-packages\\sklearn\\model_selection\\_validation.py\", line 531, in _fit_and_score\n",
      "    estimator.fit(X_train, y_train, **fit_params)\n",
      "  File \"C:\\Users\\Mamer Jammer\\anaconda3\\lib\\site-packages\\sklearn\\ensemble\\_forest.py\", line 348, in fit\n",
      "    self._validate_estimator()\n",
      "  File \"C:\\Users\\Mamer Jammer\\anaconda3\\lib\\site-packages\\sklearn\\ensemble\\_base.py\", line 134, in _validate_estimator\n",
      "    raise ValueError(\"n_estimators must be greater than zero, \"\n",
      "ValueError: n_estimators must be greater than zero, got 0.\n",
      "\n",
      "  warnings.warn(\"Estimator fit failed. The score on this train-test\"\n",
      "C:\\Users\\Mamer Jammer\\anaconda3\\lib\\site-packages\\sklearn\\model_selection\\_validation.py:548: FitFailedWarning: Estimator fit failed. The score on this train-test partition for these parameters will be set to nan. Details: \n",
      "Traceback (most recent call last):\n",
      "  File \"C:\\Users\\Mamer Jammer\\anaconda3\\lib\\site-packages\\sklearn\\model_selection\\_validation.py\", line 531, in _fit_and_score\n",
      "    estimator.fit(X_train, y_train, **fit_params)\n",
      "  File \"C:\\Users\\Mamer Jammer\\anaconda3\\lib\\site-packages\\sklearn\\ensemble\\_forest.py\", line 348, in fit\n",
      "    self._validate_estimator()\n",
      "  File \"C:\\Users\\Mamer Jammer\\anaconda3\\lib\\site-packages\\sklearn\\ensemble\\_base.py\", line 134, in _validate_estimator\n",
      "    raise ValueError(\"n_estimators must be greater than zero, \"\n",
      "ValueError: n_estimators must be greater than zero, got 0.\n",
      "\n",
      "  warnings.warn(\"Estimator fit failed. The score on this train-test\"\n",
      "C:\\Users\\Mamer Jammer\\anaconda3\\lib\\site-packages\\sklearn\\model_selection\\_validation.py:548: FitFailedWarning: Estimator fit failed. The score on this train-test partition for these parameters will be set to nan. Details: \n",
      "Traceback (most recent call last):\n",
      "  File \"C:\\Users\\Mamer Jammer\\anaconda3\\lib\\site-packages\\sklearn\\model_selection\\_validation.py\", line 531, in _fit_and_score\n",
      "    estimator.fit(X_train, y_train, **fit_params)\n",
      "  File \"C:\\Users\\Mamer Jammer\\anaconda3\\lib\\site-packages\\sklearn\\ensemble\\_forest.py\", line 348, in fit\n",
      "    self._validate_estimator()\n",
      "  File \"C:\\Users\\Mamer Jammer\\anaconda3\\lib\\site-packages\\sklearn\\ensemble\\_base.py\", line 134, in _validate_estimator\n",
      "    raise ValueError(\"n_estimators must be greater than zero, \"\n",
      "ValueError: n_estimators must be greater than zero, got 0.\n",
      "\n",
      "  warnings.warn(\"Estimator fit failed. The score on this train-test\"\n",
      "C:\\Users\\Mamer Jammer\\anaconda3\\lib\\site-packages\\sklearn\\model_selection\\_validation.py:548: FitFailedWarning: Estimator fit failed. The score on this train-test partition for these parameters will be set to nan. Details: \n",
      "Traceback (most recent call last):\n",
      "  File \"C:\\Users\\Mamer Jammer\\anaconda3\\lib\\site-packages\\sklearn\\model_selection\\_validation.py\", line 531, in _fit_and_score\n",
      "    estimator.fit(X_train, y_train, **fit_params)\n",
      "  File \"C:\\Users\\Mamer Jammer\\anaconda3\\lib\\site-packages\\sklearn\\ensemble\\_forest.py\", line 348, in fit\n",
      "    self._validate_estimator()\n",
      "  File \"C:\\Users\\Mamer Jammer\\anaconda3\\lib\\site-packages\\sklearn\\ensemble\\_base.py\", line 134, in _validate_estimator\n",
      "    raise ValueError(\"n_estimators must be greater than zero, \"\n",
      "ValueError: n_estimators must be greater than zero, got 0.\n",
      "\n",
      "  warnings.warn(\"Estimator fit failed. The score on this train-test\"\n",
      "C:\\Users\\Mamer Jammer\\anaconda3\\lib\\site-packages\\sklearn\\model_selection\\_validation.py:548: FitFailedWarning: Estimator fit failed. The score on this train-test partition for these parameters will be set to nan. Details: \n",
      "Traceback (most recent call last):\n",
      "  File \"C:\\Users\\Mamer Jammer\\anaconda3\\lib\\site-packages\\sklearn\\model_selection\\_validation.py\", line 531, in _fit_and_score\n",
      "    estimator.fit(X_train, y_train, **fit_params)\n",
      "  File \"C:\\Users\\Mamer Jammer\\anaconda3\\lib\\site-packages\\sklearn\\ensemble\\_forest.py\", line 348, in fit\n",
      "    self._validate_estimator()\n",
      "  File \"C:\\Users\\Mamer Jammer\\anaconda3\\lib\\site-packages\\sklearn\\ensemble\\_base.py\", line 134, in _validate_estimator\n",
      "    raise ValueError(\"n_estimators must be greater than zero, \"\n",
      "ValueError: n_estimators must be greater than zero, got 0.\n",
      "\n",
      "  warnings.warn(\"Estimator fit failed. The score on this train-test\"\n",
      "C:\\Users\\Mamer Jammer\\anaconda3\\lib\\site-packages\\sklearn\\model_selection\\_validation.py:548: FitFailedWarning: Estimator fit failed. The score on this train-test partition for these parameters will be set to nan. Details: \n",
      "Traceback (most recent call last):\n",
      "  File \"C:\\Users\\Mamer Jammer\\anaconda3\\lib\\site-packages\\sklearn\\model_selection\\_validation.py\", line 531, in _fit_and_score\n",
      "    estimator.fit(X_train, y_train, **fit_params)\n",
      "  File \"C:\\Users\\Mamer Jammer\\anaconda3\\lib\\site-packages\\sklearn\\ensemble\\_forest.py\", line 348, in fit\n",
      "    self._validate_estimator()\n",
      "  File \"C:\\Users\\Mamer Jammer\\anaconda3\\lib\\site-packages\\sklearn\\ensemble\\_base.py\", line 134, in _validate_estimator\n",
      "    raise ValueError(\"n_estimators must be greater than zero, \"\n",
      "ValueError: n_estimators must be greater than zero, got 0.\n",
      "\n",
      "  warnings.warn(\"Estimator fit failed. The score on this train-test\"\n",
      "C:\\Users\\Mamer Jammer\\anaconda3\\lib\\site-packages\\sklearn\\model_selection\\_validation.py:548: FitFailedWarning: Estimator fit failed. The score on this train-test partition for these parameters will be set to nan. Details: \n",
      "Traceback (most recent call last):\n",
      "  File \"C:\\Users\\Mamer Jammer\\anaconda3\\lib\\site-packages\\sklearn\\model_selection\\_validation.py\", line 531, in _fit_and_score\n",
      "    estimator.fit(X_train, y_train, **fit_params)\n",
      "  File \"C:\\Users\\Mamer Jammer\\anaconda3\\lib\\site-packages\\sklearn\\ensemble\\_forest.py\", line 348, in fit\n",
      "    self._validate_estimator()\n",
      "  File \"C:\\Users\\Mamer Jammer\\anaconda3\\lib\\site-packages\\sklearn\\ensemble\\_base.py\", line 134, in _validate_estimator\n",
      "    raise ValueError(\"n_estimators must be greater than zero, \"\n",
      "ValueError: n_estimators must be greater than zero, got 0.\n",
      "\n",
      "  warnings.warn(\"Estimator fit failed. The score on this train-test\"\n",
      "C:\\Users\\Mamer Jammer\\anaconda3\\lib\\site-packages\\sklearn\\model_selection\\_validation.py:548: FitFailedWarning: Estimator fit failed. The score on this train-test partition for these parameters will be set to nan. Details: \n",
      "Traceback (most recent call last):\n",
      "  File \"C:\\Users\\Mamer Jammer\\anaconda3\\lib\\site-packages\\sklearn\\model_selection\\_validation.py\", line 531, in _fit_and_score\n",
      "    estimator.fit(X_train, y_train, **fit_params)\n",
      "  File \"C:\\Users\\Mamer Jammer\\anaconda3\\lib\\site-packages\\sklearn\\ensemble\\_forest.py\", line 348, in fit\n",
      "    self._validate_estimator()\n",
      "  File \"C:\\Users\\Mamer Jammer\\anaconda3\\lib\\site-packages\\sklearn\\ensemble\\_base.py\", line 134, in _validate_estimator\n",
      "    raise ValueError(\"n_estimators must be greater than zero, \"\n",
      "ValueError: n_estimators must be greater than zero, got 0.\n",
      "\n",
      "  warnings.warn(\"Estimator fit failed. The score on this train-test\"\n"
     ]
    },
    {
     "name": "stderr",
     "output_type": "stream",
     "text": [
      "C:\\Users\\Mamer Jammer\\anaconda3\\lib\\site-packages\\sklearn\\model_selection\\_validation.py:548: FitFailedWarning: Estimator fit failed. The score on this train-test partition for these parameters will be set to nan. Details: \n",
      "Traceback (most recent call last):\n",
      "  File \"C:\\Users\\Mamer Jammer\\anaconda3\\lib\\site-packages\\sklearn\\model_selection\\_validation.py\", line 531, in _fit_and_score\n",
      "    estimator.fit(X_train, y_train, **fit_params)\n",
      "  File \"C:\\Users\\Mamer Jammer\\anaconda3\\lib\\site-packages\\sklearn\\ensemble\\_forest.py\", line 348, in fit\n",
      "    self._validate_estimator()\n",
      "  File \"C:\\Users\\Mamer Jammer\\anaconda3\\lib\\site-packages\\sklearn\\ensemble\\_base.py\", line 134, in _validate_estimator\n",
      "    raise ValueError(\"n_estimators must be greater than zero, \"\n",
      "ValueError: n_estimators must be greater than zero, got 0.\n",
      "\n",
      "  warnings.warn(\"Estimator fit failed. The score on this train-test\"\n",
      "C:\\Users\\Mamer Jammer\\anaconda3\\lib\\site-packages\\sklearn\\model_selection\\_validation.py:548: FitFailedWarning: Estimator fit failed. The score on this train-test partition for these parameters will be set to nan. Details: \n",
      "Traceback (most recent call last):\n",
      "  File \"C:\\Users\\Mamer Jammer\\anaconda3\\lib\\site-packages\\sklearn\\model_selection\\_validation.py\", line 531, in _fit_and_score\n",
      "    estimator.fit(X_train, y_train, **fit_params)\n",
      "  File \"C:\\Users\\Mamer Jammer\\anaconda3\\lib\\site-packages\\sklearn\\ensemble\\_forest.py\", line 348, in fit\n",
      "    self._validate_estimator()\n",
      "  File \"C:\\Users\\Mamer Jammer\\anaconda3\\lib\\site-packages\\sklearn\\ensemble\\_base.py\", line 134, in _validate_estimator\n",
      "    raise ValueError(\"n_estimators must be greater than zero, \"\n",
      "ValueError: n_estimators must be greater than zero, got 0.\n",
      "\n",
      "  warnings.warn(\"Estimator fit failed. The score on this train-test\"\n",
      "C:\\Users\\Mamer Jammer\\anaconda3\\lib\\site-packages\\sklearn\\model_selection\\_validation.py:548: FitFailedWarning: Estimator fit failed. The score on this train-test partition for these parameters will be set to nan. Details: \n",
      "Traceback (most recent call last):\n",
      "  File \"C:\\Users\\Mamer Jammer\\anaconda3\\lib\\site-packages\\sklearn\\model_selection\\_validation.py\", line 531, in _fit_and_score\n",
      "    estimator.fit(X_train, y_train, **fit_params)\n",
      "  File \"C:\\Users\\Mamer Jammer\\anaconda3\\lib\\site-packages\\sklearn\\ensemble\\_forest.py\", line 348, in fit\n",
      "    self._validate_estimator()\n",
      "  File \"C:\\Users\\Mamer Jammer\\anaconda3\\lib\\site-packages\\sklearn\\ensemble\\_base.py\", line 134, in _validate_estimator\n",
      "    raise ValueError(\"n_estimators must be greater than zero, \"\n",
      "ValueError: n_estimators must be greater than zero, got 0.\n",
      "\n",
      "  warnings.warn(\"Estimator fit failed. The score on this train-test\"\n",
      "C:\\Users\\Mamer Jammer\\anaconda3\\lib\\site-packages\\sklearn\\model_selection\\_validation.py:548: FitFailedWarning: Estimator fit failed. The score on this train-test partition for these parameters will be set to nan. Details: \n",
      "Traceback (most recent call last):\n",
      "  File \"C:\\Users\\Mamer Jammer\\anaconda3\\lib\\site-packages\\sklearn\\model_selection\\_validation.py\", line 531, in _fit_and_score\n",
      "    estimator.fit(X_train, y_train, **fit_params)\n",
      "  File \"C:\\Users\\Mamer Jammer\\anaconda3\\lib\\site-packages\\sklearn\\ensemble\\_forest.py\", line 348, in fit\n",
      "    self._validate_estimator()\n",
      "  File \"C:\\Users\\Mamer Jammer\\anaconda3\\lib\\site-packages\\sklearn\\ensemble\\_base.py\", line 134, in _validate_estimator\n",
      "    raise ValueError(\"n_estimators must be greater than zero, \"\n",
      "ValueError: n_estimators must be greater than zero, got 0.\n",
      "\n",
      "  warnings.warn(\"Estimator fit failed. The score on this train-test\"\n",
      "C:\\Users\\Mamer Jammer\\anaconda3\\lib\\site-packages\\sklearn\\model_selection\\_validation.py:548: FitFailedWarning: Estimator fit failed. The score on this train-test partition for these parameters will be set to nan. Details: \n",
      "Traceback (most recent call last):\n",
      "  File \"C:\\Users\\Mamer Jammer\\anaconda3\\lib\\site-packages\\sklearn\\model_selection\\_validation.py\", line 531, in _fit_and_score\n",
      "    estimator.fit(X_train, y_train, **fit_params)\n",
      "  File \"C:\\Users\\Mamer Jammer\\anaconda3\\lib\\site-packages\\sklearn\\ensemble\\_forest.py\", line 348, in fit\n",
      "    self._validate_estimator()\n",
      "  File \"C:\\Users\\Mamer Jammer\\anaconda3\\lib\\site-packages\\sklearn\\ensemble\\_base.py\", line 134, in _validate_estimator\n",
      "    raise ValueError(\"n_estimators must be greater than zero, \"\n",
      "ValueError: n_estimators must be greater than zero, got 0.\n",
      "\n",
      "  warnings.warn(\"Estimator fit failed. The score on this train-test\"\n",
      "C:\\Users\\Mamer Jammer\\anaconda3\\lib\\site-packages\\sklearn\\model_selection\\_validation.py:548: FitFailedWarning: Estimator fit failed. The score on this train-test partition for these parameters will be set to nan. Details: \n",
      "Traceback (most recent call last):\n",
      "  File \"C:\\Users\\Mamer Jammer\\anaconda3\\lib\\site-packages\\sklearn\\model_selection\\_validation.py\", line 531, in _fit_and_score\n",
      "    estimator.fit(X_train, y_train, **fit_params)\n",
      "  File \"C:\\Users\\Mamer Jammer\\anaconda3\\lib\\site-packages\\sklearn\\ensemble\\_forest.py\", line 348, in fit\n",
      "    self._validate_estimator()\n",
      "  File \"C:\\Users\\Mamer Jammer\\anaconda3\\lib\\site-packages\\sklearn\\ensemble\\_base.py\", line 134, in _validate_estimator\n",
      "    raise ValueError(\"n_estimators must be greater than zero, \"\n",
      "ValueError: n_estimators must be greater than zero, got 0.\n",
      "\n",
      "  warnings.warn(\"Estimator fit failed. The score on this train-test\"\n",
      "C:\\Users\\Mamer Jammer\\anaconda3\\lib\\site-packages\\sklearn\\model_selection\\_validation.py:548: FitFailedWarning: Estimator fit failed. The score on this train-test partition for these parameters will be set to nan. Details: \n",
      "Traceback (most recent call last):\n",
      "  File \"C:\\Users\\Mamer Jammer\\anaconda3\\lib\\site-packages\\sklearn\\model_selection\\_validation.py\", line 531, in _fit_and_score\n",
      "    estimator.fit(X_train, y_train, **fit_params)\n",
      "  File \"C:\\Users\\Mamer Jammer\\anaconda3\\lib\\site-packages\\sklearn\\ensemble\\_forest.py\", line 348, in fit\n",
      "    self._validate_estimator()\n",
      "  File \"C:\\Users\\Mamer Jammer\\anaconda3\\lib\\site-packages\\sklearn\\ensemble\\_base.py\", line 134, in _validate_estimator\n",
      "    raise ValueError(\"n_estimators must be greater than zero, \"\n",
      "ValueError: n_estimators must be greater than zero, got 0.\n",
      "\n",
      "  warnings.warn(\"Estimator fit failed. The score on this train-test\"\n",
      "C:\\Users\\Mamer Jammer\\anaconda3\\lib\\site-packages\\sklearn\\model_selection\\_validation.py:548: FitFailedWarning: Estimator fit failed. The score on this train-test partition for these parameters will be set to nan. Details: \n",
      "Traceback (most recent call last):\n",
      "  File \"C:\\Users\\Mamer Jammer\\anaconda3\\lib\\site-packages\\sklearn\\model_selection\\_validation.py\", line 531, in _fit_and_score\n",
      "    estimator.fit(X_train, y_train, **fit_params)\n",
      "  File \"C:\\Users\\Mamer Jammer\\anaconda3\\lib\\site-packages\\sklearn\\ensemble\\_forest.py\", line 348, in fit\n",
      "    self._validate_estimator()\n",
      "  File \"C:\\Users\\Mamer Jammer\\anaconda3\\lib\\site-packages\\sklearn\\ensemble\\_base.py\", line 134, in _validate_estimator\n",
      "    raise ValueError(\"n_estimators must be greater than zero, \"\n",
      "ValueError: n_estimators must be greater than zero, got 0.\n",
      "\n",
      "  warnings.warn(\"Estimator fit failed. The score on this train-test\"\n",
      "C:\\Users\\Mamer Jammer\\anaconda3\\lib\\site-packages\\sklearn\\model_selection\\_validation.py:548: FitFailedWarning: Estimator fit failed. The score on this train-test partition for these parameters will be set to nan. Details: \n",
      "Traceback (most recent call last):\n",
      "  File \"C:\\Users\\Mamer Jammer\\anaconda3\\lib\\site-packages\\sklearn\\model_selection\\_validation.py\", line 531, in _fit_and_score\n",
      "    estimator.fit(X_train, y_train, **fit_params)\n",
      "  File \"C:\\Users\\Mamer Jammer\\anaconda3\\lib\\site-packages\\sklearn\\ensemble\\_forest.py\", line 348, in fit\n",
      "    self._validate_estimator()\n",
      "  File \"C:\\Users\\Mamer Jammer\\anaconda3\\lib\\site-packages\\sklearn\\ensemble\\_base.py\", line 134, in _validate_estimator\n",
      "    raise ValueError(\"n_estimators must be greater than zero, \"\n",
      "ValueError: n_estimators must be greater than zero, got 0.\n",
      "\n",
      "  warnings.warn(\"Estimator fit failed. The score on this train-test\"\n",
      "C:\\Users\\Mamer Jammer\\anaconda3\\lib\\site-packages\\sklearn\\model_selection\\_validation.py:548: FitFailedWarning: Estimator fit failed. The score on this train-test partition for these parameters will be set to nan. Details: \n",
      "Traceback (most recent call last):\n",
      "  File \"C:\\Users\\Mamer Jammer\\anaconda3\\lib\\site-packages\\sklearn\\model_selection\\_validation.py\", line 531, in _fit_and_score\n",
      "    estimator.fit(X_train, y_train, **fit_params)\n",
      "  File \"C:\\Users\\Mamer Jammer\\anaconda3\\lib\\site-packages\\sklearn\\ensemble\\_forest.py\", line 348, in fit\n",
      "    self._validate_estimator()\n",
      "  File \"C:\\Users\\Mamer Jammer\\anaconda3\\lib\\site-packages\\sklearn\\ensemble\\_base.py\", line 134, in _validate_estimator\n",
      "    raise ValueError(\"n_estimators must be greater than zero, \"\n",
      "ValueError: n_estimators must be greater than zero, got 0.\n",
      "\n",
      "  warnings.warn(\"Estimator fit failed. The score on this train-test\"\n"
     ]
    },
    {
     "name": "stderr",
     "output_type": "stream",
     "text": [
      "C:\\Users\\Mamer Jammer\\anaconda3\\lib\\site-packages\\sklearn\\model_selection\\_validation.py:548: FitFailedWarning: Estimator fit failed. The score on this train-test partition for these parameters will be set to nan. Details: \n",
      "Traceback (most recent call last):\n",
      "  File \"C:\\Users\\Mamer Jammer\\anaconda3\\lib\\site-packages\\sklearn\\model_selection\\_validation.py\", line 531, in _fit_and_score\n",
      "    estimator.fit(X_train, y_train, **fit_params)\n",
      "  File \"C:\\Users\\Mamer Jammer\\anaconda3\\lib\\site-packages\\sklearn\\ensemble\\_forest.py\", line 348, in fit\n",
      "    self._validate_estimator()\n",
      "  File \"C:\\Users\\Mamer Jammer\\anaconda3\\lib\\site-packages\\sklearn\\ensemble\\_base.py\", line 134, in _validate_estimator\n",
      "    raise ValueError(\"n_estimators must be greater than zero, \"\n",
      "ValueError: n_estimators must be greater than zero, got 0.\n",
      "\n",
      "  warnings.warn(\"Estimator fit failed. The score on this train-test\"\n",
      "C:\\Users\\Mamer Jammer\\anaconda3\\lib\\site-packages\\sklearn\\model_selection\\_validation.py:548: FitFailedWarning: Estimator fit failed. The score on this train-test partition for these parameters will be set to nan. Details: \n",
      "Traceback (most recent call last):\n",
      "  File \"C:\\Users\\Mamer Jammer\\anaconda3\\lib\\site-packages\\sklearn\\model_selection\\_validation.py\", line 531, in _fit_and_score\n",
      "    estimator.fit(X_train, y_train, **fit_params)\n",
      "  File \"C:\\Users\\Mamer Jammer\\anaconda3\\lib\\site-packages\\sklearn\\ensemble\\_forest.py\", line 348, in fit\n",
      "    self._validate_estimator()\n",
      "  File \"C:\\Users\\Mamer Jammer\\anaconda3\\lib\\site-packages\\sklearn\\ensemble\\_base.py\", line 134, in _validate_estimator\n",
      "    raise ValueError(\"n_estimators must be greater than zero, \"\n",
      "ValueError: n_estimators must be greater than zero, got 0.\n",
      "\n",
      "  warnings.warn(\"Estimator fit failed. The score on this train-test\"\n",
      "C:\\Users\\Mamer Jammer\\anaconda3\\lib\\site-packages\\sklearn\\model_selection\\_validation.py:548: FitFailedWarning: Estimator fit failed. The score on this train-test partition for these parameters will be set to nan. Details: \n",
      "Traceback (most recent call last):\n",
      "  File \"C:\\Users\\Mamer Jammer\\anaconda3\\lib\\site-packages\\sklearn\\model_selection\\_validation.py\", line 531, in _fit_and_score\n",
      "    estimator.fit(X_train, y_train, **fit_params)\n",
      "  File \"C:\\Users\\Mamer Jammer\\anaconda3\\lib\\site-packages\\sklearn\\ensemble\\_forest.py\", line 348, in fit\n",
      "    self._validate_estimator()\n",
      "  File \"C:\\Users\\Mamer Jammer\\anaconda3\\lib\\site-packages\\sklearn\\ensemble\\_base.py\", line 134, in _validate_estimator\n",
      "    raise ValueError(\"n_estimators must be greater than zero, \"\n",
      "ValueError: n_estimators must be greater than zero, got 0.\n",
      "\n",
      "  warnings.warn(\"Estimator fit failed. The score on this train-test\"\n",
      "C:\\Users\\Mamer Jammer\\anaconda3\\lib\\site-packages\\sklearn\\model_selection\\_validation.py:548: FitFailedWarning: Estimator fit failed. The score on this train-test partition for these parameters will be set to nan. Details: \n",
      "Traceback (most recent call last):\n",
      "  File \"C:\\Users\\Mamer Jammer\\anaconda3\\lib\\site-packages\\sklearn\\model_selection\\_validation.py\", line 531, in _fit_and_score\n",
      "    estimator.fit(X_train, y_train, **fit_params)\n",
      "  File \"C:\\Users\\Mamer Jammer\\anaconda3\\lib\\site-packages\\sklearn\\ensemble\\_forest.py\", line 348, in fit\n",
      "    self._validate_estimator()\n",
      "  File \"C:\\Users\\Mamer Jammer\\anaconda3\\lib\\site-packages\\sklearn\\ensemble\\_base.py\", line 134, in _validate_estimator\n",
      "    raise ValueError(\"n_estimators must be greater than zero, \"\n",
      "ValueError: n_estimators must be greater than zero, got 0.\n",
      "\n",
      "  warnings.warn(\"Estimator fit failed. The score on this train-test\"\n",
      "C:\\Users\\Mamer Jammer\\anaconda3\\lib\\site-packages\\sklearn\\model_selection\\_validation.py:548: FitFailedWarning: Estimator fit failed. The score on this train-test partition for these parameters will be set to nan. Details: \n",
      "Traceback (most recent call last):\n",
      "  File \"C:\\Users\\Mamer Jammer\\anaconda3\\lib\\site-packages\\sklearn\\model_selection\\_validation.py\", line 531, in _fit_and_score\n",
      "    estimator.fit(X_train, y_train, **fit_params)\n",
      "  File \"C:\\Users\\Mamer Jammer\\anaconda3\\lib\\site-packages\\sklearn\\ensemble\\_forest.py\", line 348, in fit\n",
      "    self._validate_estimator()\n",
      "  File \"C:\\Users\\Mamer Jammer\\anaconda3\\lib\\site-packages\\sklearn\\ensemble\\_base.py\", line 134, in _validate_estimator\n",
      "    raise ValueError(\"n_estimators must be greater than zero, \"\n",
      "ValueError: n_estimators must be greater than zero, got 0.\n",
      "\n",
      "  warnings.warn(\"Estimator fit failed. The score on this train-test\"\n",
      "C:\\Users\\Mamer Jammer\\anaconda3\\lib\\site-packages\\sklearn\\model_selection\\_validation.py:548: FitFailedWarning: Estimator fit failed. The score on this train-test partition for these parameters will be set to nan. Details: \n",
      "Traceback (most recent call last):\n",
      "  File \"C:\\Users\\Mamer Jammer\\anaconda3\\lib\\site-packages\\sklearn\\model_selection\\_validation.py\", line 531, in _fit_and_score\n",
      "    estimator.fit(X_train, y_train, **fit_params)\n",
      "  File \"C:\\Users\\Mamer Jammer\\anaconda3\\lib\\site-packages\\sklearn\\ensemble\\_forest.py\", line 348, in fit\n",
      "    self._validate_estimator()\n",
      "  File \"C:\\Users\\Mamer Jammer\\anaconda3\\lib\\site-packages\\sklearn\\ensemble\\_base.py\", line 134, in _validate_estimator\n",
      "    raise ValueError(\"n_estimators must be greater than zero, \"\n",
      "ValueError: n_estimators must be greater than zero, got 0.\n",
      "\n",
      "  warnings.warn(\"Estimator fit failed. The score on this train-test\"\n",
      "C:\\Users\\Mamer Jammer\\anaconda3\\lib\\site-packages\\sklearn\\model_selection\\_validation.py:548: FitFailedWarning: Estimator fit failed. The score on this train-test partition for these parameters will be set to nan. Details: \n",
      "Traceback (most recent call last):\n",
      "  File \"C:\\Users\\Mamer Jammer\\anaconda3\\lib\\site-packages\\sklearn\\model_selection\\_validation.py\", line 531, in _fit_and_score\n",
      "    estimator.fit(X_train, y_train, **fit_params)\n",
      "  File \"C:\\Users\\Mamer Jammer\\anaconda3\\lib\\site-packages\\sklearn\\ensemble\\_forest.py\", line 348, in fit\n",
      "    self._validate_estimator()\n",
      "  File \"C:\\Users\\Mamer Jammer\\anaconda3\\lib\\site-packages\\sklearn\\ensemble\\_base.py\", line 134, in _validate_estimator\n",
      "    raise ValueError(\"n_estimators must be greater than zero, \"\n",
      "ValueError: n_estimators must be greater than zero, got 0.\n",
      "\n",
      "  warnings.warn(\"Estimator fit failed. The score on this train-test\"\n",
      "C:\\Users\\Mamer Jammer\\anaconda3\\lib\\site-packages\\sklearn\\model_selection\\_validation.py:548: FitFailedWarning: Estimator fit failed. The score on this train-test partition for these parameters will be set to nan. Details: \n",
      "Traceback (most recent call last):\n",
      "  File \"C:\\Users\\Mamer Jammer\\anaconda3\\lib\\site-packages\\sklearn\\model_selection\\_validation.py\", line 531, in _fit_and_score\n",
      "    estimator.fit(X_train, y_train, **fit_params)\n",
      "  File \"C:\\Users\\Mamer Jammer\\anaconda3\\lib\\site-packages\\sklearn\\ensemble\\_forest.py\", line 348, in fit\n",
      "    self._validate_estimator()\n",
      "  File \"C:\\Users\\Mamer Jammer\\anaconda3\\lib\\site-packages\\sklearn\\ensemble\\_base.py\", line 134, in _validate_estimator\n",
      "    raise ValueError(\"n_estimators must be greater than zero, \"\n",
      "ValueError: n_estimators must be greater than zero, got 0.\n",
      "\n",
      "  warnings.warn(\"Estimator fit failed. The score on this train-test\"\n",
      "C:\\Users\\Mamer Jammer\\anaconda3\\lib\\site-packages\\sklearn\\model_selection\\_validation.py:548: FitFailedWarning: Estimator fit failed. The score on this train-test partition for these parameters will be set to nan. Details: \n",
      "Traceback (most recent call last):\n",
      "  File \"C:\\Users\\Mamer Jammer\\anaconda3\\lib\\site-packages\\sklearn\\model_selection\\_validation.py\", line 531, in _fit_and_score\n",
      "    estimator.fit(X_train, y_train, **fit_params)\n",
      "  File \"C:\\Users\\Mamer Jammer\\anaconda3\\lib\\site-packages\\sklearn\\ensemble\\_forest.py\", line 348, in fit\n",
      "    self._validate_estimator()\n",
      "  File \"C:\\Users\\Mamer Jammer\\anaconda3\\lib\\site-packages\\sklearn\\ensemble\\_base.py\", line 134, in _validate_estimator\n",
      "    raise ValueError(\"n_estimators must be greater than zero, \"\n",
      "ValueError: n_estimators must be greater than zero, got 0.\n",
      "\n",
      "  warnings.warn(\"Estimator fit failed. The score on this train-test\"\n",
      "C:\\Users\\Mamer Jammer\\anaconda3\\lib\\site-packages\\sklearn\\model_selection\\_validation.py:548: FitFailedWarning: Estimator fit failed. The score on this train-test partition for these parameters will be set to nan. Details: \n",
      "Traceback (most recent call last):\n",
      "  File \"C:\\Users\\Mamer Jammer\\anaconda3\\lib\\site-packages\\sklearn\\model_selection\\_validation.py\", line 531, in _fit_and_score\n",
      "    estimator.fit(X_train, y_train, **fit_params)\n",
      "  File \"C:\\Users\\Mamer Jammer\\anaconda3\\lib\\site-packages\\sklearn\\ensemble\\_forest.py\", line 348, in fit\n",
      "    self._validate_estimator()\n",
      "  File \"C:\\Users\\Mamer Jammer\\anaconda3\\lib\\site-packages\\sklearn\\ensemble\\_base.py\", line 134, in _validate_estimator\n",
      "    raise ValueError(\"n_estimators must be greater than zero, \"\n",
      "ValueError: n_estimators must be greater than zero, got 0.\n",
      "\n",
      "  warnings.warn(\"Estimator fit failed. The score on this train-test\"\n"
     ]
    },
    {
     "name": "stderr",
     "output_type": "stream",
     "text": [
      "C:\\Users\\Mamer Jammer\\anaconda3\\lib\\site-packages\\sklearn\\model_selection\\_validation.py:548: FitFailedWarning: Estimator fit failed. The score on this train-test partition for these parameters will be set to nan. Details: \n",
      "Traceback (most recent call last):\n",
      "  File \"C:\\Users\\Mamer Jammer\\anaconda3\\lib\\site-packages\\sklearn\\model_selection\\_validation.py\", line 531, in _fit_and_score\n",
      "    estimator.fit(X_train, y_train, **fit_params)\n",
      "  File \"C:\\Users\\Mamer Jammer\\anaconda3\\lib\\site-packages\\sklearn\\ensemble\\_forest.py\", line 348, in fit\n",
      "    self._validate_estimator()\n",
      "  File \"C:\\Users\\Mamer Jammer\\anaconda3\\lib\\site-packages\\sklearn\\ensemble\\_base.py\", line 134, in _validate_estimator\n",
      "    raise ValueError(\"n_estimators must be greater than zero, \"\n",
      "ValueError: n_estimators must be greater than zero, got 0.\n",
      "\n",
      "  warnings.warn(\"Estimator fit failed. The score on this train-test\"\n",
      "C:\\Users\\Mamer Jammer\\anaconda3\\lib\\site-packages\\sklearn\\model_selection\\_validation.py:548: FitFailedWarning: Estimator fit failed. The score on this train-test partition for these parameters will be set to nan. Details: \n",
      "Traceback (most recent call last):\n",
      "  File \"C:\\Users\\Mamer Jammer\\anaconda3\\lib\\site-packages\\sklearn\\model_selection\\_validation.py\", line 531, in _fit_and_score\n",
      "    estimator.fit(X_train, y_train, **fit_params)\n",
      "  File \"C:\\Users\\Mamer Jammer\\anaconda3\\lib\\site-packages\\sklearn\\ensemble\\_forest.py\", line 348, in fit\n",
      "    self._validate_estimator()\n",
      "  File \"C:\\Users\\Mamer Jammer\\anaconda3\\lib\\site-packages\\sklearn\\ensemble\\_base.py\", line 134, in _validate_estimator\n",
      "    raise ValueError(\"n_estimators must be greater than zero, \"\n",
      "ValueError: n_estimators must be greater than zero, got 0.\n",
      "\n",
      "  warnings.warn(\"Estimator fit failed. The score on this train-test\"\n",
      "C:\\Users\\Mamer Jammer\\anaconda3\\lib\\site-packages\\sklearn\\model_selection\\_validation.py:548: FitFailedWarning: Estimator fit failed. The score on this train-test partition for these parameters will be set to nan. Details: \n",
      "Traceback (most recent call last):\n",
      "  File \"C:\\Users\\Mamer Jammer\\anaconda3\\lib\\site-packages\\sklearn\\model_selection\\_validation.py\", line 531, in _fit_and_score\n",
      "    estimator.fit(X_train, y_train, **fit_params)\n",
      "  File \"C:\\Users\\Mamer Jammer\\anaconda3\\lib\\site-packages\\sklearn\\ensemble\\_forest.py\", line 348, in fit\n",
      "    self._validate_estimator()\n",
      "  File \"C:\\Users\\Mamer Jammer\\anaconda3\\lib\\site-packages\\sklearn\\ensemble\\_base.py\", line 134, in _validate_estimator\n",
      "    raise ValueError(\"n_estimators must be greater than zero, \"\n",
      "ValueError: n_estimators must be greater than zero, got 0.\n",
      "\n",
      "  warnings.warn(\"Estimator fit failed. The score on this train-test\"\n",
      "C:\\Users\\Mamer Jammer\\anaconda3\\lib\\site-packages\\sklearn\\model_selection\\_validation.py:548: FitFailedWarning: Estimator fit failed. The score on this train-test partition for these parameters will be set to nan. Details: \n",
      "Traceback (most recent call last):\n",
      "  File \"C:\\Users\\Mamer Jammer\\anaconda3\\lib\\site-packages\\sklearn\\model_selection\\_validation.py\", line 531, in _fit_and_score\n",
      "    estimator.fit(X_train, y_train, **fit_params)\n",
      "  File \"C:\\Users\\Mamer Jammer\\anaconda3\\lib\\site-packages\\sklearn\\ensemble\\_forest.py\", line 348, in fit\n",
      "    self._validate_estimator()\n",
      "  File \"C:\\Users\\Mamer Jammer\\anaconda3\\lib\\site-packages\\sklearn\\ensemble\\_base.py\", line 134, in _validate_estimator\n",
      "    raise ValueError(\"n_estimators must be greater than zero, \"\n",
      "ValueError: n_estimators must be greater than zero, got 0.\n",
      "\n",
      "  warnings.warn(\"Estimator fit failed. The score on this train-test\"\n",
      "C:\\Users\\Mamer Jammer\\anaconda3\\lib\\site-packages\\sklearn\\model_selection\\_validation.py:548: FitFailedWarning: Estimator fit failed. The score on this train-test partition for these parameters will be set to nan. Details: \n",
      "Traceback (most recent call last):\n",
      "  File \"C:\\Users\\Mamer Jammer\\anaconda3\\lib\\site-packages\\sklearn\\model_selection\\_validation.py\", line 531, in _fit_and_score\n",
      "    estimator.fit(X_train, y_train, **fit_params)\n",
      "  File \"C:\\Users\\Mamer Jammer\\anaconda3\\lib\\site-packages\\sklearn\\ensemble\\_forest.py\", line 348, in fit\n",
      "    self._validate_estimator()\n",
      "  File \"C:\\Users\\Mamer Jammer\\anaconda3\\lib\\site-packages\\sklearn\\ensemble\\_base.py\", line 134, in _validate_estimator\n",
      "    raise ValueError(\"n_estimators must be greater than zero, \"\n",
      "ValueError: n_estimators must be greater than zero, got 0.\n",
      "\n",
      "  warnings.warn(\"Estimator fit failed. The score on this train-test\"\n",
      "C:\\Users\\Mamer Jammer\\anaconda3\\lib\\site-packages\\sklearn\\model_selection\\_validation.py:548: FitFailedWarning: Estimator fit failed. The score on this train-test partition for these parameters will be set to nan. Details: \n",
      "Traceback (most recent call last):\n",
      "  File \"C:\\Users\\Mamer Jammer\\anaconda3\\lib\\site-packages\\sklearn\\model_selection\\_validation.py\", line 531, in _fit_and_score\n",
      "    estimator.fit(X_train, y_train, **fit_params)\n",
      "  File \"C:\\Users\\Mamer Jammer\\anaconda3\\lib\\site-packages\\sklearn\\ensemble\\_forest.py\", line 348, in fit\n",
      "    self._validate_estimator()\n",
      "  File \"C:\\Users\\Mamer Jammer\\anaconda3\\lib\\site-packages\\sklearn\\ensemble\\_base.py\", line 134, in _validate_estimator\n",
      "    raise ValueError(\"n_estimators must be greater than zero, \"\n",
      "ValueError: n_estimators must be greater than zero, got 0.\n",
      "\n",
      "  warnings.warn(\"Estimator fit failed. The score on this train-test\"\n",
      "C:\\Users\\Mamer Jammer\\anaconda3\\lib\\site-packages\\sklearn\\model_selection\\_validation.py:548: FitFailedWarning: Estimator fit failed. The score on this train-test partition for these parameters will be set to nan. Details: \n",
      "Traceback (most recent call last):\n",
      "  File \"C:\\Users\\Mamer Jammer\\anaconda3\\lib\\site-packages\\sklearn\\model_selection\\_validation.py\", line 531, in _fit_and_score\n",
      "    estimator.fit(X_train, y_train, **fit_params)\n",
      "  File \"C:\\Users\\Mamer Jammer\\anaconda3\\lib\\site-packages\\sklearn\\ensemble\\_forest.py\", line 348, in fit\n",
      "    self._validate_estimator()\n",
      "  File \"C:\\Users\\Mamer Jammer\\anaconda3\\lib\\site-packages\\sklearn\\ensemble\\_base.py\", line 134, in _validate_estimator\n",
      "    raise ValueError(\"n_estimators must be greater than zero, \"\n",
      "ValueError: n_estimators must be greater than zero, got 0.\n",
      "\n",
      "  warnings.warn(\"Estimator fit failed. The score on this train-test\"\n",
      "C:\\Users\\Mamer Jammer\\anaconda3\\lib\\site-packages\\sklearn\\model_selection\\_validation.py:548: FitFailedWarning: Estimator fit failed. The score on this train-test partition for these parameters will be set to nan. Details: \n",
      "Traceback (most recent call last):\n",
      "  File \"C:\\Users\\Mamer Jammer\\anaconda3\\lib\\site-packages\\sklearn\\model_selection\\_validation.py\", line 531, in _fit_and_score\n",
      "    estimator.fit(X_train, y_train, **fit_params)\n",
      "  File \"C:\\Users\\Mamer Jammer\\anaconda3\\lib\\site-packages\\sklearn\\ensemble\\_forest.py\", line 348, in fit\n",
      "    self._validate_estimator()\n",
      "  File \"C:\\Users\\Mamer Jammer\\anaconda3\\lib\\site-packages\\sklearn\\ensemble\\_base.py\", line 134, in _validate_estimator\n",
      "    raise ValueError(\"n_estimators must be greater than zero, \"\n",
      "ValueError: n_estimators must be greater than zero, got 0.\n",
      "\n",
      "  warnings.warn(\"Estimator fit failed. The score on this train-test\"\n",
      "C:\\Users\\Mamer Jammer\\anaconda3\\lib\\site-packages\\sklearn\\model_selection\\_validation.py:548: FitFailedWarning: Estimator fit failed. The score on this train-test partition for these parameters will be set to nan. Details: \n",
      "Traceback (most recent call last):\n",
      "  File \"C:\\Users\\Mamer Jammer\\anaconda3\\lib\\site-packages\\sklearn\\model_selection\\_validation.py\", line 531, in _fit_and_score\n",
      "    estimator.fit(X_train, y_train, **fit_params)\n",
      "  File \"C:\\Users\\Mamer Jammer\\anaconda3\\lib\\site-packages\\sklearn\\ensemble\\_forest.py\", line 348, in fit\n",
      "    self._validate_estimator()\n",
      "  File \"C:\\Users\\Mamer Jammer\\anaconda3\\lib\\site-packages\\sklearn\\ensemble\\_base.py\", line 134, in _validate_estimator\n",
      "    raise ValueError(\"n_estimators must be greater than zero, \"\n",
      "ValueError: n_estimators must be greater than zero, got 0.\n",
      "\n",
      "  warnings.warn(\"Estimator fit failed. The score on this train-test\"\n",
      "C:\\Users\\Mamer Jammer\\anaconda3\\lib\\site-packages\\sklearn\\model_selection\\_validation.py:548: FitFailedWarning: Estimator fit failed. The score on this train-test partition for these parameters will be set to nan. Details: \n",
      "Traceback (most recent call last):\n",
      "  File \"C:\\Users\\Mamer Jammer\\anaconda3\\lib\\site-packages\\sklearn\\model_selection\\_validation.py\", line 531, in _fit_and_score\n",
      "    estimator.fit(X_train, y_train, **fit_params)\n",
      "  File \"C:\\Users\\Mamer Jammer\\anaconda3\\lib\\site-packages\\sklearn\\ensemble\\_forest.py\", line 348, in fit\n",
      "    self._validate_estimator()\n",
      "  File \"C:\\Users\\Mamer Jammer\\anaconda3\\lib\\site-packages\\sklearn\\ensemble\\_base.py\", line 134, in _validate_estimator\n",
      "    raise ValueError(\"n_estimators must be greater than zero, \"\n",
      "ValueError: n_estimators must be greater than zero, got 0.\n",
      "\n",
      "  warnings.warn(\"Estimator fit failed. The score on this train-test\"\n"
     ]
    },
    {
     "name": "stderr",
     "output_type": "stream",
     "text": [
      "C:\\Users\\Mamer Jammer\\anaconda3\\lib\\site-packages\\sklearn\\model_selection\\_validation.py:548: FitFailedWarning: Estimator fit failed. The score on this train-test partition for these parameters will be set to nan. Details: \n",
      "Traceback (most recent call last):\n",
      "  File \"C:\\Users\\Mamer Jammer\\anaconda3\\lib\\site-packages\\sklearn\\model_selection\\_validation.py\", line 531, in _fit_and_score\n",
      "    estimator.fit(X_train, y_train, **fit_params)\n",
      "  File \"C:\\Users\\Mamer Jammer\\anaconda3\\lib\\site-packages\\sklearn\\ensemble\\_forest.py\", line 348, in fit\n",
      "    self._validate_estimator()\n",
      "  File \"C:\\Users\\Mamer Jammer\\anaconda3\\lib\\site-packages\\sklearn\\ensemble\\_base.py\", line 134, in _validate_estimator\n",
      "    raise ValueError(\"n_estimators must be greater than zero, \"\n",
      "ValueError: n_estimators must be greater than zero, got 0.\n",
      "\n",
      "  warnings.warn(\"Estimator fit failed. The score on this train-test\"\n",
      "C:\\Users\\Mamer Jammer\\anaconda3\\lib\\site-packages\\sklearn\\model_selection\\_validation.py:548: FitFailedWarning: Estimator fit failed. The score on this train-test partition for these parameters will be set to nan. Details: \n",
      "Traceback (most recent call last):\n",
      "  File \"C:\\Users\\Mamer Jammer\\anaconda3\\lib\\site-packages\\sklearn\\model_selection\\_validation.py\", line 531, in _fit_and_score\n",
      "    estimator.fit(X_train, y_train, **fit_params)\n",
      "  File \"C:\\Users\\Mamer Jammer\\anaconda3\\lib\\site-packages\\sklearn\\ensemble\\_forest.py\", line 348, in fit\n",
      "    self._validate_estimator()\n",
      "  File \"C:\\Users\\Mamer Jammer\\anaconda3\\lib\\site-packages\\sklearn\\ensemble\\_base.py\", line 134, in _validate_estimator\n",
      "    raise ValueError(\"n_estimators must be greater than zero, \"\n",
      "ValueError: n_estimators must be greater than zero, got 0.\n",
      "\n",
      "  warnings.warn(\"Estimator fit failed. The score on this train-test\"\n",
      "C:\\Users\\Mamer Jammer\\anaconda3\\lib\\site-packages\\sklearn\\model_selection\\_validation.py:548: FitFailedWarning: Estimator fit failed. The score on this train-test partition for these parameters will be set to nan. Details: \n",
      "Traceback (most recent call last):\n",
      "  File \"C:\\Users\\Mamer Jammer\\anaconda3\\lib\\site-packages\\sklearn\\model_selection\\_validation.py\", line 531, in _fit_and_score\n",
      "    estimator.fit(X_train, y_train, **fit_params)\n",
      "  File \"C:\\Users\\Mamer Jammer\\anaconda3\\lib\\site-packages\\sklearn\\ensemble\\_forest.py\", line 348, in fit\n",
      "    self._validate_estimator()\n",
      "  File \"C:\\Users\\Mamer Jammer\\anaconda3\\lib\\site-packages\\sklearn\\ensemble\\_base.py\", line 134, in _validate_estimator\n",
      "    raise ValueError(\"n_estimators must be greater than zero, \"\n",
      "ValueError: n_estimators must be greater than zero, got 0.\n",
      "\n",
      "  warnings.warn(\"Estimator fit failed. The score on this train-test\"\n",
      "C:\\Users\\Mamer Jammer\\anaconda3\\lib\\site-packages\\sklearn\\model_selection\\_validation.py:548: FitFailedWarning: Estimator fit failed. The score on this train-test partition for these parameters will be set to nan. Details: \n",
      "Traceback (most recent call last):\n",
      "  File \"C:\\Users\\Mamer Jammer\\anaconda3\\lib\\site-packages\\sklearn\\model_selection\\_validation.py\", line 531, in _fit_and_score\n",
      "    estimator.fit(X_train, y_train, **fit_params)\n",
      "  File \"C:\\Users\\Mamer Jammer\\anaconda3\\lib\\site-packages\\sklearn\\ensemble\\_forest.py\", line 348, in fit\n",
      "    self._validate_estimator()\n",
      "  File \"C:\\Users\\Mamer Jammer\\anaconda3\\lib\\site-packages\\sklearn\\ensemble\\_base.py\", line 134, in _validate_estimator\n",
      "    raise ValueError(\"n_estimators must be greater than zero, \"\n",
      "ValueError: n_estimators must be greater than zero, got 0.\n",
      "\n",
      "  warnings.warn(\"Estimator fit failed. The score on this train-test\"\n",
      "C:\\Users\\Mamer Jammer\\anaconda3\\lib\\site-packages\\sklearn\\model_selection\\_validation.py:548: FitFailedWarning: Estimator fit failed. The score on this train-test partition for these parameters will be set to nan. Details: \n",
      "Traceback (most recent call last):\n",
      "  File \"C:\\Users\\Mamer Jammer\\anaconda3\\lib\\site-packages\\sklearn\\model_selection\\_validation.py\", line 531, in _fit_and_score\n",
      "    estimator.fit(X_train, y_train, **fit_params)\n",
      "  File \"C:\\Users\\Mamer Jammer\\anaconda3\\lib\\site-packages\\sklearn\\ensemble\\_forest.py\", line 348, in fit\n",
      "    self._validate_estimator()\n",
      "  File \"C:\\Users\\Mamer Jammer\\anaconda3\\lib\\site-packages\\sklearn\\ensemble\\_base.py\", line 134, in _validate_estimator\n",
      "    raise ValueError(\"n_estimators must be greater than zero, \"\n",
      "ValueError: n_estimators must be greater than zero, got 0.\n",
      "\n",
      "  warnings.warn(\"Estimator fit failed. The score on this train-test\"\n",
      "C:\\Users\\Mamer Jammer\\anaconda3\\lib\\site-packages\\sklearn\\model_selection\\_validation.py:548: FitFailedWarning: Estimator fit failed. The score on this train-test partition for these parameters will be set to nan. Details: \n",
      "Traceback (most recent call last):\n",
      "  File \"C:\\Users\\Mamer Jammer\\anaconda3\\lib\\site-packages\\sklearn\\model_selection\\_validation.py\", line 531, in _fit_and_score\n",
      "    estimator.fit(X_train, y_train, **fit_params)\n",
      "  File \"C:\\Users\\Mamer Jammer\\anaconda3\\lib\\site-packages\\sklearn\\ensemble\\_forest.py\", line 348, in fit\n",
      "    self._validate_estimator()\n",
      "  File \"C:\\Users\\Mamer Jammer\\anaconda3\\lib\\site-packages\\sklearn\\ensemble\\_base.py\", line 134, in _validate_estimator\n",
      "    raise ValueError(\"n_estimators must be greater than zero, \"\n",
      "ValueError: n_estimators must be greater than zero, got 0.\n",
      "\n",
      "  warnings.warn(\"Estimator fit failed. The score on this train-test\"\n",
      "C:\\Users\\Mamer Jammer\\anaconda3\\lib\\site-packages\\sklearn\\model_selection\\_validation.py:548: FitFailedWarning: Estimator fit failed. The score on this train-test partition for these parameters will be set to nan. Details: \n",
      "Traceback (most recent call last):\n",
      "  File \"C:\\Users\\Mamer Jammer\\anaconda3\\lib\\site-packages\\sklearn\\model_selection\\_validation.py\", line 531, in _fit_and_score\n",
      "    estimator.fit(X_train, y_train, **fit_params)\n",
      "  File \"C:\\Users\\Mamer Jammer\\anaconda3\\lib\\site-packages\\sklearn\\ensemble\\_forest.py\", line 348, in fit\n",
      "    self._validate_estimator()\n",
      "  File \"C:\\Users\\Mamer Jammer\\anaconda3\\lib\\site-packages\\sklearn\\ensemble\\_base.py\", line 134, in _validate_estimator\n",
      "    raise ValueError(\"n_estimators must be greater than zero, \"\n",
      "ValueError: n_estimators must be greater than zero, got 0.\n",
      "\n",
      "  warnings.warn(\"Estimator fit failed. The score on this train-test\"\n",
      "C:\\Users\\Mamer Jammer\\anaconda3\\lib\\site-packages\\sklearn\\model_selection\\_validation.py:548: FitFailedWarning: Estimator fit failed. The score on this train-test partition for these parameters will be set to nan. Details: \n",
      "Traceback (most recent call last):\n",
      "  File \"C:\\Users\\Mamer Jammer\\anaconda3\\lib\\site-packages\\sklearn\\model_selection\\_validation.py\", line 531, in _fit_and_score\n",
      "    estimator.fit(X_train, y_train, **fit_params)\n",
      "  File \"C:\\Users\\Mamer Jammer\\anaconda3\\lib\\site-packages\\sklearn\\ensemble\\_forest.py\", line 348, in fit\n",
      "    self._validate_estimator()\n",
      "  File \"C:\\Users\\Mamer Jammer\\anaconda3\\lib\\site-packages\\sklearn\\ensemble\\_base.py\", line 134, in _validate_estimator\n",
      "    raise ValueError(\"n_estimators must be greater than zero, \"\n",
      "ValueError: n_estimators must be greater than zero, got 0.\n",
      "\n",
      "  warnings.warn(\"Estimator fit failed. The score on this train-test\"\n",
      "C:\\Users\\Mamer Jammer\\anaconda3\\lib\\site-packages\\sklearn\\model_selection\\_validation.py:548: FitFailedWarning: Estimator fit failed. The score on this train-test partition for these parameters will be set to nan. Details: \n",
      "Traceback (most recent call last):\n",
      "  File \"C:\\Users\\Mamer Jammer\\anaconda3\\lib\\site-packages\\sklearn\\model_selection\\_validation.py\", line 531, in _fit_and_score\n",
      "    estimator.fit(X_train, y_train, **fit_params)\n",
      "  File \"C:\\Users\\Mamer Jammer\\anaconda3\\lib\\site-packages\\sklearn\\ensemble\\_forest.py\", line 348, in fit\n",
      "    self._validate_estimator()\n",
      "  File \"C:\\Users\\Mamer Jammer\\anaconda3\\lib\\site-packages\\sklearn\\ensemble\\_base.py\", line 134, in _validate_estimator\n",
      "    raise ValueError(\"n_estimators must be greater than zero, \"\n",
      "ValueError: n_estimators must be greater than zero, got 0.\n",
      "\n",
      "  warnings.warn(\"Estimator fit failed. The score on this train-test\"\n",
      "C:\\Users\\Mamer Jammer\\anaconda3\\lib\\site-packages\\sklearn\\model_selection\\_validation.py:548: FitFailedWarning: Estimator fit failed. The score on this train-test partition for these parameters will be set to nan. Details: \n",
      "Traceback (most recent call last):\n",
      "  File \"C:\\Users\\Mamer Jammer\\anaconda3\\lib\\site-packages\\sklearn\\model_selection\\_validation.py\", line 531, in _fit_and_score\n",
      "    estimator.fit(X_train, y_train, **fit_params)\n",
      "  File \"C:\\Users\\Mamer Jammer\\anaconda3\\lib\\site-packages\\sklearn\\ensemble\\_forest.py\", line 348, in fit\n",
      "    self._validate_estimator()\n",
      "  File \"C:\\Users\\Mamer Jammer\\anaconda3\\lib\\site-packages\\sklearn\\ensemble\\_base.py\", line 134, in _validate_estimator\n",
      "    raise ValueError(\"n_estimators must be greater than zero, \"\n",
      "ValueError: n_estimators must be greater than zero, got 0.\n",
      "\n",
      "  warnings.warn(\"Estimator fit failed. The score on this train-test\"\n"
     ]
    },
    {
     "name": "stderr",
     "output_type": "stream",
     "text": [
      "C:\\Users\\Mamer Jammer\\anaconda3\\lib\\site-packages\\sklearn\\model_selection\\_validation.py:548: FitFailedWarning: Estimator fit failed. The score on this train-test partition for these parameters will be set to nan. Details: \n",
      "Traceback (most recent call last):\n",
      "  File \"C:\\Users\\Mamer Jammer\\anaconda3\\lib\\site-packages\\sklearn\\model_selection\\_validation.py\", line 531, in _fit_and_score\n",
      "    estimator.fit(X_train, y_train, **fit_params)\n",
      "  File \"C:\\Users\\Mamer Jammer\\anaconda3\\lib\\site-packages\\sklearn\\ensemble\\_forest.py\", line 348, in fit\n",
      "    self._validate_estimator()\n",
      "  File \"C:\\Users\\Mamer Jammer\\anaconda3\\lib\\site-packages\\sklearn\\ensemble\\_base.py\", line 134, in _validate_estimator\n",
      "    raise ValueError(\"n_estimators must be greater than zero, \"\n",
      "ValueError: n_estimators must be greater than zero, got 0.\n",
      "\n",
      "  warnings.warn(\"Estimator fit failed. The score on this train-test\"\n",
      "C:\\Users\\Mamer Jammer\\anaconda3\\lib\\site-packages\\sklearn\\model_selection\\_validation.py:548: FitFailedWarning: Estimator fit failed. The score on this train-test partition for these parameters will be set to nan. Details: \n",
      "Traceback (most recent call last):\n",
      "  File \"C:\\Users\\Mamer Jammer\\anaconda3\\lib\\site-packages\\sklearn\\model_selection\\_validation.py\", line 531, in _fit_and_score\n",
      "    estimator.fit(X_train, y_train, **fit_params)\n",
      "  File \"C:\\Users\\Mamer Jammer\\anaconda3\\lib\\site-packages\\sklearn\\ensemble\\_forest.py\", line 348, in fit\n",
      "    self._validate_estimator()\n",
      "  File \"C:\\Users\\Mamer Jammer\\anaconda3\\lib\\site-packages\\sklearn\\ensemble\\_base.py\", line 134, in _validate_estimator\n",
      "    raise ValueError(\"n_estimators must be greater than zero, \"\n",
      "ValueError: n_estimators must be greater than zero, got 0.\n",
      "\n",
      "  warnings.warn(\"Estimator fit failed. The score on this train-test\"\n",
      "C:\\Users\\Mamer Jammer\\anaconda3\\lib\\site-packages\\sklearn\\model_selection\\_validation.py:548: FitFailedWarning: Estimator fit failed. The score on this train-test partition for these parameters will be set to nan. Details: \n",
      "Traceback (most recent call last):\n",
      "  File \"C:\\Users\\Mamer Jammer\\anaconda3\\lib\\site-packages\\sklearn\\model_selection\\_validation.py\", line 531, in _fit_and_score\n",
      "    estimator.fit(X_train, y_train, **fit_params)\n",
      "  File \"C:\\Users\\Mamer Jammer\\anaconda3\\lib\\site-packages\\sklearn\\ensemble\\_forest.py\", line 348, in fit\n",
      "    self._validate_estimator()\n",
      "  File \"C:\\Users\\Mamer Jammer\\anaconda3\\lib\\site-packages\\sklearn\\ensemble\\_base.py\", line 134, in _validate_estimator\n",
      "    raise ValueError(\"n_estimators must be greater than zero, \"\n",
      "ValueError: n_estimators must be greater than zero, got 0.\n",
      "\n",
      "  warnings.warn(\"Estimator fit failed. The score on this train-test\"\n",
      "C:\\Users\\Mamer Jammer\\anaconda3\\lib\\site-packages\\sklearn\\model_selection\\_validation.py:548: FitFailedWarning: Estimator fit failed. The score on this train-test partition for these parameters will be set to nan. Details: \n",
      "Traceback (most recent call last):\n",
      "  File \"C:\\Users\\Mamer Jammer\\anaconda3\\lib\\site-packages\\sklearn\\model_selection\\_validation.py\", line 531, in _fit_and_score\n",
      "    estimator.fit(X_train, y_train, **fit_params)\n",
      "  File \"C:\\Users\\Mamer Jammer\\anaconda3\\lib\\site-packages\\sklearn\\ensemble\\_forest.py\", line 348, in fit\n",
      "    self._validate_estimator()\n",
      "  File \"C:\\Users\\Mamer Jammer\\anaconda3\\lib\\site-packages\\sklearn\\ensemble\\_base.py\", line 134, in _validate_estimator\n",
      "    raise ValueError(\"n_estimators must be greater than zero, \"\n",
      "ValueError: n_estimators must be greater than zero, got 0.\n",
      "\n",
      "  warnings.warn(\"Estimator fit failed. The score on this train-test\"\n",
      "C:\\Users\\Mamer Jammer\\anaconda3\\lib\\site-packages\\sklearn\\model_selection\\_validation.py:548: FitFailedWarning: Estimator fit failed. The score on this train-test partition for these parameters will be set to nan. Details: \n",
      "Traceback (most recent call last):\n",
      "  File \"C:\\Users\\Mamer Jammer\\anaconda3\\lib\\site-packages\\sklearn\\model_selection\\_validation.py\", line 531, in _fit_and_score\n",
      "    estimator.fit(X_train, y_train, **fit_params)\n",
      "  File \"C:\\Users\\Mamer Jammer\\anaconda3\\lib\\site-packages\\sklearn\\ensemble\\_forest.py\", line 348, in fit\n",
      "    self._validate_estimator()\n",
      "  File \"C:\\Users\\Mamer Jammer\\anaconda3\\lib\\site-packages\\sklearn\\ensemble\\_base.py\", line 134, in _validate_estimator\n",
      "    raise ValueError(\"n_estimators must be greater than zero, \"\n",
      "ValueError: n_estimators must be greater than zero, got 0.\n",
      "\n",
      "  warnings.warn(\"Estimator fit failed. The score on this train-test\"\n",
      "C:\\Users\\Mamer Jammer\\anaconda3\\lib\\site-packages\\sklearn\\model_selection\\_validation.py:548: FitFailedWarning: Estimator fit failed. The score on this train-test partition for these parameters will be set to nan. Details: \n",
      "Traceback (most recent call last):\n",
      "  File \"C:\\Users\\Mamer Jammer\\anaconda3\\lib\\site-packages\\sklearn\\model_selection\\_validation.py\", line 531, in _fit_and_score\n",
      "    estimator.fit(X_train, y_train, **fit_params)\n",
      "  File \"C:\\Users\\Mamer Jammer\\anaconda3\\lib\\site-packages\\sklearn\\ensemble\\_forest.py\", line 348, in fit\n",
      "    self._validate_estimator()\n",
      "  File \"C:\\Users\\Mamer Jammer\\anaconda3\\lib\\site-packages\\sklearn\\ensemble\\_base.py\", line 134, in _validate_estimator\n",
      "    raise ValueError(\"n_estimators must be greater than zero, \"\n",
      "ValueError: n_estimators must be greater than zero, got 0.\n",
      "\n",
      "  warnings.warn(\"Estimator fit failed. The score on this train-test\"\n",
      "C:\\Users\\Mamer Jammer\\anaconda3\\lib\\site-packages\\sklearn\\model_selection\\_validation.py:548: FitFailedWarning: Estimator fit failed. The score on this train-test partition for these parameters will be set to nan. Details: \n",
      "Traceback (most recent call last):\n",
      "  File \"C:\\Users\\Mamer Jammer\\anaconda3\\lib\\site-packages\\sklearn\\model_selection\\_validation.py\", line 531, in _fit_and_score\n",
      "    estimator.fit(X_train, y_train, **fit_params)\n",
      "  File \"C:\\Users\\Mamer Jammer\\anaconda3\\lib\\site-packages\\sklearn\\ensemble\\_forest.py\", line 348, in fit\n",
      "    self._validate_estimator()\n",
      "  File \"C:\\Users\\Mamer Jammer\\anaconda3\\lib\\site-packages\\sklearn\\ensemble\\_base.py\", line 134, in _validate_estimator\n",
      "    raise ValueError(\"n_estimators must be greater than zero, \"\n",
      "ValueError: n_estimators must be greater than zero, got 0.\n",
      "\n",
      "  warnings.warn(\"Estimator fit failed. The score on this train-test\"\n",
      "C:\\Users\\Mamer Jammer\\anaconda3\\lib\\site-packages\\sklearn\\model_selection\\_validation.py:548: FitFailedWarning: Estimator fit failed. The score on this train-test partition for these parameters will be set to nan. Details: \n",
      "Traceback (most recent call last):\n",
      "  File \"C:\\Users\\Mamer Jammer\\anaconda3\\lib\\site-packages\\sklearn\\model_selection\\_validation.py\", line 531, in _fit_and_score\n",
      "    estimator.fit(X_train, y_train, **fit_params)\n",
      "  File \"C:\\Users\\Mamer Jammer\\anaconda3\\lib\\site-packages\\sklearn\\ensemble\\_forest.py\", line 348, in fit\n",
      "    self._validate_estimator()\n",
      "  File \"C:\\Users\\Mamer Jammer\\anaconda3\\lib\\site-packages\\sklearn\\ensemble\\_base.py\", line 134, in _validate_estimator\n",
      "    raise ValueError(\"n_estimators must be greater than zero, \"\n",
      "ValueError: n_estimators must be greater than zero, got 0.\n",
      "\n",
      "  warnings.warn(\"Estimator fit failed. The score on this train-test\"\n",
      "C:\\Users\\Mamer Jammer\\anaconda3\\lib\\site-packages\\sklearn\\model_selection\\_validation.py:548: FitFailedWarning: Estimator fit failed. The score on this train-test partition for these parameters will be set to nan. Details: \n",
      "Traceback (most recent call last):\n",
      "  File \"C:\\Users\\Mamer Jammer\\anaconda3\\lib\\site-packages\\sklearn\\model_selection\\_validation.py\", line 531, in _fit_and_score\n",
      "    estimator.fit(X_train, y_train, **fit_params)\n",
      "  File \"C:\\Users\\Mamer Jammer\\anaconda3\\lib\\site-packages\\sklearn\\ensemble\\_forest.py\", line 348, in fit\n",
      "    self._validate_estimator()\n",
      "  File \"C:\\Users\\Mamer Jammer\\anaconda3\\lib\\site-packages\\sklearn\\ensemble\\_base.py\", line 134, in _validate_estimator\n",
      "    raise ValueError(\"n_estimators must be greater than zero, \"\n",
      "ValueError: n_estimators must be greater than zero, got 0.\n",
      "\n",
      "  warnings.warn(\"Estimator fit failed. The score on this train-test\"\n",
      "C:\\Users\\Mamer Jammer\\anaconda3\\lib\\site-packages\\sklearn\\model_selection\\_validation.py:548: FitFailedWarning: Estimator fit failed. The score on this train-test partition for these parameters will be set to nan. Details: \n",
      "Traceback (most recent call last):\n",
      "  File \"C:\\Users\\Mamer Jammer\\anaconda3\\lib\\site-packages\\sklearn\\model_selection\\_validation.py\", line 531, in _fit_and_score\n",
      "    estimator.fit(X_train, y_train, **fit_params)\n",
      "  File \"C:\\Users\\Mamer Jammer\\anaconda3\\lib\\site-packages\\sklearn\\ensemble\\_forest.py\", line 348, in fit\n",
      "    self._validate_estimator()\n",
      "  File \"C:\\Users\\Mamer Jammer\\anaconda3\\lib\\site-packages\\sklearn\\ensemble\\_base.py\", line 134, in _validate_estimator\n",
      "    raise ValueError(\"n_estimators must be greater than zero, \"\n",
      "ValueError: n_estimators must be greater than zero, got 0.\n",
      "\n",
      "  warnings.warn(\"Estimator fit failed. The score on this train-test\"\n"
     ]
    },
    {
     "name": "stderr",
     "output_type": "stream",
     "text": [
      "C:\\Users\\Mamer Jammer\\anaconda3\\lib\\site-packages\\sklearn\\model_selection\\_validation.py:548: FitFailedWarning: Estimator fit failed. The score on this train-test partition for these parameters will be set to nan. Details: \n",
      "Traceback (most recent call last):\n",
      "  File \"C:\\Users\\Mamer Jammer\\anaconda3\\lib\\site-packages\\sklearn\\model_selection\\_validation.py\", line 531, in _fit_and_score\n",
      "    estimator.fit(X_train, y_train, **fit_params)\n",
      "  File \"C:\\Users\\Mamer Jammer\\anaconda3\\lib\\site-packages\\sklearn\\ensemble\\_forest.py\", line 348, in fit\n",
      "    self._validate_estimator()\n",
      "  File \"C:\\Users\\Mamer Jammer\\anaconda3\\lib\\site-packages\\sklearn\\ensemble\\_base.py\", line 134, in _validate_estimator\n",
      "    raise ValueError(\"n_estimators must be greater than zero, \"\n",
      "ValueError: n_estimators must be greater than zero, got 0.\n",
      "\n",
      "  warnings.warn(\"Estimator fit failed. The score on this train-test\"\n",
      "C:\\Users\\Mamer Jammer\\anaconda3\\lib\\site-packages\\sklearn\\model_selection\\_validation.py:548: FitFailedWarning: Estimator fit failed. The score on this train-test partition for these parameters will be set to nan. Details: \n",
      "Traceback (most recent call last):\n",
      "  File \"C:\\Users\\Mamer Jammer\\anaconda3\\lib\\site-packages\\sklearn\\model_selection\\_validation.py\", line 531, in _fit_and_score\n",
      "    estimator.fit(X_train, y_train, **fit_params)\n",
      "  File \"C:\\Users\\Mamer Jammer\\anaconda3\\lib\\site-packages\\sklearn\\ensemble\\_forest.py\", line 348, in fit\n",
      "    self._validate_estimator()\n",
      "  File \"C:\\Users\\Mamer Jammer\\anaconda3\\lib\\site-packages\\sklearn\\ensemble\\_base.py\", line 134, in _validate_estimator\n",
      "    raise ValueError(\"n_estimators must be greater than zero, \"\n",
      "ValueError: n_estimators must be greater than zero, got 0.\n",
      "\n",
      "  warnings.warn(\"Estimator fit failed. The score on this train-test\"\n",
      "C:\\Users\\Mamer Jammer\\anaconda3\\lib\\site-packages\\sklearn\\model_selection\\_validation.py:548: FitFailedWarning: Estimator fit failed. The score on this train-test partition for these parameters will be set to nan. Details: \n",
      "Traceback (most recent call last):\n",
      "  File \"C:\\Users\\Mamer Jammer\\anaconda3\\lib\\site-packages\\sklearn\\model_selection\\_validation.py\", line 531, in _fit_and_score\n",
      "    estimator.fit(X_train, y_train, **fit_params)\n",
      "  File \"C:\\Users\\Mamer Jammer\\anaconda3\\lib\\site-packages\\sklearn\\ensemble\\_forest.py\", line 348, in fit\n",
      "    self._validate_estimator()\n",
      "  File \"C:\\Users\\Mamer Jammer\\anaconda3\\lib\\site-packages\\sklearn\\ensemble\\_base.py\", line 134, in _validate_estimator\n",
      "    raise ValueError(\"n_estimators must be greater than zero, \"\n",
      "ValueError: n_estimators must be greater than zero, got 0.\n",
      "\n",
      "  warnings.warn(\"Estimator fit failed. The score on this train-test\"\n",
      "C:\\Users\\Mamer Jammer\\anaconda3\\lib\\site-packages\\sklearn\\model_selection\\_validation.py:548: FitFailedWarning: Estimator fit failed. The score on this train-test partition for these parameters will be set to nan. Details: \n",
      "Traceback (most recent call last):\n",
      "  File \"C:\\Users\\Mamer Jammer\\anaconda3\\lib\\site-packages\\sklearn\\model_selection\\_validation.py\", line 531, in _fit_and_score\n",
      "    estimator.fit(X_train, y_train, **fit_params)\n",
      "  File \"C:\\Users\\Mamer Jammer\\anaconda3\\lib\\site-packages\\sklearn\\ensemble\\_forest.py\", line 348, in fit\n",
      "    self._validate_estimator()\n",
      "  File \"C:\\Users\\Mamer Jammer\\anaconda3\\lib\\site-packages\\sklearn\\ensemble\\_base.py\", line 134, in _validate_estimator\n",
      "    raise ValueError(\"n_estimators must be greater than zero, \"\n",
      "ValueError: n_estimators must be greater than zero, got 0.\n",
      "\n",
      "  warnings.warn(\"Estimator fit failed. The score on this train-test\"\n",
      "C:\\Users\\Mamer Jammer\\anaconda3\\lib\\site-packages\\sklearn\\model_selection\\_validation.py:548: FitFailedWarning: Estimator fit failed. The score on this train-test partition for these parameters will be set to nan. Details: \n",
      "Traceback (most recent call last):\n",
      "  File \"C:\\Users\\Mamer Jammer\\anaconda3\\lib\\site-packages\\sklearn\\model_selection\\_validation.py\", line 531, in _fit_and_score\n",
      "    estimator.fit(X_train, y_train, **fit_params)\n",
      "  File \"C:\\Users\\Mamer Jammer\\anaconda3\\lib\\site-packages\\sklearn\\ensemble\\_forest.py\", line 348, in fit\n",
      "    self._validate_estimator()\n",
      "  File \"C:\\Users\\Mamer Jammer\\anaconda3\\lib\\site-packages\\sklearn\\ensemble\\_base.py\", line 134, in _validate_estimator\n",
      "    raise ValueError(\"n_estimators must be greater than zero, \"\n",
      "ValueError: n_estimators must be greater than zero, got 0.\n",
      "\n",
      "  warnings.warn(\"Estimator fit failed. The score on this train-test\"\n",
      "C:\\Users\\Mamer Jammer\\anaconda3\\lib\\site-packages\\sklearn\\model_selection\\_validation.py:548: FitFailedWarning: Estimator fit failed. The score on this train-test partition for these parameters will be set to nan. Details: \n",
      "Traceback (most recent call last):\n",
      "  File \"C:\\Users\\Mamer Jammer\\anaconda3\\lib\\site-packages\\sklearn\\model_selection\\_validation.py\", line 531, in _fit_and_score\n",
      "    estimator.fit(X_train, y_train, **fit_params)\n",
      "  File \"C:\\Users\\Mamer Jammer\\anaconda3\\lib\\site-packages\\sklearn\\ensemble\\_forest.py\", line 348, in fit\n",
      "    self._validate_estimator()\n",
      "  File \"C:\\Users\\Mamer Jammer\\anaconda3\\lib\\site-packages\\sklearn\\ensemble\\_base.py\", line 134, in _validate_estimator\n",
      "    raise ValueError(\"n_estimators must be greater than zero, \"\n",
      "ValueError: n_estimators must be greater than zero, got 0.\n",
      "\n",
      "  warnings.warn(\"Estimator fit failed. The score on this train-test\"\n",
      "C:\\Users\\Mamer Jammer\\anaconda3\\lib\\site-packages\\sklearn\\model_selection\\_validation.py:548: FitFailedWarning: Estimator fit failed. The score on this train-test partition for these parameters will be set to nan. Details: \n",
      "Traceback (most recent call last):\n",
      "  File \"C:\\Users\\Mamer Jammer\\anaconda3\\lib\\site-packages\\sklearn\\model_selection\\_validation.py\", line 531, in _fit_and_score\n",
      "    estimator.fit(X_train, y_train, **fit_params)\n",
      "  File \"C:\\Users\\Mamer Jammer\\anaconda3\\lib\\site-packages\\sklearn\\ensemble\\_forest.py\", line 348, in fit\n",
      "    self._validate_estimator()\n",
      "  File \"C:\\Users\\Mamer Jammer\\anaconda3\\lib\\site-packages\\sklearn\\ensemble\\_base.py\", line 134, in _validate_estimator\n",
      "    raise ValueError(\"n_estimators must be greater than zero, \"\n",
      "ValueError: n_estimators must be greater than zero, got 0.\n",
      "\n",
      "  warnings.warn(\"Estimator fit failed. The score on this train-test\"\n",
      "C:\\Users\\Mamer Jammer\\anaconda3\\lib\\site-packages\\sklearn\\model_selection\\_validation.py:548: FitFailedWarning: Estimator fit failed. The score on this train-test partition for these parameters will be set to nan. Details: \n",
      "Traceback (most recent call last):\n",
      "  File \"C:\\Users\\Mamer Jammer\\anaconda3\\lib\\site-packages\\sklearn\\model_selection\\_validation.py\", line 531, in _fit_and_score\n",
      "    estimator.fit(X_train, y_train, **fit_params)\n",
      "  File \"C:\\Users\\Mamer Jammer\\anaconda3\\lib\\site-packages\\sklearn\\ensemble\\_forest.py\", line 348, in fit\n",
      "    self._validate_estimator()\n",
      "  File \"C:\\Users\\Mamer Jammer\\anaconda3\\lib\\site-packages\\sklearn\\ensemble\\_base.py\", line 134, in _validate_estimator\n",
      "    raise ValueError(\"n_estimators must be greater than zero, \"\n",
      "ValueError: n_estimators must be greater than zero, got 0.\n",
      "\n",
      "  warnings.warn(\"Estimator fit failed. The score on this train-test\"\n",
      "C:\\Users\\Mamer Jammer\\anaconda3\\lib\\site-packages\\sklearn\\model_selection\\_validation.py:548: FitFailedWarning: Estimator fit failed. The score on this train-test partition for these parameters will be set to nan. Details: \n",
      "Traceback (most recent call last):\n",
      "  File \"C:\\Users\\Mamer Jammer\\anaconda3\\lib\\site-packages\\sklearn\\model_selection\\_validation.py\", line 531, in _fit_and_score\n",
      "    estimator.fit(X_train, y_train, **fit_params)\n",
      "  File \"C:\\Users\\Mamer Jammer\\anaconda3\\lib\\site-packages\\sklearn\\ensemble\\_forest.py\", line 348, in fit\n",
      "    self._validate_estimator()\n",
      "  File \"C:\\Users\\Mamer Jammer\\anaconda3\\lib\\site-packages\\sklearn\\ensemble\\_base.py\", line 134, in _validate_estimator\n",
      "    raise ValueError(\"n_estimators must be greater than zero, \"\n",
      "ValueError: n_estimators must be greater than zero, got 0.\n",
      "\n",
      "  warnings.warn(\"Estimator fit failed. The score on this train-test\"\n",
      "C:\\Users\\Mamer Jammer\\anaconda3\\lib\\site-packages\\sklearn\\model_selection\\_validation.py:548: FitFailedWarning: Estimator fit failed. The score on this train-test partition for these parameters will be set to nan. Details: \n",
      "Traceback (most recent call last):\n",
      "  File \"C:\\Users\\Mamer Jammer\\anaconda3\\lib\\site-packages\\sklearn\\model_selection\\_validation.py\", line 531, in _fit_and_score\n",
      "    estimator.fit(X_train, y_train, **fit_params)\n",
      "  File \"C:\\Users\\Mamer Jammer\\anaconda3\\lib\\site-packages\\sklearn\\ensemble\\_forest.py\", line 348, in fit\n",
      "    self._validate_estimator()\n",
      "  File \"C:\\Users\\Mamer Jammer\\anaconda3\\lib\\site-packages\\sklearn\\ensemble\\_base.py\", line 134, in _validate_estimator\n",
      "    raise ValueError(\"n_estimators must be greater than zero, \"\n",
      "ValueError: n_estimators must be greater than zero, got 0.\n",
      "\n",
      "  warnings.warn(\"Estimator fit failed. The score on this train-test\"\n"
     ]
    },
    {
     "name": "stderr",
     "output_type": "stream",
     "text": [
      "C:\\Users\\Mamer Jammer\\anaconda3\\lib\\site-packages\\sklearn\\model_selection\\_validation.py:548: FitFailedWarning: Estimator fit failed. The score on this train-test partition for these parameters will be set to nan. Details: \n",
      "Traceback (most recent call last):\n",
      "  File \"C:\\Users\\Mamer Jammer\\anaconda3\\lib\\site-packages\\sklearn\\model_selection\\_validation.py\", line 531, in _fit_and_score\n",
      "    estimator.fit(X_train, y_train, **fit_params)\n",
      "  File \"C:\\Users\\Mamer Jammer\\anaconda3\\lib\\site-packages\\sklearn\\ensemble\\_forest.py\", line 348, in fit\n",
      "    self._validate_estimator()\n",
      "  File \"C:\\Users\\Mamer Jammer\\anaconda3\\lib\\site-packages\\sklearn\\ensemble\\_base.py\", line 134, in _validate_estimator\n",
      "    raise ValueError(\"n_estimators must be greater than zero, \"\n",
      "ValueError: n_estimators must be greater than zero, got 0.\n",
      "\n",
      "  warnings.warn(\"Estimator fit failed. The score on this train-test\"\n",
      "C:\\Users\\Mamer Jammer\\anaconda3\\lib\\site-packages\\sklearn\\model_selection\\_validation.py:548: FitFailedWarning: Estimator fit failed. The score on this train-test partition for these parameters will be set to nan. Details: \n",
      "Traceback (most recent call last):\n",
      "  File \"C:\\Users\\Mamer Jammer\\anaconda3\\lib\\site-packages\\sklearn\\model_selection\\_validation.py\", line 531, in _fit_and_score\n",
      "    estimator.fit(X_train, y_train, **fit_params)\n",
      "  File \"C:\\Users\\Mamer Jammer\\anaconda3\\lib\\site-packages\\sklearn\\ensemble\\_forest.py\", line 348, in fit\n",
      "    self._validate_estimator()\n",
      "  File \"C:\\Users\\Mamer Jammer\\anaconda3\\lib\\site-packages\\sklearn\\ensemble\\_base.py\", line 134, in _validate_estimator\n",
      "    raise ValueError(\"n_estimators must be greater than zero, \"\n",
      "ValueError: n_estimators must be greater than zero, got 0.\n",
      "\n",
      "  warnings.warn(\"Estimator fit failed. The score on this train-test\"\n",
      "C:\\Users\\Mamer Jammer\\anaconda3\\lib\\site-packages\\sklearn\\model_selection\\_validation.py:548: FitFailedWarning: Estimator fit failed. The score on this train-test partition for these parameters will be set to nan. Details: \n",
      "Traceback (most recent call last):\n",
      "  File \"C:\\Users\\Mamer Jammer\\anaconda3\\lib\\site-packages\\sklearn\\model_selection\\_validation.py\", line 531, in _fit_and_score\n",
      "    estimator.fit(X_train, y_train, **fit_params)\n",
      "  File \"C:\\Users\\Mamer Jammer\\anaconda3\\lib\\site-packages\\sklearn\\ensemble\\_forest.py\", line 348, in fit\n",
      "    self._validate_estimator()\n",
      "  File \"C:\\Users\\Mamer Jammer\\anaconda3\\lib\\site-packages\\sklearn\\ensemble\\_base.py\", line 134, in _validate_estimator\n",
      "    raise ValueError(\"n_estimators must be greater than zero, \"\n",
      "ValueError: n_estimators must be greater than zero, got 0.\n",
      "\n",
      "  warnings.warn(\"Estimator fit failed. The score on this train-test\"\n",
      "C:\\Users\\Mamer Jammer\\anaconda3\\lib\\site-packages\\sklearn\\model_selection\\_validation.py:548: FitFailedWarning: Estimator fit failed. The score on this train-test partition for these parameters will be set to nan. Details: \n",
      "Traceback (most recent call last):\n",
      "  File \"C:\\Users\\Mamer Jammer\\anaconda3\\lib\\site-packages\\sklearn\\model_selection\\_validation.py\", line 531, in _fit_and_score\n",
      "    estimator.fit(X_train, y_train, **fit_params)\n",
      "  File \"C:\\Users\\Mamer Jammer\\anaconda3\\lib\\site-packages\\sklearn\\ensemble\\_forest.py\", line 348, in fit\n",
      "    self._validate_estimator()\n",
      "  File \"C:\\Users\\Mamer Jammer\\anaconda3\\lib\\site-packages\\sklearn\\ensemble\\_base.py\", line 134, in _validate_estimator\n",
      "    raise ValueError(\"n_estimators must be greater than zero, \"\n",
      "ValueError: n_estimators must be greater than zero, got 0.\n",
      "\n",
      "  warnings.warn(\"Estimator fit failed. The score on this train-test\"\n",
      "C:\\Users\\Mamer Jammer\\anaconda3\\lib\\site-packages\\sklearn\\model_selection\\_validation.py:548: FitFailedWarning: Estimator fit failed. The score on this train-test partition for these parameters will be set to nan. Details: \n",
      "Traceback (most recent call last):\n",
      "  File \"C:\\Users\\Mamer Jammer\\anaconda3\\lib\\site-packages\\sklearn\\model_selection\\_validation.py\", line 531, in _fit_and_score\n",
      "    estimator.fit(X_train, y_train, **fit_params)\n",
      "  File \"C:\\Users\\Mamer Jammer\\anaconda3\\lib\\site-packages\\sklearn\\ensemble\\_forest.py\", line 348, in fit\n",
      "    self._validate_estimator()\n",
      "  File \"C:\\Users\\Mamer Jammer\\anaconda3\\lib\\site-packages\\sklearn\\ensemble\\_base.py\", line 134, in _validate_estimator\n",
      "    raise ValueError(\"n_estimators must be greater than zero, \"\n",
      "ValueError: n_estimators must be greater than zero, got 0.\n",
      "\n",
      "  warnings.warn(\"Estimator fit failed. The score on this train-test\"\n",
      "C:\\Users\\Mamer Jammer\\anaconda3\\lib\\site-packages\\sklearn\\model_selection\\_validation.py:548: FitFailedWarning: Estimator fit failed. The score on this train-test partition for these parameters will be set to nan. Details: \n",
      "Traceback (most recent call last):\n",
      "  File \"C:\\Users\\Mamer Jammer\\anaconda3\\lib\\site-packages\\sklearn\\model_selection\\_validation.py\", line 531, in _fit_and_score\n",
      "    estimator.fit(X_train, y_train, **fit_params)\n",
      "  File \"C:\\Users\\Mamer Jammer\\anaconda3\\lib\\site-packages\\sklearn\\ensemble\\_forest.py\", line 348, in fit\n",
      "    self._validate_estimator()\n",
      "  File \"C:\\Users\\Mamer Jammer\\anaconda3\\lib\\site-packages\\sklearn\\ensemble\\_base.py\", line 134, in _validate_estimator\n",
      "    raise ValueError(\"n_estimators must be greater than zero, \"\n",
      "ValueError: n_estimators must be greater than zero, got 0.\n",
      "\n",
      "  warnings.warn(\"Estimator fit failed. The score on this train-test\"\n",
      "C:\\Users\\Mamer Jammer\\anaconda3\\lib\\site-packages\\sklearn\\model_selection\\_validation.py:548: FitFailedWarning: Estimator fit failed. The score on this train-test partition for these parameters will be set to nan. Details: \n",
      "Traceback (most recent call last):\n",
      "  File \"C:\\Users\\Mamer Jammer\\anaconda3\\lib\\site-packages\\sklearn\\model_selection\\_validation.py\", line 531, in _fit_and_score\n",
      "    estimator.fit(X_train, y_train, **fit_params)\n",
      "  File \"C:\\Users\\Mamer Jammer\\anaconda3\\lib\\site-packages\\sklearn\\ensemble\\_forest.py\", line 348, in fit\n",
      "    self._validate_estimator()\n",
      "  File \"C:\\Users\\Mamer Jammer\\anaconda3\\lib\\site-packages\\sklearn\\ensemble\\_base.py\", line 134, in _validate_estimator\n",
      "    raise ValueError(\"n_estimators must be greater than zero, \"\n",
      "ValueError: n_estimators must be greater than zero, got 0.\n",
      "\n",
      "  warnings.warn(\"Estimator fit failed. The score on this train-test\"\n",
      "C:\\Users\\Mamer Jammer\\anaconda3\\lib\\site-packages\\sklearn\\model_selection\\_validation.py:548: FitFailedWarning: Estimator fit failed. The score on this train-test partition for these parameters will be set to nan. Details: \n",
      "Traceback (most recent call last):\n",
      "  File \"C:\\Users\\Mamer Jammer\\anaconda3\\lib\\site-packages\\sklearn\\model_selection\\_validation.py\", line 531, in _fit_and_score\n",
      "    estimator.fit(X_train, y_train, **fit_params)\n",
      "  File \"C:\\Users\\Mamer Jammer\\anaconda3\\lib\\site-packages\\sklearn\\ensemble\\_forest.py\", line 348, in fit\n",
      "    self._validate_estimator()\n",
      "  File \"C:\\Users\\Mamer Jammer\\anaconda3\\lib\\site-packages\\sklearn\\ensemble\\_base.py\", line 134, in _validate_estimator\n",
      "    raise ValueError(\"n_estimators must be greater than zero, \"\n",
      "ValueError: n_estimators must be greater than zero, got 0.\n",
      "\n",
      "  warnings.warn(\"Estimator fit failed. The score on this train-test\"\n",
      "C:\\Users\\Mamer Jammer\\anaconda3\\lib\\site-packages\\sklearn\\model_selection\\_validation.py:548: FitFailedWarning: Estimator fit failed. The score on this train-test partition for these parameters will be set to nan. Details: \n",
      "Traceback (most recent call last):\n",
      "  File \"C:\\Users\\Mamer Jammer\\anaconda3\\lib\\site-packages\\sklearn\\model_selection\\_validation.py\", line 531, in _fit_and_score\n",
      "    estimator.fit(X_train, y_train, **fit_params)\n",
      "  File \"C:\\Users\\Mamer Jammer\\anaconda3\\lib\\site-packages\\sklearn\\ensemble\\_forest.py\", line 348, in fit\n",
      "    self._validate_estimator()\n",
      "  File \"C:\\Users\\Mamer Jammer\\anaconda3\\lib\\site-packages\\sklearn\\ensemble\\_base.py\", line 134, in _validate_estimator\n",
      "    raise ValueError(\"n_estimators must be greater than zero, \"\n",
      "ValueError: n_estimators must be greater than zero, got 0.\n",
      "\n",
      "  warnings.warn(\"Estimator fit failed. The score on this train-test\"\n",
      "C:\\Users\\Mamer Jammer\\anaconda3\\lib\\site-packages\\sklearn\\model_selection\\_validation.py:548: FitFailedWarning: Estimator fit failed. The score on this train-test partition for these parameters will be set to nan. Details: \n",
      "Traceback (most recent call last):\n",
      "  File \"C:\\Users\\Mamer Jammer\\anaconda3\\lib\\site-packages\\sklearn\\model_selection\\_validation.py\", line 531, in _fit_and_score\n",
      "    estimator.fit(X_train, y_train, **fit_params)\n",
      "  File \"C:\\Users\\Mamer Jammer\\anaconda3\\lib\\site-packages\\sklearn\\ensemble\\_forest.py\", line 348, in fit\n",
      "    self._validate_estimator()\n",
      "  File \"C:\\Users\\Mamer Jammer\\anaconda3\\lib\\site-packages\\sklearn\\ensemble\\_base.py\", line 134, in _validate_estimator\n",
      "    raise ValueError(\"n_estimators must be greater than zero, \"\n",
      "ValueError: n_estimators must be greater than zero, got 0.\n",
      "\n",
      "  warnings.warn(\"Estimator fit failed. The score on this train-test\"\n"
     ]
    },
    {
     "data": {
      "text/plain": [
       "GridSearchCV(cv=5, estimator=RandomForestClassifier(),\n",
       "             param_grid={'criterion': ['gini', 'entropy'],\n",
       "                         'max_depth': [4, 5, 6, 7, 8],\n",
       "                         'max_features': ['auto', 'sqrt', 'log2'],\n",
       "                         'n_estimators': [0, 500]})"
      ]
     },
     "execution_count": 101,
     "metadata": {},
     "output_type": "execute_result"
    }
   ],
   "source": [
    "from sklearn.ensemble import RandomForestClassifier\n",
    "param_grid = { \n",
    "    'n_estimators': [0,500],\n",
    "    'max_features': ['auto', 'sqrt', 'log2'],\n",
    "    'max_depth' : [4,5,6,7,8],\n",
    "    'criterion' :['gini', 'entropy']\n",
    "}\n",
    "\n",
    "rf=RandomForestClassifier()\n",
    "GS_rf=GridSearchCV(rf,param_grid,cv=5)\n",
    "GS_rf.fit(X,y)"
   ]
  },
  {
   "cell_type": "code",
   "execution_count": 102,
   "metadata": {
    "tags": []
   },
   "outputs": [
    {
     "name": "stdout",
     "output_type": "stream",
     "text": [
      "Best Score:0.7682964094728801\n",
      "Best Parameters: {'criterion': 'gini', 'max_depth': 5, 'max_features': 'sqrt', 'n_estimators': 500}\n"
     ]
    }
   ],
   "source": [
    "print(\"Best Score:\" + str(GS_rf.best_score_))\n",
    "print(\"Best Parameters: \" + str(GS_rf.best_params_))"
   ]
  },
  {
   "cell_type": "code",
   "execution_count": null,
   "metadata": {},
   "outputs": [],
   "source": []
  }
 ],
 "metadata": {
  "kernelspec": {
   "display_name": "Python 3",
   "language": "python",
   "name": "python3"
  },
  "language_info": {
   "codemirror_mode": {
    "name": "ipython",
    "version": 3
   },
   "file_extension": ".py",
   "mimetype": "text/x-python",
   "name": "python",
   "nbconvert_exporter": "python",
   "pygments_lexer": "ipython3",
   "version": "3.8.5"
  }
 },
 "nbformat": 4,
 "nbformat_minor": 4
}
