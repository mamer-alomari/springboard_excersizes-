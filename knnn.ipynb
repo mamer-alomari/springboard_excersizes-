{
 "cells": [
  {
   "cell_type": "code",
   "execution_count": 1,
   "id": "50b53901",
   "metadata": {},
   "outputs": [],
   "source": [
    "import pandas as pd \n"
   ]
  },
  {
   "cell_type": "code",
   "execution_count": 3,
   "id": "75af2c16",
   "metadata": {},
   "outputs": [],
   "source": [
    "df=pd.read_excel(r'C:\\Users\\mmioi\\Downloads\\Marketing.xlsx')"
   ]
  },
  {
   "cell_type": "code",
   "execution_count": 4,
   "id": "2ef37e2a",
   "metadata": {},
   "outputs": [
    {
     "data": {
      "text/html": [
       "<div>\n",
       "<style scoped>\n",
       "    .dataframe tbody tr th:only-of-type {\n",
       "        vertical-align: middle;\n",
       "    }\n",
       "\n",
       "    .dataframe tbody tr th {\n",
       "        vertical-align: top;\n",
       "    }\n",
       "\n",
       "    .dataframe thead th {\n",
       "        text-align: right;\n",
       "    }\n",
       "</style>\n",
       "<table border=\"1\" class=\"dataframe\">\n",
       "  <thead>\n",
       "    <tr style=\"text-align: right;\">\n",
       "      <th></th>\n",
       "      <th>Observation</th>\n",
       "      <th>google_adwords</th>\n",
       "      <th>facebook</th>\n",
       "      <th>twitter</th>\n",
       "      <th>marketing_total</th>\n",
       "      <th>revenues</th>\n",
       "      <th>employees</th>\n",
       "      <th>pop_density</th>\n",
       "    </tr>\n",
       "  </thead>\n",
       "  <tbody>\n",
       "    <tr>\n",
       "      <th>0</th>\n",
       "      <td>1</td>\n",
       "      <td>65.66</td>\n",
       "      <td>47.86</td>\n",
       "      <td>52.46</td>\n",
       "      <td>165.98</td>\n",
       "      <td>39.26</td>\n",
       "      <td>5</td>\n",
       "      <td>High</td>\n",
       "    </tr>\n",
       "    <tr>\n",
       "      <th>1</th>\n",
       "      <td>2</td>\n",
       "      <td>39.10</td>\n",
       "      <td>55.20</td>\n",
       "      <td>77.40</td>\n",
       "      <td>171.70</td>\n",
       "      <td>38.90</td>\n",
       "      <td>7</td>\n",
       "      <td>Medium</td>\n",
       "    </tr>\n",
       "    <tr>\n",
       "      <th>2</th>\n",
       "      <td>3</td>\n",
       "      <td>174.81</td>\n",
       "      <td>52.01</td>\n",
       "      <td>68.01</td>\n",
       "      <td>294.83</td>\n",
       "      <td>49.51</td>\n",
       "      <td>11</td>\n",
       "      <td>Medium</td>\n",
       "    </tr>\n",
       "    <tr>\n",
       "      <th>3</th>\n",
       "      <td>4</td>\n",
       "      <td>34.36</td>\n",
       "      <td>61.96</td>\n",
       "      <td>86.86</td>\n",
       "      <td>183.18</td>\n",
       "      <td>40.56</td>\n",
       "      <td>7</td>\n",
       "      <td>High</td>\n",
       "    </tr>\n",
       "    <tr>\n",
       "      <th>4</th>\n",
       "      <td>5</td>\n",
       "      <td>78.21</td>\n",
       "      <td>40.91</td>\n",
       "      <td>30.41</td>\n",
       "      <td>149.53</td>\n",
       "      <td>40.21</td>\n",
       "      <td>9</td>\n",
       "      <td>Low</td>\n",
       "    </tr>\n",
       "  </tbody>\n",
       "</table>\n",
       "</div>"
      ],
      "text/plain": [
       "   Observation  google_adwords  facebook  twitter  marketing_total  revenues  \\\n",
       "0            1           65.66     47.86    52.46           165.98     39.26   \n",
       "1            2           39.10     55.20    77.40           171.70     38.90   \n",
       "2            3          174.81     52.01    68.01           294.83     49.51   \n",
       "3            4           34.36     61.96    86.86           183.18     40.56   \n",
       "4            5           78.21     40.91    30.41           149.53     40.21   \n",
       "\n",
       "   employees pop_density  \n",
       "0          5        High  \n",
       "1          7      Medium  \n",
       "2         11      Medium  \n",
       "3          7        High  \n",
       "4          9         Low  "
      ]
     },
     "execution_count": 4,
     "metadata": {},
     "output_type": "execute_result"
    }
   ],
   "source": [
    "df.head()"
   ]
  },
  {
   "cell_type": "code",
   "execution_count": 6,
   "id": "beaa1532",
   "metadata": {},
   "outputs": [],
   "source": [
    "df=df.set_index('Observation')"
   ]
  },
  {
   "cell_type": "code",
   "execution_count": 7,
   "id": "7d9c8b5d",
   "metadata": {},
   "outputs": [
    {
     "name": "stdout",
     "output_type": "stream",
     "text": [
      "<class 'pandas.core.frame.DataFrame'>\n",
      "Int64Index: 172 entries, 1 to 172\n",
      "Data columns (total 7 columns):\n",
      " #   Column           Non-Null Count  Dtype  \n",
      "---  ------           --------------  -----  \n",
      " 0   google_adwords   172 non-null    float64\n",
      " 1   facebook         172 non-null    float64\n",
      " 2   twitter          172 non-null    float64\n",
      " 3   marketing_total  172 non-null    float64\n",
      " 4   revenues         172 non-null    float64\n",
      " 5   employees        172 non-null    int64  \n",
      " 6   pop_density      172 non-null    object \n",
      "dtypes: float64(5), int64(1), object(1)\n",
      "memory usage: 10.8+ KB\n"
     ]
    }
   ],
   "source": [
    "df.info()"
   ]
  },
  {
   "cell_type": "code",
   "execution_count": 8,
   "id": "fb0af139",
   "metadata": {},
   "outputs": [],
   "source": [
    "training=df[:120]"
   ]
  },
  {
   "cell_type": "code",
   "execution_count": 9,
   "id": "ead17655",
   "metadata": {},
   "outputs": [
    {
     "name": "stdout",
     "output_type": "stream",
     "text": [
      "<class 'pandas.core.frame.DataFrame'>\n",
      "Int64Index: 120 entries, 1 to 120\n",
      "Data columns (total 7 columns):\n",
      " #   Column           Non-Null Count  Dtype  \n",
      "---  ------           --------------  -----  \n",
      " 0   google_adwords   120 non-null    float64\n",
      " 1   facebook         120 non-null    float64\n",
      " 2   twitter          120 non-null    float64\n",
      " 3   marketing_total  120 non-null    float64\n",
      " 4   revenues         120 non-null    float64\n",
      " 5   employees        120 non-null    int64  \n",
      " 6   pop_density      120 non-null    object \n",
      "dtypes: float64(5), int64(1), object(1)\n",
      "memory usage: 7.5+ KB\n"
     ]
    }
   ],
   "source": [
    "training.info()"
   ]
  },
  {
   "cell_type": "code",
   "execution_count": 12,
   "id": "ec05906d",
   "metadata": {},
   "outputs": [],
   "source": [
    "from sklearn.neighbors import KNeighborsClassifier as knn \n",
    "from sklearn.preprocessing import LabelEncoder\n",
    "from sklearn.model_selection import train_test_split"
   ]
  },
  {
   "cell_type": "code",
   "execution_count": 15,
   "id": "adfb488c",
   "metadata": {},
   "outputs": [
    {
     "data": {
      "text/plain": [
       "Index(['google_adwords', 'facebook', 'twitter', 'marketing_total', 'revenues',\n",
       "       'employees', 'pop_density'],\n",
       "      dtype='object')"
      ]
     },
     "execution_count": 15,
     "metadata": {},
     "output_type": "execute_result"
    }
   ],
   "source": [
    "df.columns"
   ]
  },
  {
   "cell_type": "code",
   "execution_count": 30,
   "id": "ebb19876",
   "metadata": {},
   "outputs": [],
   "source": [
    "x=df.drop('pop_density',axis=1).values\n",
    "y=df.pop_density.values\n",
    "le=LabelEncoder()\n",
    "Y=le.fit_transform(y)"
   ]
  },
  {
   "cell_type": "code",
   "execution_count": 33,
   "id": "1a57385d",
   "metadata": {},
   "outputs": [],
   "source": [
    "x_train,x_test,y_train,y_test=train_test_split(x,Y,train_size=0.33,random_state=123,shuffle=True)"
   ]
  },
  {
   "cell_type": "code",
   "execution_count": 40,
   "id": "5dd63a5d",
   "metadata": {},
   "outputs": [],
   "source": [
    "model=knn(5)\n",
    "model.fit(x_train,y_train)\n",
    "y_preds=model.predict(x_test)"
   ]
  },
  {
   "cell_type": "code",
   "execution_count": 57,
   "id": "8bd8b7a3",
   "metadata": {},
   "outputs": [
    {
     "name": "stdout",
     "output_type": "stream",
     "text": [
      "Training Score:  0.5357142857142857\n"
     ]
    }
   ],
   "source": [
    "print (\"Training Score: \",model.score(x_train,y_train))"
   ]
  },
  {
   "cell_type": "code",
   "execution_count": 59,
   "id": "2f64e839",
   "metadata": {},
   "outputs": [
    {
     "name": "stdout",
     "output_type": "stream",
     "text": [
      "Test Score:  0.3793103448275862\n"
     ]
    }
   ],
   "source": [
    "print ('Test Score: ',model.score(x_test,y_test))"
   ]
  },
  {
   "cell_type": "code",
   "execution_count": 55,
   "id": "fc739543",
   "metadata": {},
   "outputs": [
    {
     "name": "stdout",
     "output_type": "stream",
     "text": [
      "[0.34285714 0.34285714 0.5        0.32352941 0.41176471]\n",
      "cv_scores mean:0.3842016806722689\n"
     ]
    }
   ],
   "source": [
    "from sklearn.model_selection import cross_val_score\n",
    "import numpy as np\n",
    "knn_cv = knn(n_neighbors=5) \n",
    "cv_scores = cross_val_score(knn_cv, x, Y, cv=5)\n",
    "print(cv_scores)\n",
    "print(\"cv_scores mean:{}\".format(np.mean(cv_scores)))\n"
   ]
  },
  {
   "cell_type": "code",
   "execution_count": 63,
   "id": "a0897d76",
   "metadata": {},
   "outputs": [],
   "source": [
    "import matplotlib.pyplot as plt"
   ]
  },
  {
   "cell_type": "code",
   "execution_count": 64,
   "id": "5041ba3d",
   "metadata": {},
   "outputs": [
    {
     "data": {
      "text/plain": [
       "Text(0.5, 1.0, 'Performace Under Varying K Values')"
      ]
     },
     "execution_count": 64,
     "metadata": {},
     "output_type": "execute_result"
    },
    {
     "data": {
      "image/png": "[encoded data removed]",
      "text/plain": [
       "<Figure size 432x288 with 1 Axes>"
      ]
     },
     "metadata": {
      "needs_background": "light"
     },
     "output_type": "display_data"
    }
   ],
   "source": [
    "X_train,X_test, y_train, y_test= train_test_split(x,Y,random_state=42, test_size=.3)\n",
    "# create a set of k values and an empty list for training and testing accuracy scores\n",
    "k_values=[1,2,3,4,5,6,7,8,9,10]\n",
    "train_scores=[]\n",
    "test_scores=[]\n",
    "# instantiate the model \n",
    "k_nn=knn()\n",
    "# create a for loop of models with different k's \n",
    "\n",
    "for k in k_values: \n",
    "  k_nn.n_neighbors=k \n",
    "  k_nn.fit(X_train,y_train)\n",
    "  train_score=k_nn.score(X_train,y_train)\n",
    "  test_score=k_nn.score(X_test,y_test)\n",
    "  train_scores.append(train_score)\n",
    "  test_scores.append(test_score)\n",
    "\n",
    "plt.plot(k_values,train_scores, color='red',label='Training Accuracy')\n",
    "plt.plot(k_values,test_scores, color='blue',label='Testing Accuracy')\n",
    "plt.xlabel('K values')\n",
    "plt.ylabel('Accuracy Score')\n",
    "plt.title('Performace Under Varying K Values')    "
   ]
  },
  {
   "cell_type": "code",
   "execution_count": null,
   "id": "3700215d",
   "metadata": {},
   "outputs": [],
   "source": []
  },
  {
   "cell_type": "code",
   "execution_count": null,
   "id": "f7ffdc29",
   "metadata": {},
   "outputs": [],
   "source": []
  }
 ],
 "metadata": {
  "kernelspec": {
   "display_name": "Python 3",
   "language": "python",
   "name": "python3"
  },
  "language_info": {
   "codemirror_mode": {
    "name": "ipython",
    "version": 3
   },
   "file_extension": ".py",
   "mimetype": "text/x-python",
   "name": "python",
   "nbconvert_exporter": "python",
   "pygments_lexer": "ipython3",
   "version": "3.8.8"
  }
 },
 "nbformat": 4,
 "nbformat_minor": 5
}
